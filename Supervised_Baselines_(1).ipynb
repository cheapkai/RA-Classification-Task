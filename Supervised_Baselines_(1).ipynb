{
  "cells": [
    {
      "cell_type": "markdown",
      "metadata": {
        "id": "YCQpMpneAbJ7"
      },
      "source": [
        "# **Drive Setup**"
      ]
    },
    {
      "cell_type": "code",
      "execution_count": 1,
      "metadata": {
        "colab": {
          "base_uri": "https://localhost:8080/"
        },
        "id": "nFOzIz0BP0L6",
        "outputId": "841727c2-2d73-4ee0-c116-4c9918b62583"
      },
      "outputs": [
        {
          "output_type": "stream",
          "name": "stdout",
          "text": [
            "Mounted at /content/drive\n"
          ]
        }
      ],
      "source": [
        "from google.colab import drive\n",
        "drive.mount('/content/drive', force_remount=True)"
      ]
    },
    {
      "cell_type": "code",
      "execution_count": 2,
      "metadata": {
        "id": "XubUtkHRWJYq"
      },
      "outputs": [],
      "source": [
        "import os, sys\n",
        "nb_path = '/content/allpipinstallssymlink'\n",
        "dr_path = '/content/drive/MyDrive/Colab Notebooks'"
      ]
    },
    {
      "cell_type": "markdown",
      "metadata": {
        "id": "oABZy9Bl_n7a"
      },
      "source": [
        "# **CPU - One Time Only**"
      ]
    },
    {
      "cell_type": "code",
      "execution_count": 3,
      "metadata": {
        "id": "RE0oTWMRVn71"
      },
      "outputs": [],
      "source": [
        "#!rm -rf /content/allpipinstallssymlink\n",
        "!touch /content/allpipinstallssymlink"
      ]
    },
    {
      "cell_type": "code",
      "execution_count": 4,
      "metadata": {
        "id": "19pncVIaPlS-"
      },
      "outputs": [],
      "source": [
        "#@title Run on CPU one time only\n",
        "#import os, sys\n",
        "#nb_path = '/content'\n",
        "#dr_path = '/content/drive/MyDrive/Colab Notebooks'\n",
        "os.unlink(nb_path)\n",
        "os.symlink(dr_path, nb_path)\n",
        "sys.path.insert(0, nb_path)  # or append(nb_path)\n",
        "#sys.path.append(dr_path)"
      ]
    },
    {
      "cell_type": "code",
      "execution_count": 5,
      "metadata": {
        "colab": {
          "base_uri": "https://localhost:8080/",
          "height": 0
        },
        "id": "S-pTspdwYZeT",
        "outputId": "7fe643db-3c1b-4dde-c5bc-5ece2fb00c5b"
      },
      "outputs": [
        {
          "metadata": {
            "tags": null
          },
          "name": "stdout",
          "output_type": "stream",
          "text": [
            "Collecting nilearn\n",
            "  Using cached nilearn-0.9.0-py3-none-any.whl (10.1 MB)\n",
            "Collecting scikit-learn>=0.21\n",
            "  Using cached scikit_learn-1.0.2-cp37-cp37m-manylinux_2_17_x86_64.manylinux2014_x86_64.whl (24.8 MB)\n",
            "Collecting scipy>=1.2\n",
            "  Using cached scipy-1.7.3-cp37-cp37m-manylinux_2_12_x86_64.manylinux2010_x86_64.whl (38.1 MB)\n",
            "Collecting requests>=2\n",
            "  Using cached requests-2.27.1-py2.py3-none-any.whl (63 kB)\n",
            "Collecting joblib>=0.12\n",
            "  Using cached joblib-1.1.0-py2.py3-none-any.whl (306 kB)\n",
            "Collecting pandas>=0.24.0\n",
            "  Using cached pandas-1.3.5-cp37-cp37m-manylinux_2_17_x86_64.manylinux2014_x86_64.whl (11.3 MB)\n",
            "Collecting numpy>=1.16\n",
            "  Using cached numpy-1.21.5-cp37-cp37m-manylinux_2_12_x86_64.manylinux2010_x86_64.whl (15.7 MB)\n",
            "Collecting nibabel>=2.5\n",
            "  Using cached nibabel-3.2.2-py3-none-any.whl (3.3 MB)\n",
            "Collecting packaging>=14.3\n",
            "  Using cached packaging-21.3-py3-none-any.whl (40 kB)\n",
            "Collecting setuptools\n",
            "  Using cached setuptools-60.9.3-py3-none-any.whl (1.1 MB)\n",
            "Collecting pyparsing!=3.0.5,>=2.0.2\n",
            "  Using cached pyparsing-3.0.7-py3-none-any.whl (98 kB)\n",
            "Collecting pytz>=2017.3\n",
            "  Using cached pytz-2021.3-py2.py3-none-any.whl (503 kB)\n",
            "Collecting python-dateutil>=2.7.3\n",
            "  Using cached python_dateutil-2.8.2-py2.py3-none-any.whl (247 kB)\n",
            "Collecting six>=1.5\n",
            "  Using cached six-1.16.0-py2.py3-none-any.whl (11 kB)\n",
            "Collecting idna<4,>=2.5\n",
            "  Using cached idna-3.3-py3-none-any.whl (61 kB)\n",
            "Collecting urllib3<1.27,>=1.21.1\n",
            "  Using cached urllib3-1.26.8-py2.py3-none-any.whl (138 kB)\n",
            "Collecting charset-normalizer~=2.0.0\n",
            "  Using cached charset_normalizer-2.0.12-py3-none-any.whl (39 kB)\n",
            "Collecting certifi>=2017.4.17\n",
            "  Using cached certifi-2021.10.8-py2.py3-none-any.whl (149 kB)\n",
            "Collecting threadpoolctl>=2.0.0\n",
            "  Using cached threadpoolctl-3.1.0-py3-none-any.whl (14 kB)\n",
            "Installing collected packages: six, pyparsing, numpy, urllib3, threadpoolctl, setuptools, scipy, pytz, python-dateutil, packaging, joblib, idna, charset-normalizer, certifi, scikit-learn, requests, pandas, nibabel, nilearn\n",
            "\u001b[31mERROR: pip's dependency resolver does not currently take into account all the packages that are installed. This behaviour is the source of the following dependency conflicts.\n",
            "tensorflow 2.8.0 requires tf-estimator-nightly==2.8.0.dev2021122109, which is not installed.\n",
            "google-colab 1.0.0 requires requests~=2.23.0, but you have requests 2.27.1 which is incompatible.\n",
            "google-colab 1.0.0 requires six~=1.15.0, but you have six 1.16.0 which is incompatible.\n",
            "datascience 0.10.6 requires folium==0.2.1, but you have folium 0.8.3 which is incompatible.\n",
            "albumentations 0.1.12 requires imgaug<0.2.7,>=0.2.5, but you have imgaug 0.2.9 which is incompatible.\u001b[0m\n",
            "Successfully installed certifi-2021.10.8 charset-normalizer-2.0.12 idna-3.3 joblib-1.1.0 nibabel-3.2.2 nilearn-0.9.0 numpy-1.21.5 packaging-21.3 pandas-1.3.5 pyparsing-3.0.7 python-dateutil-2.8.2 pytz-2021.3 requests-2.27.1 scikit-learn-1.0.2 scipy-1.7.3 setuptools-60.9.3 six-1.16.0 threadpoolctl-3.1.0 urllib3-1.26.8\n",
            "\u001b[33mWARNING: Target directory /content/allpipinstallssymlink/scipy already exists. Specify --upgrade to force replacement.\u001b[0m\n",
            "\u001b[33mWARNING: Target directory /content/allpipinstallssymlink/scipy.libs already exists. Specify --upgrade to force replacement.\u001b[0m\n",
            "\u001b[33mWARNING: Target directory /content/allpipinstallssymlink/numpy.libs already exists. Specify --upgrade to force replacement.\u001b[0m\n",
            "\u001b[33mWARNING: Target directory /content/allpipinstallssymlink/numpy-1.21.5.dist-info already exists. Specify --upgrade to force replacement.\u001b[0m\n",
            "\u001b[33mWARNING: Target directory /content/allpipinstallssymlink/six-1.16.0.dist-info already exists. Specify --upgrade to force replacement.\u001b[0m\n",
            "\u001b[33mWARNING: Target directory /content/allpipinstallssymlink/scipy-1.7.3.dist-info already exists. Specify --upgrade to force replacement.\u001b[0m\n",
            "\u001b[33mWARNING: Target directory /content/allpipinstallssymlink/setuptools already exists. Specify --upgrade to force replacement.\u001b[0m\n",
            "\u001b[33mWARNING: Target directory /content/allpipinstallssymlink/numpy already exists. Specify --upgrade to force replacement.\u001b[0m\n",
            "\u001b[33mWARNING: Target directory /content/allpipinstallssymlink/requests already exists. Specify --upgrade to force replacement.\u001b[0m\n",
            "\u001b[33mWARNING: Target directory /content/allpipinstallssymlink/pytz already exists. Specify --upgrade to force replacement.\u001b[0m\n",
            "\u001b[33mWARNING: Target directory /content/allpipinstallssymlink/pandas already exists. Specify --upgrade to force replacement.\u001b[0m\n",
            "\u001b[33mWARNING: Target directory /content/allpipinstallssymlink/charset_normalizer already exists. Specify --upgrade to force replacement.\u001b[0m\n",
            "\u001b[33mWARNING: Target directory /content/allpipinstallssymlink/joblib-1.1.0.dist-info already exists. Specify --upgrade to force replacement.\u001b[0m\n",
            "\u001b[33mWARNING: Target directory /content/allpipinstallssymlink/pkg_resources already exists. Specify --upgrade to force replacement.\u001b[0m\n",
            "\u001b[33mWARNING: Target directory /content/allpipinstallssymlink/pyparsing already exists. Specify --upgrade to force replacement.\u001b[0m\n",
            "\u001b[33mWARNING: Target directory /content/allpipinstallssymlink/nibabel-3.2.2.dist-info already exists. Specify --upgrade to force replacement.\u001b[0m\n",
            "\u001b[33mWARNING: Target directory /content/allpipinstallssymlink/pytz-2021.3.dist-info already exists. Specify --upgrade to force replacement.\u001b[0m\n",
            "\u001b[33mWARNING: Target directory /content/allpipinstallssymlink/requests-2.27.1.dist-info already exists. Specify --upgrade to force replacement.\u001b[0m\n",
            "\u001b[33mWARNING: Target directory /content/allpipinstallssymlink/idna-3.3.dist-info already exists. Specify --upgrade to force replacement.\u001b[0m\n",
            "\u001b[33mWARNING: Target directory /content/allpipinstallssymlink/setuptools-60.9.3.dist-info already exists. Specify --upgrade to force replacement.\u001b[0m\n",
            "\u001b[33mWARNING: Target directory /content/allpipinstallssymlink/threadpoolctl.py already exists. Specify --upgrade to force replacement.\u001b[0m\n",
            "\u001b[33mWARNING: Target directory /content/allpipinstallssymlink/nisext already exists. Specify --upgrade to force replacement.\u001b[0m\n",
            "\u001b[33mWARNING: Target directory /content/allpipinstallssymlink/__pycache__ already exists. Specify --upgrade to force replacement.\u001b[0m\n",
            "\u001b[33mWARNING: Target directory /content/allpipinstallssymlink/urllib3-1.26.8.dist-info already exists. Specify --upgrade to force replacement.\u001b[0m\n",
            "\u001b[33mWARNING: Target directory /content/allpipinstallssymlink/nibabel already exists. Specify --upgrade to force replacement.\u001b[0m\n",
            "\u001b[33mWARNING: Target directory /content/allpipinstallssymlink/_distutils_hack already exists. Specify --upgrade to force replacement.\u001b[0m\n",
            "\u001b[33mWARNING: Target directory /content/allpipinstallssymlink/sklearn already exists. Specify --upgrade to force replacement.\u001b[0m\n",
            "\u001b[33mWARNING: Target directory /content/allpipinstallssymlink/certifi-2021.10.8.dist-info already exists. Specify --upgrade to force replacement.\u001b[0m\n",
            "\u001b[33mWARNING: Target directory /content/allpipinstallssymlink/nilearn already exists. Specify --upgrade to force replacement.\u001b[0m\n",
            "\u001b[33mWARNING: Target directory /content/allpipinstallssymlink/dateutil already exists. Specify --upgrade to force replacement.\u001b[0m\n",
            "\u001b[33mWARNING: Target directory /content/allpipinstallssymlink/scikit_learn-1.0.2.dist-info already exists. Specify --upgrade to force replacement.\u001b[0m\n",
            "\u001b[33mWARNING: Target directory /content/allpipinstallssymlink/charset_normalizer-2.0.12.dist-info already exists. Specify --upgrade to force replacement.\u001b[0m\n",
            "\u001b[33mWARNING: Target directory /content/allpipinstallssymlink/threadpoolctl-3.1.0.dist-info already exists. Specify --upgrade to force replacement.\u001b[0m\n",
            "\u001b[33mWARNING: Target directory /content/allpipinstallssymlink/idna already exists. Specify --upgrade to force replacement.\u001b[0m\n",
            "\u001b[33mWARNING: Target directory /content/allpipinstallssymlink/packaging-21.3.dist-info already exists. Specify --upgrade to force replacement.\u001b[0m\n",
            "\u001b[33mWARNING: Target directory /content/allpipinstallssymlink/pandas-1.3.5.dist-info already exists. Specify --upgrade to force replacement.\u001b[0m\n",
            "\u001b[33mWARNING: Target directory /content/allpipinstallssymlink/joblib already exists. Specify --upgrade to force replacement.\u001b[0m\n",
            "\u001b[33mWARNING: Target directory /content/allpipinstallssymlink/six.py already exists. Specify --upgrade to force replacement.\u001b[0m\n",
            "\u001b[33mWARNING: Target directory /content/allpipinstallssymlink/distutils-precedence.pth already exists. Specify --upgrade to force replacement.\u001b[0m\n",
            "\u001b[33mWARNING: Target directory /content/allpipinstallssymlink/nilearn-0.9.0.dist-info already exists. Specify --upgrade to force replacement.\u001b[0m\n",
            "\u001b[33mWARNING: Target directory /content/allpipinstallssymlink/pyparsing-3.0.7.dist-info already exists. Specify --upgrade to force replacement.\u001b[0m\n",
            "\u001b[33mWARNING: Target directory /content/allpipinstallssymlink/python_dateutil-2.8.2.dist-info already exists. Specify --upgrade to force replacement.\u001b[0m\n",
            "\u001b[33mWARNING: Target directory /content/allpipinstallssymlink/urllib3 already exists. Specify --upgrade to force replacement.\u001b[0m\n",
            "\u001b[33mWARNING: Target directory /content/allpipinstallssymlink/certifi already exists. Specify --upgrade to force replacement.\u001b[0m\n",
            "\u001b[33mWARNING: Target directory /content/allpipinstallssymlink/scikit_learn.libs already exists. Specify --upgrade to force replacement.\u001b[0m\n",
            "\u001b[33mWARNING: Target directory /content/allpipinstallssymlink/packaging already exists. Specify --upgrade to force replacement.\u001b[0m\n",
            "\u001b[33mWARNING: Target directory /content/allpipinstallssymlink/bin already exists. Specify --upgrade to force replacement.\u001b[0m\n"
          ]
        },
        {
          "data": {
            "application/vnd.colab-display-data+json": {
              "pip_warning": {
                "packages": [
                  "dateutil",
                  "numpy",
                  "packaging",
                  "pandas",
                  "pyparsing"
                ]
              }
            }
          },
          "metadata": {},
          "output_type": "display_data"
        },
        {
          "metadata": {
            "tags": null
          },
          "name": "stdout",
          "output_type": "stream",
          "text": [
            "Collecting simpleitk\n",
            "  Using cached SimpleITK-2.1.1-cp37-cp37m-manylinux_2_12_x86_64.manylinux2010_x86_64.whl (48.4 MB)\n",
            "Installing collected packages: simpleitk\n",
            "Successfully installed simpleitk-2.1.1\n",
            "\u001b[33mWARNING: Target directory /content/allpipinstallssymlink/SimpleITK-2.1.1.dist-info already exists. Specify --upgrade to force replacement.\u001b[0m\n",
            "\u001b[33mWARNING: Target directory /content/allpipinstallssymlink/SimpleITK already exists. Specify --upgrade to force replacement.\u001b[0m\n",
            "Collecting tensorboardX\n",
            "  Using cached tensorboardX-2.4.1-py2.py3-none-any.whl (124 kB)\n",
            "Collecting numpy\n",
            "  Using cached numpy-1.21.5-cp37-cp37m-manylinux_2_12_x86_64.manylinux2010_x86_64.whl (15.7 MB)\n",
            "Collecting protobuf>=3.8.0\n",
            "  Using cached protobuf-3.19.4-cp37-cp37m-manylinux_2_17_x86_64.manylinux2014_x86_64.whl (1.1 MB)\n",
            "Installing collected packages: protobuf, numpy, tensorboardX\n",
            "\u001b[31mERROR: pip's dependency resolver does not currently take into account all the packages that are installed. This behaviour is the source of the following dependency conflicts.\n",
            "tensorflow 2.8.0 requires tf-estimator-nightly==2.8.0.dev2021122109, which is not installed.\n",
            "datascience 0.10.6 requires folium==0.2.1, but you have folium 0.8.3 which is incompatible.\n",
            "albumentations 0.1.12 requires imgaug<0.2.7,>=0.2.5, but you have imgaug 0.2.9 which is incompatible.\u001b[0m\n",
            "Successfully installed numpy-1.21.5 protobuf-3.19.4 tensorboardX-2.4.1\n",
            "\u001b[33mWARNING: Target directory /content/allpipinstallssymlink/numpy.libs already exists. Specify --upgrade to force replacement.\u001b[0m\n",
            "\u001b[33mWARNING: Target directory /content/allpipinstallssymlink/numpy-1.21.5.dist-info already exists. Specify --upgrade to force replacement.\u001b[0m\n",
            "\u001b[33mWARNING: Target directory /content/allpipinstallssymlink/numpy already exists. Specify --upgrade to force replacement.\u001b[0m\n",
            "\u001b[33mWARNING: Target directory /content/allpipinstallssymlink/tensorboardX already exists. Specify --upgrade to force replacement.\u001b[0m\n",
            "\u001b[33mWARNING: Target directory /content/allpipinstallssymlink/google already exists. Specify --upgrade to force replacement.\u001b[0m\n",
            "\u001b[33mWARNING: Target directory /content/allpipinstallssymlink/tensorboardX-2.4.1.dist-info already exists. Specify --upgrade to force replacement.\u001b[0m\n",
            "\u001b[33mWARNING: Target directory /content/allpipinstallssymlink/protobuf-3.19.4-py3.7-nspkg.pth already exists. Specify --upgrade to force replacement.\u001b[0m\n",
            "\u001b[33mWARNING: Target directory /content/allpipinstallssymlink/protobuf-3.19.4.dist-info already exists. Specify --upgrade to force replacement.\u001b[0m\n",
            "\u001b[33mWARNING: Target directory /content/allpipinstallssymlink/bin already exists. Specify --upgrade to force replacement.\u001b[0m\n"
          ]
        },
        {
          "data": {
            "application/vnd.colab-display-data+json": {
              "pip_warning": {
                "packages": [
                  "numpy"
                ]
              }
            }
          },
          "metadata": {},
          "output_type": "display_data"
        },
        {
          "metadata": {
            "tags": null
          },
          "name": "stdout",
          "output_type": "stream",
          "text": [
            "Collecting sacred\n",
            "  Using cached sacred-0.8.2-py2.py3-none-any.whl (106 kB)\n",
            "Collecting py-cpuinfo>=4.0\n",
            "  Using cached py_cpuinfo-8.0.0-py3-none-any.whl\n",
            "Collecting munch<3.0,>=2.0.2\n",
            "  Using cached munch-2.5.0-py2.py3-none-any.whl (10 kB)\n",
            "Collecting jsonpickle<2.0,>=1.2\n",
            "  Using cached jsonpickle-1.5.2-py2.py3-none-any.whl (37 kB)\n",
            "Collecting docopt<1.0,>=0.3\n",
            "  Using cached docopt-0.6.2-py2.py3-none-any.whl\n",
            "Collecting packaging>=18.0\n",
            "  Using cached packaging-21.3-py3-none-any.whl (40 kB)\n",
            "Collecting colorama>=0.4\n",
            "  Using cached colorama-0.4.4-py2.py3-none-any.whl (16 kB)\n",
            "Collecting wrapt<2.0,>=1.0\n",
            "  Using cached wrapt-1.13.3-cp37-cp37m-manylinux_2_5_x86_64.manylinux1_x86_64.manylinux_2_12_x86_64.manylinux2010_x86_64.whl (79 kB)\n",
            "Collecting GitPython\n",
            "  Using cached GitPython-3.1.27-py3-none-any.whl (181 kB)\n",
            "Collecting importlib-metadata\n",
            "  Using cached importlib_metadata-4.11.1-py3-none-any.whl (17 kB)\n",
            "Collecting six\n",
            "  Using cached six-1.16.0-py2.py3-none-any.whl (11 kB)\n",
            "Collecting pyparsing!=3.0.5,>=2.0.2\n",
            "  Using cached pyparsing-3.0.7-py3-none-any.whl (98 kB)\n",
            "Collecting typing-extensions>=3.7.4.3\n",
            "  Using cached typing_extensions-4.1.1-py3-none-any.whl (26 kB)\n",
            "Collecting gitdb<5,>=4.0.1\n",
            "  Using cached gitdb-4.0.9-py3-none-any.whl (63 kB)\n",
            "Collecting smmap<6,>=3.0.1\n",
            "  Using cached smmap-5.0.0-py3-none-any.whl (24 kB)\n",
            "Collecting zipp>=0.5\n",
            "  Using cached zipp-3.7.0-py3-none-any.whl (5.3 kB)\n",
            "Installing collected packages: zipp, typing-extensions, smmap, six, pyparsing, importlib-metadata, gitdb, wrapt, py-cpuinfo, packaging, munch, jsonpickle, GitPython, docopt, colorama, sacred\n",
            "\u001b[31mERROR: pip's dependency resolver does not currently take into account all the packages that are installed. This behaviour is the source of the following dependency conflicts.\n",
            "tensorflow 2.8.0 requires tf-estimator-nightly==2.8.0.dev2021122109, which is not installed.\n",
            "google-colab 1.0.0 requires six~=1.15.0, but you have six 1.16.0 which is incompatible.\n",
            "datascience 0.10.6 requires folium==0.2.1, but you have folium 0.8.3 which is incompatible.\n",
            "arviz 0.11.4 requires typing-extensions<4,>=3.7.4.3, but you have typing-extensions 4.1.1 which is incompatible.\n",
            "albumentations 0.1.12 requires imgaug<0.2.7,>=0.2.5, but you have imgaug 0.2.9 which is incompatible.\u001b[0m\n",
            "Successfully installed GitPython-3.1.27 colorama-0.4.4 docopt-0.6.2 gitdb-4.0.9 importlib-metadata-4.11.1 jsonpickle-1.5.2 munch-2.5.0 packaging-21.3 py-cpuinfo-8.0.0 pyparsing-3.0.7 sacred-0.8.2 six-1.16.0 smmap-5.0.0 typing-extensions-4.1.1 wrapt-1.13.3 zipp-3.7.0\n",
            "\u001b[33mWARNING: Target directory /content/allpipinstallssymlink/wrapt-1.13.3.dist-info already exists. Specify --upgrade to force replacement.\u001b[0m\n",
            "\u001b[33mWARNING: Target directory /content/allpipinstallssymlink/six-1.16.0.dist-info already exists. Specify --upgrade to force replacement.\u001b[0m\n",
            "\u001b[33mWARNING: Target directory /content/allpipinstallssymlink/smmap-5.0.0.dist-info already exists. Specify --upgrade to force replacement.\u001b[0m\n",
            "\u001b[33mWARNING: Target directory /content/allpipinstallssymlink/wrapt already exists. Specify --upgrade to force replacement.\u001b[0m\n",
            "\u001b[33mWARNING: Target directory /content/allpipinstallssymlink/docopt.py already exists. Specify --upgrade to force replacement.\u001b[0m\n",
            "\u001b[33mWARNING: Target directory /content/allpipinstallssymlink/typing_extensions-4.1.1.dist-info already exists. Specify --upgrade to force replacement.\u001b[0m\n",
            "\u001b[33mWARNING: Target directory /content/allpipinstallssymlink/pyparsing already exists. Specify --upgrade to force replacement.\u001b[0m\n",
            "\u001b[33mWARNING: Target directory /content/allpipinstallssymlink/importlib_metadata already exists. Specify --upgrade to force replacement.\u001b[0m\n",
            "\u001b[33mWARNING: Target directory /content/allpipinstallssymlink/docopt-0.6.2.dist-info already exists. Specify --upgrade to force replacement.\u001b[0m\n",
            "\u001b[33mWARNING: Target directory /content/allpipinstallssymlink/colorama already exists. Specify --upgrade to force replacement.\u001b[0m\n",
            "\u001b[33mWARNING: Target directory /content/allpipinstallssymlink/GitPython-3.1.27.dist-info already exists. Specify --upgrade to force replacement.\u001b[0m\n",
            "\u001b[33mWARNING: Target directory /content/allpipinstallssymlink/jsonpickle-1.5.2.dist-info already exists. Specify --upgrade to force replacement.\u001b[0m\n",
            "\u001b[33mWARNING: Target directory /content/allpipinstallssymlink/sacred-0.8.2.dist-info already exists. Specify --upgrade to force replacement.\u001b[0m\n",
            "\u001b[33mWARNING: Target directory /content/allpipinstallssymlink/munch-2.5.0.dist-info already exists. Specify --upgrade to force replacement.\u001b[0m\n",
            "\u001b[33mWARNING: Target directory /content/allpipinstallssymlink/munch already exists. Specify --upgrade to force replacement.\u001b[0m\n",
            "\u001b[33mWARNING: Target directory /content/allpipinstallssymlink/__pycache__ already exists. Specify --upgrade to force replacement.\u001b[0m\n",
            "\u001b[33mWARNING: Target directory /content/allpipinstallssymlink/zipp.py already exists. Specify --upgrade to force replacement.\u001b[0m\n",
            "\u001b[33mWARNING: Target directory /content/allpipinstallssymlink/importlib_metadata-4.11.1.dist-info already exists. Specify --upgrade to force replacement.\u001b[0m\n",
            "\u001b[33mWARNING: Target directory /content/allpipinstallssymlink/packaging-21.3.dist-info already exists. Specify --upgrade to force replacement.\u001b[0m\n",
            "\u001b[33mWARNING: Target directory /content/allpipinstallssymlink/cpuinfo already exists. Specify --upgrade to force replacement.\u001b[0m\n",
            "\u001b[33mWARNING: Target directory /content/allpipinstallssymlink/zipp-3.7.0.dist-info already exists. Specify --upgrade to force replacement.\u001b[0m\n",
            "\u001b[33mWARNING: Target directory /content/allpipinstallssymlink/git already exists. Specify --upgrade to force replacement.\u001b[0m\n",
            "\u001b[33mWARNING: Target directory /content/allpipinstallssymlink/six.py already exists. Specify --upgrade to force replacement.\u001b[0m\n",
            "\u001b[33mWARNING: Target directory /content/allpipinstallssymlink/colorama-0.4.4.dist-info already exists. Specify --upgrade to force replacement.\u001b[0m\n",
            "\u001b[33mWARNING: Target directory /content/allpipinstallssymlink/pyparsing-3.0.7.dist-info already exists. Specify --upgrade to force replacement.\u001b[0m\n",
            "\u001b[33mWARNING: Target directory /content/allpipinstallssymlink/gitdb-4.0.9.dist-info already exists. Specify --upgrade to force replacement.\u001b[0m\n",
            "\u001b[33mWARNING: Target directory /content/allpipinstallssymlink/gitdb already exists. Specify --upgrade to force replacement.\u001b[0m\n",
            "\u001b[33mWARNING: Target directory /content/allpipinstallssymlink/sacred already exists. Specify --upgrade to force replacement.\u001b[0m\n",
            "\u001b[33mWARNING: Target directory /content/allpipinstallssymlink/typing_extensions.py already exists. Specify --upgrade to force replacement.\u001b[0m\n",
            "\u001b[33mWARNING: Target directory /content/allpipinstallssymlink/smmap already exists. Specify --upgrade to force replacement.\u001b[0m\n",
            "\u001b[33mWARNING: Target directory /content/allpipinstallssymlink/jsonpickle already exists. Specify --upgrade to force replacement.\u001b[0m\n",
            "\u001b[33mWARNING: Target directory /content/allpipinstallssymlink/py_cpuinfo-8.0.0.dist-info already exists. Specify --upgrade to force replacement.\u001b[0m\n",
            "\u001b[33mWARNING: Target directory /content/allpipinstallssymlink/packaging already exists. Specify --upgrade to force replacement.\u001b[0m\n",
            "\u001b[33mWARNING: Target directory /content/allpipinstallssymlink/bin already exists. Specify --upgrade to force replacement.\u001b[0m\n"
          ]
        },
        {
          "data": {
            "application/vnd.colab-display-data+json": {
              "pip_warning": {
                "packages": [
                  "packaging",
                  "pyparsing"
                ]
              }
            }
          },
          "metadata": {},
          "output_type": "display_data"
        },
        {
          "metadata": {
            "tags": null
          },
          "name": "stdout",
          "output_type": "stream",
          "text": [
            "Collecting accelerate\n",
            "  Using cached accelerate-0.5.1-py3-none-any.whl (58 kB)\n",
            "Collecting pyyaml\n",
            "  Using cached PyYAML-6.0-cp37-cp37m-manylinux_2_5_x86_64.manylinux1_x86_64.manylinux_2_12_x86_64.manylinux2010_x86_64.whl (596 kB)\n",
            "Collecting torch>=1.4.0\n",
            "  Using cached torch-1.10.2-cp37-cp37m-manylinux1_x86_64.whl (881.9 MB)\n",
            "Collecting numpy>=1.17\n",
            "  Using cached numpy-1.21.5-cp37-cp37m-manylinux_2_12_x86_64.manylinux2010_x86_64.whl (15.7 MB)\n",
            "Collecting typing-extensions\n",
            "  Using cached typing_extensions-4.1.1-py3-none-any.whl (26 kB)\n",
            "Installing collected packages: typing-extensions, torch, pyyaml, numpy, accelerate\n",
            "\u001b[31mERROR: pip's dependency resolver does not currently take into account all the packages that are installed. This behaviour is the source of the following dependency conflicts.\n",
            "tensorflow 2.8.0 requires tf-estimator-nightly==2.8.0.dev2021122109, which is not installed.\n",
            "torchvision 0.11.1+cu111 requires torch==1.10.0, but you have torch 1.10.2 which is incompatible.\n",
            "torchtext 0.11.0 requires torch==1.10.0, but you have torch 1.10.2 which is incompatible.\n",
            "torchaudio 0.10.0+cu111 requires torch==1.10.0, but you have torch 1.10.2 which is incompatible.\n",
            "datascience 0.10.6 requires folium==0.2.1, but you have folium 0.8.3 which is incompatible.\n",
            "arviz 0.11.4 requires typing-extensions<4,>=3.7.4.3, but you have typing-extensions 4.1.1 which is incompatible.\n",
            "albumentations 0.1.12 requires imgaug<0.2.7,>=0.2.5, but you have imgaug 0.2.9 which is incompatible.\u001b[0m\n",
            "Successfully installed accelerate-0.5.1 numpy-1.21.5 pyyaml-6.0 torch-1.10.2 typing-extensions-4.1.1\n",
            "\u001b[33mWARNING: Target directory /content/allpipinstallssymlink/accelerate-0.5.1.dist-info already exists. Specify --upgrade to force replacement.\u001b[0m\n",
            "\u001b[33mWARNING: Target directory /content/allpipinstallssymlink/torch already exists. Specify --upgrade to force replacement.\u001b[0m\n",
            "\u001b[33mWARNING: Target directory /content/allpipinstallssymlink/numpy.libs already exists. Specify --upgrade to force replacement.\u001b[0m\n",
            "\u001b[33mWARNING: Target directory /content/allpipinstallssymlink/numpy-1.21.5.dist-info already exists. Specify --upgrade to force replacement.\u001b[0m\n",
            "\u001b[33mWARNING: Target directory /content/allpipinstallssymlink/caffe2 already exists. Specify --upgrade to force replacement.\u001b[0m\n",
            "\u001b[33mWARNING: Target directory /content/allpipinstallssymlink/numpy already exists. Specify --upgrade to force replacement.\u001b[0m\n",
            "\u001b[33mWARNING: Target directory /content/allpipinstallssymlink/PyYAML-6.0.dist-info already exists. Specify --upgrade to force replacement.\u001b[0m\n",
            "\u001b[33mWARNING: Target directory /content/allpipinstallssymlink/yaml already exists. Specify --upgrade to force replacement.\u001b[0m\n",
            "\u001b[33mWARNING: Target directory /content/allpipinstallssymlink/typing_extensions-4.1.1.dist-info already exists. Specify --upgrade to force replacement.\u001b[0m\n",
            "\u001b[33mWARNING: Target directory /content/allpipinstallssymlink/__pycache__ already exists. Specify --upgrade to force replacement.\u001b[0m\n",
            "\u001b[33mWARNING: Target directory /content/allpipinstallssymlink/accelerate already exists. Specify --upgrade to force replacement.\u001b[0m\n",
            "\u001b[33mWARNING: Target directory /content/allpipinstallssymlink/torch-1.10.2.dist-info already exists. Specify --upgrade to force replacement.\u001b[0m\n",
            "\u001b[33mWARNING: Target directory /content/allpipinstallssymlink/_yaml already exists. Specify --upgrade to force replacement.\u001b[0m\n",
            "\u001b[33mWARNING: Target directory /content/allpipinstallssymlink/typing_extensions.py already exists. Specify --upgrade to force replacement.\u001b[0m\n",
            "\u001b[33mWARNING: Target directory /content/allpipinstallssymlink/bin already exists. Specify --upgrade to force replacement.\u001b[0m\n"
          ]
        },
        {
          "data": {
            "application/vnd.colab-display-data+json": {
              "pip_warning": {
                "packages": [
                  "numpy"
                ]
              }
            }
          },
          "metadata": {},
          "output_type": "display_data"
        },
        {
          "metadata": {
            "tags": null
          },
          "name": "stdout",
          "output_type": "stream",
          "text": [
            "Collecting munch\n",
            "  Using cached munch-2.5.0-py2.py3-none-any.whl (10 kB)\n",
            "Collecting six\n",
            "  Using cached six-1.16.0-py2.py3-none-any.whl (11 kB)\n",
            "Installing collected packages: six, munch\n",
            "\u001b[31mERROR: pip's dependency resolver does not currently take into account all the packages that are installed. This behaviour is the source of the following dependency conflicts.\n",
            "tensorflow 2.8.0 requires tf-estimator-nightly==2.8.0.dev2021122109, which is not installed.\n",
            "google-colab 1.0.0 requires six~=1.15.0, but you have six 1.16.0 which is incompatible.\n",
            "datascience 0.10.6 requires folium==0.2.1, but you have folium 0.8.3 which is incompatible.\n",
            "albumentations 0.1.12 requires imgaug<0.2.7,>=0.2.5, but you have imgaug 0.2.9 which is incompatible.\u001b[0m\n",
            "Successfully installed munch-2.5.0 six-1.16.0\n",
            "\u001b[33mWARNING: Target directory /content/allpipinstallssymlink/six-1.16.0.dist-info already exists. Specify --upgrade to force replacement.\u001b[0m\n",
            "\u001b[33mWARNING: Target directory /content/allpipinstallssymlink/munch-2.5.0.dist-info already exists. Specify --upgrade to force replacement.\u001b[0m\n",
            "\u001b[33mWARNING: Target directory /content/allpipinstallssymlink/munch already exists. Specify --upgrade to force replacement.\u001b[0m\n",
            "\u001b[33mWARNING: Target directory /content/allpipinstallssymlink/__pycache__ already exists. Specify --upgrade to force replacement.\u001b[0m\n",
            "\u001b[33mWARNING: Target directory /content/allpipinstallssymlink/six.py already exists. Specify --upgrade to force replacement.\u001b[0m\n",
            "Collecting ipdb\n",
            "  Using cached ipdb-0.13.9-py3-none-any.whl\n",
            "Collecting toml>=0.10.2\n",
            "  Using cached toml-0.10.2-py2.py3-none-any.whl (16 kB)\n",
            "Collecting decorator\n",
            "  Using cached decorator-5.1.1-py3-none-any.whl (9.1 kB)\n",
            "Collecting setuptools\n",
            "  Using cached setuptools-60.9.3-py3-none-any.whl (1.1 MB)\n",
            "Collecting ipython>=7.17.0\n",
            "  Using cached ipython-7.31.1-py3-none-any.whl (792 kB)\n",
            "Collecting traitlets>=4.2\n",
            "  Using cached traitlets-5.1.1-py3-none-any.whl (102 kB)\n",
            "Collecting pickleshare\n",
            "  Using cached pickleshare-0.7.5-py2.py3-none-any.whl (6.9 kB)\n",
            "Collecting backcall\n",
            "  Using cached backcall-0.2.0-py2.py3-none-any.whl (11 kB)\n",
            "Collecting pygments\n",
            "  Using cached Pygments-2.11.2-py3-none-any.whl (1.1 MB)\n",
            "Collecting matplotlib-inline\n",
            "  Using cached matplotlib_inline-0.1.3-py3-none-any.whl (8.2 kB)\n",
            "Collecting pexpect>4.3\n",
            "  Using cached pexpect-4.8.0-py2.py3-none-any.whl (59 kB)\n",
            "Collecting jedi>=0.16\n",
            "  Using cached jedi-0.18.1-py2.py3-none-any.whl (1.6 MB)\n",
            "Collecting prompt-toolkit!=3.0.0,!=3.0.1,<3.1.0,>=2.0.0\n",
            "  Using cached prompt_toolkit-3.0.28-py3-none-any.whl (380 kB)\n",
            "Collecting parso<0.9.0,>=0.8.0\n",
            "  Using cached parso-0.8.3-py2.py3-none-any.whl (100 kB)\n",
            "Collecting ptyprocess>=0.5\n",
            "  Using cached ptyprocess-0.7.0-py2.py3-none-any.whl (13 kB)\n",
            "Collecting wcwidth\n",
            "  Using cached wcwidth-0.2.5-py2.py3-none-any.whl (30 kB)\n",
            "Installing collected packages: wcwidth, traitlets, ptyprocess, parso, setuptools, pygments, prompt-toolkit, pickleshare, pexpect, matplotlib-inline, jedi, decorator, backcall, toml, ipython, ipdb\n",
            "\u001b[31mERROR: pip's dependency resolver does not currently take into account all the packages that are installed. This behaviour is the source of the following dependency conflicts.\n",
            "tensorflow 2.8.0 requires tf-estimator-nightly==2.8.0.dev2021122109, which is not installed.\n",
            "nbclient 0.5.10 requires jupyter-client>=6.1.5, but you have jupyter-client 5.3.5 which is incompatible.\n",
            "moviepy 0.2.3.5 requires decorator<5.0,>=4.0.2, but you have decorator 5.1.1 which is incompatible.\n",
            "jupyter-console 5.2.0 requires prompt-toolkit<2.0.0,>=1.0.0, but you have prompt-toolkit 3.0.28 which is incompatible.\n",
            "google-colab 1.0.0 requires ipython~=5.5.0, but you have ipython 7.31.1 which is incompatible.\n",
            "datascience 0.10.6 requires folium==0.2.1, but you have folium 0.8.3 which is incompatible.\u001b[0m\n",
            "Successfully installed backcall-0.2.0 decorator-5.1.1 ipdb-0.13.9 ipython-7.31.1 jedi-0.18.1 matplotlib-inline-0.1.3 parso-0.8.3 pexpect-4.8.0 pickleshare-0.7.5 prompt-toolkit-3.0.28 ptyprocess-0.7.0 pygments-2.11.2 setuptools-60.9.3 toml-0.10.2 traitlets-5.1.1 wcwidth-0.2.5\n",
            "\u001b[33mWARNING: Target directory /content/allpipinstallssymlink/jedi-0.18.1.dist-info already exists. Specify --upgrade to force replacement.\u001b[0m\n",
            "\u001b[33mWARNING: Target directory /content/allpipinstallssymlink/backcall-0.2.0.dist-info already exists. Specify --upgrade to force replacement.\u001b[0m\n",
            "\u001b[33mWARNING: Target directory /content/allpipinstallssymlink/traitlets-5.1.1.dist-info already exists. Specify --upgrade to force replacement.\u001b[0m\n",
            "\u001b[33mWARNING: Target directory /content/allpipinstallssymlink/ptyprocess-0.7.0.dist-info already exists. Specify --upgrade to force replacement.\u001b[0m\n",
            "\u001b[33mWARNING: Target directory /content/allpipinstallssymlink/IPython already exists. Specify --upgrade to force replacement.\u001b[0m\n",
            "\u001b[33mWARNING: Target directory /content/allpipinstallssymlink/setuptools already exists. Specify --upgrade to force replacement.\u001b[0m\n",
            "\u001b[33mWARNING: Target directory /content/allpipinstallssymlink/ipdb already exists. Specify --upgrade to force replacement.\u001b[0m\n",
            "\u001b[33mWARNING: Target directory /content/allpipinstallssymlink/traitlets already exists. Specify --upgrade to force replacement.\u001b[0m\n",
            "\u001b[33mWARNING: Target directory /content/allpipinstallssymlink/Pygments-2.11.2.dist-info already exists. Specify --upgrade to force replacement.\u001b[0m\n",
            "\u001b[33mWARNING: Target directory /content/allpipinstallssymlink/toml-0.10.2.dist-info already exists. Specify --upgrade to force replacement.\u001b[0m\n",
            "\u001b[33mWARNING: Target directory /content/allpipinstallssymlink/prompt_toolkit already exists. Specify --upgrade to force replacement.\u001b[0m\n",
            "\u001b[33mWARNING: Target directory /content/allpipinstallssymlink/pkg_resources already exists. Specify --upgrade to force replacement.\u001b[0m\n",
            "\u001b[33mWARNING: Target directory /content/allpipinstallssymlink/backcall already exists. Specify --upgrade to force replacement.\u001b[0m\n",
            "\u001b[33mWARNING: Target directory /content/allpipinstallssymlink/decorator-5.1.1.dist-info already exists. Specify --upgrade to force replacement.\u001b[0m\n",
            "\u001b[33mWARNING: Target directory /content/allpipinstallssymlink/pygments already exists. Specify --upgrade to force replacement.\u001b[0m\n",
            "\u001b[33mWARNING: Target directory /content/allpipinstallssymlink/parso-0.8.3.dist-info already exists. Specify --upgrade to force replacement.\u001b[0m\n",
            "\u001b[33mWARNING: Target directory /content/allpipinstallssymlink/toml already exists. Specify --upgrade to force replacement.\u001b[0m\n",
            "\u001b[33mWARNING: Target directory /content/allpipinstallssymlink/setuptools-60.9.3.dist-info already exists. Specify --upgrade to force replacement.\u001b[0m\n",
            "\u001b[33mWARNING: Target directory /content/allpipinstallssymlink/matplotlib_inline-0.1.3.dist-info already exists. Specify --upgrade to force replacement.\u001b[0m\n",
            "\u001b[33mWARNING: Target directory /content/allpipinstallssymlink/jedi already exists. Specify --upgrade to force replacement.\u001b[0m\n",
            "\u001b[33mWARNING: Target directory /content/allpipinstallssymlink/__pycache__ already exists. Specify --upgrade to force replacement.\u001b[0m\n",
            "\u001b[33mWARNING: Target directory /content/allpipinstallssymlink/_distutils_hack already exists. Specify --upgrade to force replacement.\u001b[0m\n",
            "\u001b[33mWARNING: Target directory /content/allpipinstallssymlink/parso already exists. Specify --upgrade to force replacement.\u001b[0m\n",
            "\u001b[33mWARNING: Target directory /content/allpipinstallssymlink/prompt_toolkit-3.0.28.dist-info already exists. Specify --upgrade to force replacement.\u001b[0m\n",
            "\u001b[33mWARNING: Target directory /content/allpipinstallssymlink/wcwidth already exists. Specify --upgrade to force replacement.\u001b[0m\n",
            "\u001b[33mWARNING: Target directory /content/allpipinstallssymlink/pexpect already exists. Specify --upgrade to force replacement.\u001b[0m\n",
            "\u001b[33mWARNING: Target directory /content/allpipinstallssymlink/ptyprocess already exists. Specify --upgrade to force replacement.\u001b[0m\n",
            "\u001b[33mWARNING: Target directory /content/allpipinstallssymlink/pickleshare-0.7.5.dist-info already exists. Specify --upgrade to force replacement.\u001b[0m\n",
            "\u001b[33mWARNING: Target directory /content/allpipinstallssymlink/wcwidth-0.2.5.dist-info already exists. Specify --upgrade to force replacement.\u001b[0m\n",
            "\u001b[33mWARNING: Target directory /content/allpipinstallssymlink/distutils-precedence.pth already exists. Specify --upgrade to force replacement.\u001b[0m\n",
            "\u001b[33mWARNING: Target directory /content/allpipinstallssymlink/ipython-7.31.1.dist-info already exists. Specify --upgrade to force replacement.\u001b[0m\n",
            "\u001b[33mWARNING: Target directory /content/allpipinstallssymlink/pexpect-4.8.0.dist-info already exists. Specify --upgrade to force replacement.\u001b[0m\n",
            "\u001b[33mWARNING: Target directory /content/allpipinstallssymlink/matplotlib_inline already exists. Specify --upgrade to force replacement.\u001b[0m\n",
            "\u001b[33mWARNING: Target directory /content/allpipinstallssymlink/ipdb-0.13.9.dist-info already exists. Specify --upgrade to force replacement.\u001b[0m\n",
            "\u001b[33mWARNING: Target directory /content/allpipinstallssymlink/decorator.py already exists. Specify --upgrade to force replacement.\u001b[0m\n",
            "\u001b[33mWARNING: Target directory /content/allpipinstallssymlink/pickleshare.py already exists. Specify --upgrade to force replacement.\u001b[0m\n",
            "\u001b[33mWARNING: Target directory /content/allpipinstallssymlink/bin already exists. Specify --upgrade to force replacement.\u001b[0m\n",
            "\u001b[33mWARNING: Target directory /content/allpipinstallssymlink/share already exists. Specify --upgrade to force replacement.\u001b[0m\n"
          ]
        },
        {
          "data": {
            "application/vnd.colab-display-data+json": {
              "pip_warning": {
                "packages": [
                  "pexpect",
                  "pickleshare",
                  "traitlets",
                  "wcwidth"
                ]
              }
            }
          },
          "metadata": {},
          "output_type": "display_data"
        },
        {
          "output_type": "stream",
          "name": "stdout",
          "text": [
            "Collecting einops\n",
            "  Using cached einops-0.4.0-py3-none-any.whl (28 kB)\n",
            "Installing collected packages: einops\n",
            "Successfully installed einops-0.4.0\n",
            "\u001b[33mWARNING: Target directory /content/allpipinstallssymlink/einops-0.4.0.dist-info already exists. Specify --upgrade to force replacement.\u001b[0m\n",
            "\u001b[33mWARNING: Target directory /content/allpipinstallssymlink/einops already exists. Specify --upgrade to force replacement.\u001b[0m\n",
            "Collecting vit-pytorch\n",
            "  Using cached vit_pytorch-0.26.7-py3-none-any.whl (50 kB)\n",
            "Collecting einops>=0.3\n",
            "  Using cached einops-0.4.0-py3-none-any.whl (28 kB)\n",
            "Collecting torch>=1.6\n",
            "  Using cached torch-1.10.2-cp37-cp37m-manylinux1_x86_64.whl (881.9 MB)\n",
            "Collecting torchvision\n",
            "  Using cached torchvision-0.11.3-cp37-cp37m-manylinux1_x86_64.whl (23.2 MB)\n",
            "Collecting typing-extensions\n",
            "  Using cached typing_extensions-4.1.1-py3-none-any.whl (26 kB)\n",
            "Collecting numpy\n",
            "  Using cached numpy-1.21.5-cp37-cp37m-manylinux_2_12_x86_64.manylinux2010_x86_64.whl (15.7 MB)\n",
            "Collecting pillow!=8.3.0,>=5.3.0\n",
            "  Using cached Pillow-9.0.1-cp37-cp37m-manylinux_2_17_x86_64.manylinux2014_x86_64.whl (4.3 MB)\n",
            "Installing collected packages: typing-extensions, torch, pillow, numpy, torchvision, einops, vit-pytorch\n",
            "\u001b[31mERROR: pip's dependency resolver does not currently take into account all the packages that are installed. This behaviour is the source of the following dependency conflicts.\n",
            "tensorflow 2.8.0 requires tf-estimator-nightly==2.8.0.dev2021122109, which is not installed.\n",
            "torchtext 0.11.0 requires torch==1.10.0, but you have torch 1.10.2 which is incompatible.\n",
            "torchaudio 0.10.0+cu111 requires torch==1.10.0, but you have torch 1.10.2 which is incompatible.\n",
            "datascience 0.10.6 requires folium==0.2.1, but you have folium 0.8.3 which is incompatible.\n",
            "arviz 0.11.4 requires typing-extensions<4,>=3.7.4.3, but you have typing-extensions 4.1.1 which is incompatible.\n",
            "albumentations 0.1.12 requires imgaug<0.2.7,>=0.2.5, but you have imgaug 0.2.9 which is incompatible.\u001b[0m\n",
            "Successfully installed einops-0.4.0 numpy-1.21.5 pillow-9.0.1 torch-1.10.2 torchvision-0.11.3 typing-extensions-4.1.1 vit-pytorch-0.26.7\n",
            "\u001b[33mWARNING: Target directory /content/allpipinstallssymlink/torch already exists. Specify --upgrade to force replacement.\u001b[0m\n",
            "\u001b[33mWARNING: Target directory /content/allpipinstallssymlink/numpy.libs already exists. Specify --upgrade to force replacement.\u001b[0m\n",
            "\u001b[33mWARNING: Target directory /content/allpipinstallssymlink/numpy-1.21.5.dist-info already exists. Specify --upgrade to force replacement.\u001b[0m\n",
            "\u001b[33mWARNING: Target directory /content/allpipinstallssymlink/torchvision already exists. Specify --upgrade to force replacement.\u001b[0m\n",
            "\u001b[33mWARNING: Target directory /content/allpipinstallssymlink/caffe2 already exists. Specify --upgrade to force replacement.\u001b[0m\n",
            "\u001b[33mWARNING: Target directory /content/allpipinstallssymlink/numpy already exists. Specify --upgrade to force replacement.\u001b[0m\n",
            "\u001b[33mWARNING: Target directory /content/allpipinstallssymlink/typing_extensions-4.1.1.dist-info already exists. Specify --upgrade to force replacement.\u001b[0m\n",
            "\u001b[33mWARNING: Target directory /content/allpipinstallssymlink/vit_pytorch already exists. Specify --upgrade to force replacement.\u001b[0m\n",
            "\u001b[33mWARNING: Target directory /content/allpipinstallssymlink/PIL already exists. Specify --upgrade to force replacement.\u001b[0m\n",
            "\u001b[33mWARNING: Target directory /content/allpipinstallssymlink/Pillow-9.0.1.dist-info already exists. Specify --upgrade to force replacement.\u001b[0m\n",
            "\u001b[33mWARNING: Target directory /content/allpipinstallssymlink/einops-0.4.0.dist-info already exists. Specify --upgrade to force replacement.\u001b[0m\n",
            "\u001b[33mWARNING: Target directory /content/allpipinstallssymlink/einops already exists. Specify --upgrade to force replacement.\u001b[0m\n",
            "\u001b[33mWARNING: Target directory /content/allpipinstallssymlink/__pycache__ already exists. Specify --upgrade to force replacement.\u001b[0m\n",
            "\u001b[33mWARNING: Target directory /content/allpipinstallssymlink/vit_pytorch-0.26.7.dist-info already exists. Specify --upgrade to force replacement.\u001b[0m\n",
            "\u001b[33mWARNING: Target directory /content/allpipinstallssymlink/torchvision.libs already exists. Specify --upgrade to force replacement.\u001b[0m\n",
            "\u001b[33mWARNING: Target directory /content/allpipinstallssymlink/torch-1.10.2.dist-info already exists. Specify --upgrade to force replacement.\u001b[0m\n",
            "\u001b[33mWARNING: Target directory /content/allpipinstallssymlink/torchvision-0.11.3.dist-info already exists. Specify --upgrade to force replacement.\u001b[0m\n",
            "\u001b[33mWARNING: Target directory /content/allpipinstallssymlink/Pillow.libs already exists. Specify --upgrade to force replacement.\u001b[0m\n",
            "\u001b[33mWARNING: Target directory /content/allpipinstallssymlink/typing_extensions.py already exists. Specify --upgrade to force replacement.\u001b[0m\n",
            "\u001b[33mWARNING: Target directory /content/allpipinstallssymlink/bin already exists. Specify --upgrade to force replacement.\u001b[0m\n"
          ]
        },
        {
          "output_type": "display_data",
          "data": {
            "application/vnd.colab-display-data+json": {
              "pip_warning": {
                "packages": [
                  "numpy"
                ]
              }
            }
          },
          "metadata": {}
        },
        {
          "output_type": "stream",
          "name": "stdout",
          "text": [
            "Collecting progress\n",
            "  Using cached progress-1.6-py3-none-any.whl\n",
            "Installing collected packages: progress\n",
            "Successfully installed progress-1.6\n",
            "\u001b[33mWARNING: Target directory /content/allpipinstallssymlink/progress-1.6.dist-info already exists. Specify --upgrade to force replacement.\u001b[0m\n",
            "\u001b[33mWARNING: Target directory /content/allpipinstallssymlink/progress already exists. Specify --upgrade to force replacement.\u001b[0m\n",
            "Collecting transforms\n",
            "  Using cached transforms-0.1-py3-none-any.whl\n",
            "Installing collected packages: transforms\n",
            "Successfully installed transforms-0.1\n",
            "\u001b[33mWARNING: Target directory /content/allpipinstallssymlink/libtransforms already exists. Specify --upgrade to force replacement.\u001b[0m\n",
            "\u001b[33mWARNING: Target directory /content/allpipinstallssymlink/transforms already exists. Specify --upgrade to force replacement.\u001b[0m\n",
            "\u001b[33mWARNING: Target directory /content/allpipinstallssymlink/transforms-0.1.dist-info already exists. Specify --upgrade to force replacement.\u001b[0m\n",
            "Collecting sgmllib3k\n",
            "  Using cached sgmllib3k-1.0.0-py3-none-any.whl\n",
            "Installing collected packages: sgmllib3k\n",
            "Successfully installed sgmllib3k-1.0.0\n",
            "\u001b[33mWARNING: Target directory /content/allpipinstallssymlink/sgmllib.py already exists. Specify --upgrade to force replacement.\u001b[0m\n",
            "\u001b[33mWARNING: Target directory /content/allpipinstallssymlink/sgmllib3k-1.0.0.dist-info already exists. Specify --upgrade to force replacement.\u001b[0m\n",
            "\u001b[33mWARNING: Target directory /content/allpipinstallssymlink/__pycache__ already exists. Specify --upgrade to force replacement.\u001b[0m\n",
            "Collecting python-benedict\n",
            "  Using cached python_benedict-0.25.0-py3-none-any.whl (40 kB)\n",
            "Collecting requests<3.0.0,>=2.26.0\n",
            "  Using cached requests-2.27.1-py2.py3-none-any.whl (63 kB)\n",
            "Collecting pyyaml<7.0,>=6.0\n",
            "  Using cached PyYAML-6.0-cp37-cp37m-manylinux_2_5_x86_64.manylinux1_x86_64.manylinux_2_12_x86_64.manylinux2010_x86_64.whl (596 kB)\n",
            "Collecting ftfy<7.0.0,>=6.0.0\n",
            "  Using cached ftfy-6.1.1-py3-none-any.whl (53 kB)\n",
            "Collecting python-dateutil<3.0.0,>=2.8.0\n",
            "  Using cached python_dateutil-2.8.2-py2.py3-none-any.whl (247 kB)\n",
            "Collecting toml<1.0.0,>=0.10.2\n",
            "  Using cached toml-0.10.2-py2.py3-none-any.whl (16 kB)\n",
            "Collecting python-slugify<7.0.0,>=6.0.1\n",
            "  Using cached python_slugify-6.0.1-py2.py3-none-any.whl (9.0 kB)\n",
            "Collecting xmltodict<1.0.0,>=0.12.0\n",
            "  Using cached xmltodict-0.12.0-py2.py3-none-any.whl (9.2 kB)\n",
            "Collecting python-fsutil<1.0.0,>=0.6.0\n",
            "  Using cached python_fsutil-0.6.0-py3-none-any.whl (11 kB)\n",
            "Collecting mailchecker<5.0.0,>=4.1.0\n",
            "  Using cached mailchecker-4.1.12-py3-none-any.whl\n",
            "Collecting phonenumbers<9.0.0,>=8.12.0\n",
            "  Using cached phonenumbers-8.12.43-py2.py3-none-any.whl (2.6 MB)\n",
            "Collecting wcwidth>=0.2.5\n",
            "  Using cached wcwidth-0.2.5-py2.py3-none-any.whl (30 kB)\n",
            "Collecting six>=1.5\n",
            "  Using cached six-1.16.0-py2.py3-none-any.whl (11 kB)\n",
            "Collecting text-unidecode>=1.3\n",
            "  Using cached text_unidecode-1.3-py2.py3-none-any.whl (78 kB)\n",
            "Collecting certifi>=2017.4.17\n",
            "  Using cached certifi-2021.10.8-py2.py3-none-any.whl (149 kB)\n",
            "Collecting idna<4,>=2.5\n",
            "  Using cached idna-3.3-py3-none-any.whl (61 kB)\n",
            "Collecting charset-normalizer~=2.0.0\n",
            "  Using cached charset_normalizer-2.0.12-py3-none-any.whl (39 kB)\n",
            "Collecting urllib3<1.27,>=1.21.1\n",
            "  Using cached urllib3-1.26.8-py2.py3-none-any.whl (138 kB)\n",
            "Installing collected packages: wcwidth, urllib3, text-unidecode, six, idna, charset-normalizer, certifi, xmltodict, toml, requests, pyyaml, python-slugify, python-fsutil, python-dateutil, phonenumbers, mailchecker, ftfy, python-benedict\n",
            "\u001b[31mERROR: pip's dependency resolver does not currently take into account all the packages that are installed. This behaviour is the source of the following dependency conflicts.\n",
            "tensorflow 2.8.0 requires tf-estimator-nightly==2.8.0.dev2021122109, which is not installed.\n",
            "google-colab 1.0.0 requires requests~=2.23.0, but you have requests 2.27.1 which is incompatible.\n",
            "google-colab 1.0.0 requires six~=1.15.0, but you have six 1.16.0 which is incompatible.\n",
            "datascience 0.10.6 requires folium==0.2.1, but you have folium 0.8.3 which is incompatible.\n",
            "albumentations 0.1.12 requires imgaug<0.2.7,>=0.2.5, but you have imgaug 0.2.9 which is incompatible.\u001b[0m\n",
            "Successfully installed certifi-2021.10.8 charset-normalizer-2.0.12 ftfy-6.1.1 idna-3.3 mailchecker-4.1.12 phonenumbers-8.12.43 python-benedict-0.25.0 python-dateutil-2.8.2 python-fsutil-0.6.0 python-slugify-6.0.1 pyyaml-6.0 requests-2.27.1 six-1.16.0 text-unidecode-1.3 toml-0.10.2 urllib3-1.26.8 wcwidth-0.2.5 xmltodict-0.12.0\n",
            "\u001b[33mWARNING: Target directory /content/allpipinstallssymlink/xmltodict.py already exists. Specify --upgrade to force replacement.\u001b[0m\n",
            "\u001b[33mWARNING: Target directory /content/allpipinstallssymlink/six-1.16.0.dist-info already exists. Specify --upgrade to force replacement.\u001b[0m\n",
            "\u001b[33mWARNING: Target directory /content/allpipinstallssymlink/MailChecker.py already exists. Specify --upgrade to force replacement.\u001b[0m\n",
            "\u001b[33mWARNING: Target directory /content/allpipinstallssymlink/CHANGELOG.md already exists. Specify --upgrade to force replacement.\u001b[0m\n",
            "\u001b[33mWARNING: Target directory /content/allpipinstallssymlink/phonenumbers already exists. Specify --upgrade to force replacement.\u001b[0m\n",
            "\u001b[33mWARNING: Target directory /content/allpipinstallssymlink/benedict already exists. Specify --upgrade to force replacement.\u001b[0m\n",
            "\u001b[33mWARNING: Target directory /content/allpipinstallssymlink/python_fsutil-0.6.0.dist-info already exists. Specify --upgrade to force replacement.\u001b[0m\n",
            "\u001b[33mWARNING: Target directory /content/allpipinstallssymlink/PyYAML-6.0.dist-info already exists. Specify --upgrade to force replacement.\u001b[0m\n",
            "\u001b[33mWARNING: Target directory /content/allpipinstallssymlink/requests already exists. Specify --upgrade to force replacement.\u001b[0m\n",
            "\u001b[33mWARNING: Target directory /content/allpipinstallssymlink/text_unidecode-1.3.dist-info already exists. Specify --upgrade to force replacement.\u001b[0m\n",
            "\u001b[33mWARNING: Target directory /content/allpipinstallssymlink/charset_normalizer already exists. Specify --upgrade to force replacement.\u001b[0m\n",
            "\u001b[33mWARNING: Target directory /content/allpipinstallssymlink/README.md already exists. Specify --upgrade to force replacement.\u001b[0m\n",
            "\u001b[33mWARNING: Target directory /content/allpipinstallssymlink/yaml already exists. Specify --upgrade to force replacement.\u001b[0m\n",
            "\u001b[33mWARNING: Target directory /content/allpipinstallssymlink/python_slugify-6.0.1.dist-info already exists. Specify --upgrade to force replacement.\u001b[0m\n",
            "\u001b[33mWARNING: Target directory /content/allpipinstallssymlink/phonenumbers-8.12.43.dist-info already exists. Specify --upgrade to force replacement.\u001b[0m\n",
            "\u001b[33mWARNING: Target directory /content/allpipinstallssymlink/toml-0.10.2.dist-info already exists. Specify --upgrade to force replacement.\u001b[0m\n",
            "\u001b[33mWARNING: Target directory /content/allpipinstallssymlink/slugify already exists. Specify --upgrade to force replacement.\u001b[0m\n",
            "\u001b[33mWARNING: Target directory /content/allpipinstallssymlink/mailchecker-4.1.12.dist-info already exists. Specify --upgrade to force replacement.\u001b[0m\n",
            "\u001b[33mWARNING: Target directory /content/allpipinstallssymlink/ftfy already exists. Specify --upgrade to force replacement.\u001b[0m\n",
            "\u001b[33mWARNING: Target directory /content/allpipinstallssymlink/requests-2.27.1.dist-info already exists. Specify --upgrade to force replacement.\u001b[0m\n",
            "\u001b[33mWARNING: Target directory /content/allpipinstallssymlink/toml already exists. Specify --upgrade to force replacement.\u001b[0m\n",
            "\u001b[33mWARNING: Target directory /content/allpipinstallssymlink/idna-3.3.dist-info already exists. Specify --upgrade to force replacement.\u001b[0m\n",
            "\u001b[33mWARNING: Target directory /content/allpipinstallssymlink/ftfy-6.1.1.dist-info already exists. Specify --upgrade to force replacement.\u001b[0m\n",
            "\u001b[33mWARNING: Target directory /content/allpipinstallssymlink/text_unidecode already exists. Specify --upgrade to force replacement.\u001b[0m\n",
            "\u001b[33mWARNING: Target directory /content/allpipinstallssymlink/__pycache__ already exists. Specify --upgrade to force replacement.\u001b[0m\n",
            "\u001b[33mWARNING: Target directory /content/allpipinstallssymlink/urllib3-1.26.8.dist-info already exists. Specify --upgrade to force replacement.\u001b[0m\n",
            "\u001b[33mWARNING: Target directory /content/allpipinstallssymlink/certifi-2021.10.8.dist-info already exists. Specify --upgrade to force replacement.\u001b[0m\n",
            "\u001b[33mWARNING: Target directory /content/allpipinstallssymlink/dateutil already exists. Specify --upgrade to force replacement.\u001b[0m\n",
            "\u001b[33mWARNING: Target directory /content/allpipinstallssymlink/python_benedict-0.25.0.dist-info already exists. Specify --upgrade to force replacement.\u001b[0m\n",
            "\u001b[33mWARNING: Target directory /content/allpipinstallssymlink/xmltodict-0.12.0.dist-info already exists. Specify --upgrade to force replacement.\u001b[0m\n",
            "\u001b[33mWARNING: Target directory /content/allpipinstallssymlink/charset_normalizer-2.0.12.dist-info already exists. Specify --upgrade to force replacement.\u001b[0m\n",
            "\u001b[33mWARNING: Target directory /content/allpipinstallssymlink/idna already exists. Specify --upgrade to force replacement.\u001b[0m\n",
            "\u001b[33mWARNING: Target directory /content/allpipinstallssymlink/fsutil already exists. Specify --upgrade to force replacement.\u001b[0m\n",
            "\u001b[33mWARNING: Target directory /content/allpipinstallssymlink/wcwidth already exists. Specify --upgrade to force replacement.\u001b[0m\n",
            "\u001b[33mWARNING: Target directory /content/allpipinstallssymlink/wcwidth-0.2.5.dist-info already exists. Specify --upgrade to force replacement.\u001b[0m\n",
            "\u001b[33mWARNING: Target directory /content/allpipinstallssymlink/six.py already exists. Specify --upgrade to force replacement.\u001b[0m\n",
            "\u001b[33mWARNING: Target directory /content/allpipinstallssymlink/python_dateutil-2.8.2.dist-info already exists. Specify --upgrade to force replacement.\u001b[0m\n",
            "\u001b[33mWARNING: Target directory /content/allpipinstallssymlink/urllib3 already exists. Specify --upgrade to force replacement.\u001b[0m\n",
            "\u001b[33mWARNING: Target directory /content/allpipinstallssymlink/_yaml already exists. Specify --upgrade to force replacement.\u001b[0m\n",
            "\u001b[33mWARNING: Target directory /content/allpipinstallssymlink/certifi already exists. Specify --upgrade to force replacement.\u001b[0m\n",
            "\u001b[33mWARNING: Target directory /content/allpipinstallssymlink/bin already exists. Specify --upgrade to force replacement.\u001b[0m\n"
          ]
        },
        {
          "output_type": "display_data",
          "data": {
            "application/vnd.colab-display-data+json": {
              "pip_warning": {
                "packages": [
                  "dateutil",
                  "wcwidth"
                ]
              }
            }
          },
          "metadata": {}
        },
        {
          "output_type": "stream",
          "name": "stdout",
          "text": [
            "Obtaining file:///content/drive/MyDrive/LR2Y20Sports/LR2020Sports/efficient-vit\n",
            "Installing collected packages: efficient-vit\n",
            "  Running setup.py develop for efficient-vit\n",
            "Successfully installed efficient-vit\n",
            "\u001b[33mWARNING: Target directory /content/allpipinstallssymlink/efficient-vit.egg-link already exists. Specify --upgrade to force replacement.\u001b[0m\n",
            "\u001b[31mERROR: /content/drive/MyDrive/LR2Y20Sports/LR2020Sports/cross-efficient-vit is not a valid editable requirement. It should either be a path to a local project or a VCS URL (beginning with bzr+http, bzr+https, bzr+ssh, bzr+sftp, bzr+ftp, bzr+lp, bzr+file, git+http, git+https, git+ssh, git+git, git+file, hg+file, hg+http, hg+https, hg+ssh, hg+static-http, svn+ssh, svn+http, svn+https, svn+svn, svn+file).\u001b[0m\n"
          ]
        }
      ],
      "source": [
        "#@title All pip installs\n",
        "! pip install --target=$nb_path nilearn \n",
        "! pip install --target=$nb_path simpleitk\n",
        "! pip install --target=$nb_path tensorboardX\n",
        "! pip install --target=$nb_path sacred\n",
        "! pip install --target=$nb_path accelerate\n",
        "! pip install --target=$nb_path munch\n",
        "! pip install --target=$nb_path ipdb\n",
        "! pip install --target=$nb_path einops\n",
        "! pip install --target=$nb_path vit-pytorch\n",
        "! pip install --target=$nb_path progress\n",
        "! pip install --target=$nb_path transforms\n",
        "! pip install --target=$nb_path sgmllib3k\n",
        "! pip install --target=$nb_path python-benedict\n",
        "! pip install --target=$nb_path -e '/content/drive/MyDrive/LR2Y20Sports/LR2020Sports/efficient-vit'\n",
        "! pip install --target=$nb_path -e '/content/drive/MyDrive/LR2Y20Sports/LR2020Sports/cross-efficient-vit'\n",
        "#! pip install --target=$nb_path cross_efficient_vit --no-index --find-links /content/drive/MyDrive/LR2020Sports/cross_efficient_vit\n"
      ]
    },
    {
      "cell_type": "code",
      "execution_count": 6,
      "metadata": {
        "id": "45XKUWjTlnP9"
      },
      "outputs": [],
      "source": [
        "!pip install -q torchsummary\n",
        "!pip install -q efficientnet_pytorch\n",
        "\n",
        "# from google.colab import files\n",
        "# import os\n",
        "\n",
        "# if not os.path.exists(r\"/content/jovian-pytorch-z2g.zip\"):\n",
        "#     print(\"Please upload you kaggle.json file\")\n",
        "#     uploaded = files.upload()\n",
        "#     for fn in uploaded.keys():\n",
        "#         print('User uploaded file \"{name}\" with length {length} bytes'.format(\n",
        "#             name=fn, length=len(uploaded[fn])))\n",
        "\n",
        "#     !mkdir ~/.kaggle\n",
        "#     !cp kaggle.json ~/.kaggle/\n",
        "#     !chmod 600 /root/.kaggle/kaggle.json\n",
        "#     !kaggle competitions download -c jovian-pytorch-z2g\n",
        "#     !unzip -qq  jovian-pytorch-z2g.zip -d datasets/"
      ]
    },
    {
      "cell_type": "markdown",
      "metadata": {
        "id": "MDNadwUP_xKv"
      },
      "source": [
        "# **Everytime - GPU**"
      ]
    },
    {
      "cell_type": "code",
      "execution_count": 7,
      "metadata": {
        "colab": {
          "base_uri": "https://localhost:8080/"
        },
        "id": "LD3AaAoMXhTh",
        "outputId": "5c78fe22-e333-4dd2-8cc2-c16ba302fb07"
      },
      "outputs": [
        {
          "output_type": "stream",
          "name": "stdout",
          "text": [
            "Requirement already satisfied: munch in /usr/local/lib/python3.7/dist-packages (2.5.0)\n",
            "Requirement already satisfied: six in /usr/local/lib/python3.7/dist-packages (from munch) (1.15.0)\n"
          ]
        }
      ],
      "source": [
        "!pip install munch"
      ]
    },
    {
      "cell_type": "code",
      "execution_count": 8,
      "metadata": {
        "id": "X9DCbt6JWA59"
      },
      "outputs": [],
      "source": [
        "#@title Run code when using GPU\n",
        "sys.path.insert(0,dr_path)"
      ]
    },
    {
      "cell_type": "code",
      "execution_count": 9,
      "metadata": {
        "id": "lnC3dLYugGrj"
      },
      "outputs": [],
      "source": [
        "#@title All imports\n",
        "\n",
        "\"\"\"Training Script\"\"\"\n",
        "import os\n",
        "import shutil\n",
        "import numpy as np\n",
        "import pdb\n",
        "import random\n",
        "from benedict import benedict\n",
        "\n",
        "\n",
        "import torch\n",
        "import torch.nn as nn\n",
        "import torch.optim\n",
        "from torch.utils.data import DataLoader\n",
        "from torch.optim.lr_scheduler import MultiStepLR\n",
        "import torch.backends.cudnn as cudnn\n",
        "from torchvision.transforms import Compose\n",
        "import torchvision.transforms as transforms\n",
        "from torchvision.utils import make_grid\n",
        "from tensorboardX import SummaryWriter\n",
        "\n",
        "\"\"\"Experiment Configuration\"\"\"\n",
        "import os\n",
        "import re\n",
        "import glob\n",
        "import itertools\n",
        "\n",
        "import sacred\n",
        "from sacred import Experiment\n",
        "from sacred.observers import FileStorageObserver\n",
        "from sacred.utils import apply_backspaces_and_linefeeds\n",
        "\n",
        "\"\"\"Evaluation Script\"\"\"\n",
        "import os\n",
        "import shutil\n",
        "import pdb\n",
        "import tqdm\n",
        "import numpy as np\n",
        "import torch\n",
        "import torch.optim\n",
        "import torch.nn as nn\n",
        "from torch.utils.data import DataLoader\n",
        "import torch.backends.cudnn as cudnn\n",
        "from torchvision.utils import make_grid\n",
        "\n",
        "import sys\n",
        "import glob\n",
        "import json\n",
        "import re\n",
        "from glob import glob\n",
        "import numpy as np\n",
        "\n",
        "from nilearn import plotting\n",
        "import pylab as plt\n",
        "%matplotlib inline\n",
        "import matplotlib.pyplot as plt\n",
        "import numpy as np\n",
        "import nibabel as nb\n",
        "\n",
        "import requests\n",
        "image_url = \"https://download.pytorch.org/models/vgg16-397923af.pth\"\n",
        "  \n",
        "# URL of the image to be downloaded is defined as image_url\n",
        "r = requests.get(image_url) # create HTTP response object\n",
        "  \n",
        "# send a HTTP request to the server and save\n",
        "# the HTTP response in a response object called r\n",
        "with open(\"vgg16-397923af.pth\",'wb') as f:\n",
        "  \n",
        "    # Saving received content as a png file in\n",
        "    # binary format\n",
        "  \n",
        "    # write the contents of the response (r.content)\n",
        "    # to a new file in binary mode.\n",
        "    f.write(r.content)"
      ]
    },
    {
      "cell_type": "code",
      "execution_count": null,
      "metadata": {
        "id": "8zlQgNnoRvbv"
      },
      "outputs": [],
      "source": [
        "from tensorboardX import SummaryWriter"
      ]
    },
    {
      "cell_type": "code",
      "execution_count": null,
      "metadata": {
        "id": "lWduc227S6Vx"
      },
      "outputs": [],
      "source": [
        ""
      ]
    },
    {
      "cell_type": "markdown",
      "metadata": {
        "id": "31qUgfOV92_2"
      },
      "source": [
        "# **Data and Preprocessing - One Time Only**"
      ]
    },
    {
      "cell_type": "code",
      "execution_count": 11,
      "metadata": {
        "cellView": "form",
        "colab": {
          "base_uri": "https://localhost:8080/"
        },
        "id": "9txrgEGtKvFp",
        "outputId": "6fd6c73d-7cf1-4e29-c83c-0b9d7aa7edf4"
      },
      "outputs": [
        {
          "output_type": "stream",
          "name": "stdout",
          "text": [
            "unzip:  cannot find or open /content/drive/MyDrive/volumes 100-139.zip, /content/drive/MyDrive/volumes 100-139.zip.zip or /content/drive/MyDrive/volumes 100-139.zip.ZIP.\n",
            "unzip:  cannot find or open /content/drive/MyDrive/labels and README.zip, /content/drive/MyDrive/labels and README.zip.zip or /content/drive/MyDrive/labels and README.zip.ZIP.\n"
          ]
        }
      ],
      "source": [
        "#@title CTorg unzip\n",
        "! unzip \"/content/drive/MyDrive/volumes 100-139.zip\" -d \"/content/CTOrg\"\n",
        "! unzip \"/content/drive/MyDrive/labels and README.zip\" -d \"/content/CTOrg_Label\" "
      ]
    },
    {
      "cell_type": "code",
      "execution_count": 12,
      "metadata": {
        "cellView": "form",
        "colab": {
          "base_uri": "https://localhost:8080/"
        },
        "id": "ALkWyxrTM3TN",
        "outputId": "4629e010-19cf-4d1a-d31d-728f92e86dec"
      },
      "outputs": [
        {
          "output_type": "stream",
          "name": "stdout",
          "text": [
            "python3: can't open file '/content/ctorg.py': [Errno 2] No such file or directory\n"
          ]
        }
      ],
      "source": [
        "#@title CTorg to 2d and preprocess\n",
        "! python /content/ctorg.py"
      ]
    },
    {
      "cell_type": "code",
      "execution_count": 13,
      "metadata": {
        "id": "wZ85F3y1KFgm"
      },
      "outputs": [],
      "source": [
        "#@title Abdomen unzip\n",
        "#!unzip \"/content/drive/MyDrive/RawData.zip\" -d \"/content/Abdomen/\""
      ]
    },
    {
      "cell_type": "code",
      "execution_count": 14,
      "metadata": {
        "id": "_Up0l5XPhZ8y"
      },
      "outputs": [],
      "source": [
        "#@title abdomen to 2D and preprocess\n",
        "#! python /content/drive/MyDrive/Code/3D_medical_image_FSS-main/process/abdomen_2d.py"
      ]
    },
    {
      "cell_type": "code",
      "execution_count": 15,
      "metadata": {
        "cellView": "form",
        "id": "LZ5yLwXMKqoa"
      },
      "outputs": [],
      "source": [
        "#@title Cervix unzip\n",
        "#!unzip \"/content/drive/MyDrive/CervixRawData.zip\" -d \"/content/Cervix/\""
      ]
    },
    {
      "cell_type": "code",
      "execution_count": 16,
      "metadata": {
        "cellView": "form",
        "id": "U2Fq2Iextcvo"
      },
      "outputs": [],
      "source": [
        "#@title Cervix to 2D and preprocess\n",
        "#! python /content/drive/MyDrive/Code/3D_medical_image_FSS-main/process/cervix_2d.py"
      ]
    },
    {
      "cell_type": "markdown",
      "metadata": {
        "id": "SmohsI2n-hJy"
      },
      "source": [
        "# **Data move to GDrive - Not to be run usually**"
      ]
    },
    {
      "cell_type": "code",
      "execution_count": null,
      "metadata": {
        "id": "bwSvZOv9xEjD"
      },
      "outputs": [],
      "source": [
        "#@title Make Empty Directory - not to be run normally\n",
        "#!mkdir /content/drive/MyDrive/Code/Data"
      ]
    },
    {
      "cell_type": "code",
      "execution_count": null,
      "metadata": {
        "id": "3FgVzWsow0-Q"
      },
      "outputs": [],
      "source": [
        "#@title Move all data from content/Code/Data to GDrive Code/Data - not to be run usually\n",
        "#!mv /content/Code/Data/* /content/drive/MyDrive/Code/Data"
      ]
    },
    {
      "cell_type": "markdown",
      "metadata": {
        "id": "FQ7-CtHCpzW5"
      },
      "source": [
        "# **Check Data Location and Size ** **bold text**"
      ]
    },
    {
      "cell_type": "code",
      "execution_count": null,
      "metadata": {
        "id": "lV9ZSEWC-rkT"
      },
      "outputs": [],
      "source": [
        "# pass"
      ]
    },
    {
      "cell_type": "markdown",
      "metadata": {
        "id": "XX_V2A0k-6Xo"
      },
      "source": [
        "# **Train and Test**"
      ]
    },
    {
      "cell_type": "code",
      "execution_count": null,
      "metadata": {
        "id": "ZpK1teQSRzoB"
      },
      "outputs": [],
      "source": [
        "from tensorboardX import SummaryWriter"
      ]
    },
    {
      "cell_type": "code",
      "execution_count": null,
      "metadata": {
        "id": "x2WEVPYuZFxd"
      },
      "outputs": [],
      "source": [
        "import sacred\n",
        "import ipdb"
      ]
    },
    {
      "cell_type": "code",
      "execution_count": 13,
      "metadata": {
        "id": "lvB0xpXtHPny"
      },
      "outputs": [],
      "source": [
        "#! python /content/drive/MyDrive/Code/3D_medical_image_FSS-main/PANet/train.py"
      ]
    },
    {
      "cell_type": "code",
      "execution_count": 14,
      "metadata": {
        "id": "__SY4DNc_SwV"
      },
      "outputs": [],
      "source": [
        "#! python /content/drive/MyDrive/Code/3D_medical_image_FSS-main/FSS1000/train.py"
      ]
    },
    {
      "cell_type": "code",
      "execution_count": 15,
      "metadata": {
        "id": "r45dUrbrrXuW"
      },
      "outputs": [],
      "source": [
        "#!touch /content/drive/MyDrive/LR2Y20Sports/cross-efficient-vit/__init__.py"
      ]
    },
    {
      "cell_type": "code",
      "execution_count": 16,
      "metadata": {
        "id": "e_Jlbb52ri0C",
        "colab": {
          "base_uri": "https://localhost:8080/"
        },
        "outputId": "ac4e4952-190d-421e-acb1-3b60b9245f55"
      },
      "outputs": [
        {
          "output_type": "stream",
          "name": "stdout",
          "text": [
            "/content\n"
          ]
        }
      ],
      "source": [
        "!pwd"
      ]
    },
    {
      "cell_type": "code",
      "execution_count": 16,
      "metadata": {
        "id": "vzL55AcUbQVe"
      },
      "outputs": [],
      "source": [
        ""
      ]
    },
    {
      "cell_type": "code",
      "execution_count": 17,
      "metadata": {
        "id": "y64s6LCjZx0J"
      },
      "outputs": [],
      "source": [
        "sys.path.append('/content/drive/MyDrive/LR2Y20Sports/LR2020Sports')\n",
        "import torch\n",
        "from torch.utils.data import DataLoader, TensorDataset, Dataset\n",
        "from einops import rearrange, repeat\n",
        "from torch import nn, einsum\n",
        "import torch.nn as nn\n",
        "import torch.nn.functional as F\n",
        "from random import random, randint, choice\n",
        "from vit_pytorch import ViT\n",
        "import numpy as np\n",
        "import os\n",
        "import json\n",
        "from multiprocessing.pool import Pool\n",
        "from functools import partial\n",
        "from multiprocessing import Manager\n",
        "from progress.bar import ChargingBar\n",
        "#from cross_efficient_vit import CrossEfficientViT\n",
        "from crossWefficientWvit.crossWefficientWvit.cross_efficient_vit import CrossEfficientViT\n",
        "import uuid\n",
        "from torch.utils.data import DataLoader, TensorDataset, Dataset\n",
        "from sklearn.metrics import accuracy_score\n",
        "import cv2\n",
        "from crossWefficientWvit.crossWefficientWvit.transforms.albu import IsotropicResize\n",
        "import glob\n",
        "import pandas as pd\n",
        "from tqdm import tqdm\n",
        "from crossWefficientWvit.crossWefficientWvit.utils import get_method, check_correct, resize, shuffle_dataset, get_n_params\n",
        "from sklearn.utils.class_weight import compute_class_weight \n",
        "from torch.optim import lr_scheduler\n",
        "import collections\n",
        "#from deepfakes_dataset import DeepFakesDataset\n",
        "import math\n",
        "import yaml\n",
        "import argparse"
      ]
    },
    {
      "cell_type": "markdown",
      "metadata": {
        "id": "LMAYLkoiakKy"
      },
      "source": [
        "# **Augment Dataset - AugMix - RunOneTimeOnly**"
      ]
    },
    {
      "cell_type": "code",
      "execution_count": 18,
      "metadata": {
        "id": "kAfUn6DZai-i"
      },
      "outputs": [],
      "source": [
        "#import argparse\n",
        "import os\n",
        "import shutil\n",
        "import time\n",
        "\n",
        "import crossWefficientWvit.crossWefficientWvit.augmentations as augmentations\n",
        "from crossWefficientWvit.crossWefficientWvit.losses import SupConLoss\n",
        "\n",
        "import numpy as np\n",
        "import torch\n",
        "import torch.backends.cudnn as cudnn\n",
        "import torch.nn.functional as F\n",
        "from torchvision import datasets\n",
        "from torchvision import models\n",
        "from torchvision import transforms"
      ]
    },
    {
      "cell_type": "code",
      "source": [
        "#parser = argparse.ArgumentParser(description='Trains an ImageNet Classifier')\n",
        "'''\n",
        "parser.add_argument(\n",
        "    'clean_data', metavar='DIR', help='path to clean ImageNet dataset')\n",
        "'''\n",
        "'''\n",
        "parser.add_argument(\n",
        "    'corrupted_data', metavar='DIR_C', help='path to ImageNet-C dataset')\n",
        "'''\n",
        "'''\n",
        "parser.add_argument(\n",
        "    '--model',\n",
        "    '-m',\n",
        "    default='resnet50',\n",
        "    choices=model_names,\n",
        "    help='model architecture: ' + ' | '.join(model_names) +\n",
        "    ' (default: resnet50)')\n",
        "'''\n",
        "'''\n",
        "# Optimization options\n",
        "parser.add_argument(\n",
        "    '--epochs', '-e', type=int, default=90, help='Number of epochs to train.')\n",
        "'''\n",
        "'''\n",
        "parser.add_argument(\n",
        "    '--learning-rate',\n",
        "    '-lr',\n",
        "    type=float,\n",
        "    default=0.1,\n",
        "    help='Initial learning rate.')\n",
        "'''\n",
        "'''\n",
        "parser.add_argument(\n",
        "    '--batch-size', '-b', type=int, default=256, help='Batch size.')\n",
        "'''\n",
        "'''\n",
        "parser.add_argument('--eval-batch-size', type=int, default=1000)\n",
        "'''\n",
        "'''\n",
        "parser.add_argument('--momentum', type=float, default=0.9, help='Momentum.')\n",
        "'''\n",
        "'''\n",
        "parser.add_argument(\n",
        "    '--decay',\n",
        "    '-wd',\n",
        "    type=float,\n",
        "    default=0.0001,\n",
        "    help='Weight decay (L2 penalty).')\n",
        "'''\n",
        "# AugMix options\n",
        "'''\n",
        "parser.add_argument(\n",
        "    '--mixture-width',\n",
        "    default=3,\n",
        "    type=int,\n",
        "    help='Number of augmentation chains to mix per augmented example')\n",
        "parser.add_argument(\n",
        "    '--mixture-depth',\n",
        "    default=-1,\n",
        "    type=int,\n",
        "    help='Depth of augmentation chains. -1 denotes stochastic depth in [1, 3]')\n",
        "parser.add_argument(\n",
        "    '--aug-severity',\n",
        "    default=1,\n",
        "    type=int,\n",
        "    help='Severity of base augmentation operators')\n",
        "parser.add_argument(\n",
        "    '--aug-prob-coeff',\n",
        "    default=1.,\n",
        "    type=float,\n",
        "    help='Probability distribution coefficients')\n",
        "parser.add_argument(\n",
        "    '--no-jsd',\n",
        "    '-nj',\n",
        "    action='store_true',\n",
        "    help='Turn off JSD consistency loss.')\n",
        "parser.add_argument(\n",
        "    '--all-ops',\n",
        "    '-all',\n",
        "    action='store_true',\n",
        "    help='Turn on all operations (+brightness,contrast,color,sharpness).')\n",
        "\n",
        "'''\n",
        "'''\n",
        "# Checkpointing options\n",
        "parser.add_argument(\n",
        "    '--save',\n",
        "    '-s',\n",
        "    type=str,\n",
        "    default='./snapshots',\n",
        "    help='Folder to save checkpoints.')\n",
        "parser.add_argument(\n",
        "    '--resume',\n",
        "    '-r',\n",
        "    type=str,\n",
        "    default='',\n",
        "    help='Checkpoint path for resume / test.')\n",
        "parser.add_argument('--evaluate', action='store_true', help='Eval only.')\n",
        "parser.add_argument(\n",
        "    '--print-freq',\n",
        "    type=int,\n",
        "    default=10,\n",
        "    help='Training loss print frequency (batches).')\n",
        "parser.add_argument(\n",
        "    '--pretrained',\n",
        "    dest='pretrained',\n",
        "    action='store_true',\n",
        "    help='use pre-trained model')\n",
        "'''\n",
        "'''\n",
        "# Acceleration\n",
        "parser.add_argument(\n",
        "    '--num-workers',\n",
        "    type=int,\n",
        "    default=4,\n",
        "    help='Number of pre-fetching threads.')\n",
        "'''\n",
        "'''\n",
        "print(\"Rainbow\")\n",
        "parser.parse_args()\n",
        "#args = parser.parse_args()\n",
        "'''"
      ],
      "metadata": {
        "colab": {
          "base_uri": "https://localhost:8080/",
          "height": 0
        },
        "id": "562oU2nqukNi",
        "outputId": "fe028d28-b193-4497-f817-089db571e397"
      },
      "execution_count": 19,
      "outputs": [
        {
          "output_type": "execute_result",
          "data": {
            "application/vnd.google.colaboratory.intrinsic+json": {
              "type": "string"
            },
            "text/plain": [
              "'\\nprint(\"Rainbow\")\\nparser.parse_args()\\n#args = parser.parse_args()\\n'"
            ]
          },
          "metadata": {},
          "execution_count": 19
        }
      ]
    },
    {
      "cell_type": "code",
      "execution_count": 20,
      "metadata": {
        "id": "8siGyEaAbRPC"
      },
      "outputs": [],
      "source": [
        "augmentations.IMAGE_SIZE = 224"
      ]
    },
    {
      "cell_type": "code",
      "execution_count": 21,
      "metadata": {
        "id": "9IoBzfy2bV_D"
      },
      "outputs": [],
      "source": [
        "CORRUPTIONS = [\n",
        "    'gaussian_noise', 'shot_noise', 'impulse_noise', 'defocus_blur',\n",
        "    'glass_blur', 'motion_blur', 'zoom_blur', 'snow', 'frost', 'fog',\n",
        "    'brightness', 'contrast', 'elastic_transform', 'pixelate',\n",
        "    'jpeg_compression'\n",
        "]\n",
        "\n",
        "# Raw AlexNet errors taken from https://github.com/hendrycks/robustness\n",
        "ALEXNET_ERR = [\n",
        "    0.886428, 0.894468, 0.922640, 0.819880, 0.826268, 0.785948, 0.798360,\n",
        "    0.866816, 0.826572, 0.819324, 0.564592, 0.853204, 0.646056, 0.717840,\n",
        "    0.606500\n",
        "]\n"
      ]
    },
    {
      "cell_type": "code",
      "execution_count": 22,
      "metadata": {
        "id": "qqMNFcjxbr0b"
      },
      "outputs": [],
      "source": [
        "def aug(image, preprocess):\n",
        "  \"\"\"Perform AugMix augmentations and compute mixture.\n",
        "  Args:\n",
        "    image: PIL.Image input image\n",
        "    preprocess: Preprocessing function which should return a torch tensor.\n",
        "  Returns:\n",
        "    mixed: Augmented and mixed image.\n",
        "  \"\"\"\n",
        "  aug_list = augmentations.augmentations\n",
        "  all_ops = True\n",
        "  args = {'allops':True, 'mixturewidth':3, 'mixturedepth':-1, 'augseverity':1, 'augprobcoeff':1}\n",
        "  #print(\"args :\", args.all_ops)\n",
        "  if args['allops'] :\n",
        "    aug_list = augmentations.augmentations_all\n",
        "\n",
        "  '''\n",
        "\n",
        "  if args.all_ops:\n",
        "    pass\n",
        "  \n",
        "  '''\n",
        "\n",
        "  #ipdb.set_trace()\n",
        "\n",
        "  ws = np.float32(\n",
        "      np.random.dirichlet([args['augprobcoeff'] * args['mixturewidth']]))\n",
        "  \n",
        "  print(len(ws))\n",
        "\n",
        "  import sys\n",
        "  sys.exit() \n",
        "\n",
        "  m = np.float32(np.random.beta(args['augprobcoeff'], args['augprobcoeff']))\n",
        "\n",
        "\n",
        "\n",
        "  mix = torch.zeros_like(preprocess(image))\n",
        "  for i in range(args['mixturewidth']):\n",
        "    image_aug = image.copy()\n",
        "    depth = args['mixturedepth'] if args['mixturedepth'] > 0 else np.random.randint(\n",
        "        1, 4)\n",
        "    for _ in range(depth):\n",
        "      op = np.random.choice(aug_list)\n",
        "      image_aug = op(image_aug, args['augseverity'])\n",
        "    # Preprocessing commutes since all coefficients are convex\n",
        "    mix += ws[i] * preprocess(image_aug)\n",
        "\n",
        "  mixed = (1 - m) * preprocess(image) + m * mix\n",
        "  return mixed\n",
        "\n",
        "\n",
        "class AugMixDataset(torch.utils.data.Dataset):\n",
        "  \"\"\"Dataset wrapper to perform AugMix augmentation.\"\"\"\n",
        "\n",
        "  def __init__(self, dataset, preprocess, no_jsd=False):\n",
        "    self.dataset = dataset\n",
        "    self.preprocess = preprocess\n",
        "    self.no_jsd = no_jsd\n",
        "\n",
        "  def __getitem__(self, i):\n",
        "    x, y = self.dataset[i]\n",
        "    if self.no_jsd:\n",
        "      return aug(x, self.preprocess), y\n",
        "    else:\n",
        "      im_tuple = (self.preprocess(x), aug(x, self.preprocess),\n",
        "                  aug(x, self.preprocess))\n",
        "      return im_tuple, y\n",
        "\n",
        "  def __len__(self):\n",
        "    return len(self.dataset)"
      ]
    },
    {
      "cell_type": "markdown",
      "metadata": {
        "id": "sxQkgc1ZZy5j"
      },
      "source": [
        "# **Load Dataset**"
      ]
    },
    {
      "cell_type": "code",
      "execution_count": 23,
      "metadata": {
        "id": "MrO3MiR_jYwH"
      },
      "outputs": [],
      "source": [
        "import os\n",
        "import copy\n",
        "import gc\n",
        "import numpy as np \n",
        "import pandas as pd\n",
        "import matplotlib.pyplot as plt\n",
        "import seaborn as sns\n",
        "from tqdm import tqdm\n",
        "\n",
        "from torchsummary import summary\n",
        "\n",
        "from PIL import Image\n",
        "from sklearn.metrics import f1_score\n",
        "\n",
        "import torch\n",
        "from torch.utils.data import Dataset, DataLoader, random_split\n",
        "import torch.nn.functional as F\n",
        "import torch.nn as nn\n",
        "\n",
        "import torchvision\n",
        "import torchvision.transforms as T\n",
        "from torchvision.utils import make_grid\n",
        "\n",
        "# pretrained models\n",
        "from efficientnet_pytorch import EfficientNet\n",
        "\n",
        "from accelerate import Accelerator"
      ]
    },
    {
      "cell_type": "code",
      "execution_count": 24,
      "metadata": {
        "id": "iVq77l4qMiwp"
      },
      "outputs": [],
      "source": [
        "accelerator = Accelerator()"
      ]
    },
    {
      "cell_type": "code",
      "execution_count": 25,
      "metadata": {
        "id": "q4WmTPuGmnbI"
      },
      "outputs": [],
      "source": [
        "sns.set_style('whitegrid')\n",
        "plt.style.use(\"fivethirtyeight\")\n",
        "pd.pandas.set_option('display.max_columns', 20)\n",
        "\n",
        "%matplotlib inline"
      ]
    },
    {
      "cell_type": "code",
      "execution_count": 26,
      "metadata": {
        "id": "zG8oxB7omtEP"
      },
      "outputs": [],
      "source": [
        "THRESHOLD = 0.4"
      ]
    },
    {
      "cell_type": "code",
      "execution_count": 27,
      "metadata": {
        "id": "WCln2HmImve2",
        "colab": {
          "base_uri": "https://localhost:8080/",
          "height": 0
        },
        "outputId": "312afd6b-2ea7-481b-e2ac-4be7486b1071"
      },
      "outputs": [
        {
          "output_type": "execute_result",
          "data": {
            "application/vnd.google.colaboratory.intrinsic+json": {
              "type": "string"
            },
            "text/plain": [
              "\"\\nDATA_DIR = '../input/jovian-pytorch-z2g/Human protein atlas'\\n\\nTRAIN_DIR = DATA_DIR + '/train'                           # Contains training images\\nTEST_DIR = DATA_DIR + '/test'                             # Contains test images\\n\\nTRAIN_CSV = DATA_DIR + '/train.csv'                       # Contains real labels for training images\\nTEST_CSV = '../input/jovian-pytorch-z2g/submission.csv'\\n\""
            ]
          },
          "metadata": {},
          "execution_count": 27
        }
      ],
      "source": [
        "'''\n",
        "DATA_DIR = '../input/jovian-pytorch-z2g/Human protein atlas'\n",
        "\n",
        "TRAIN_DIR = DATA_DIR + '/train'                           # Contains training images\n",
        "TEST_DIR = DATA_DIR + '/test'                             # Contains test images\n",
        "\n",
        "TRAIN_CSV = DATA_DIR + '/train.csv'                       # Contains real labels for training images\n",
        "TEST_CSV = '../input/jovian-pytorch-z2g/submission.csv'\n",
        "'''"
      ]
    },
    {
      "cell_type": "code",
      "execution_count": 28,
      "metadata": {
        "id": "-ZdA7Wg1rYZh"
      },
      "outputs": [],
      "source": [
        "DATA_DIR = '/content/drive/MyDrive/LR2020Sports'\n",
        "\n",
        "TRAIN_DIR = DATA_DIR + '/train'#/train'                           # Contains training images\n",
        "TEST_DIR = DATA_DIR + '/test'#/test'                           # Contains test images\n",
        "\n",
        "TRAIN_DIR_AUG = None # Path to something I need to figure out what\n",
        "\n",
        "TRAIN_CSV = DATA_DIR + '/train_labels.csv'                       # Contains real labels for training images\n",
        "TEST_CSV = DATA_DIR + '/test_images_list.csv'"
      ]
    },
    {
      "cell_type": "code",
      "execution_count": 29,
      "metadata": {
        "id": "BeIenxk2m0Ce",
        "colab": {
          "base_uri": "https://localhost:8080/",
          "height": 0
        },
        "outputId": "82ef63ee-f40e-442d-fb98-add987c44218"
      },
      "outputs": [
        {
          "output_type": "execute_result",
          "data": {
            "text/html": [
              "\n",
              "  <div id=\"df-0a31d8b2-0859-4dce-b5bb-0e078a6f486a\">\n",
              "    <div class=\"colab-df-container\">\n",
              "      <div>\n",
              "<style scoped>\n",
              "    .dataframe tbody tr th:only-of-type {\n",
              "        vertical-align: middle;\n",
              "    }\n",
              "\n",
              "    .dataframe tbody tr th {\n",
              "        vertical-align: top;\n",
              "    }\n",
              "\n",
              "    .dataframe thead th {\n",
              "        text-align: right;\n",
              "    }\n",
              "</style>\n",
              "<table border=\"1\" class=\"dataframe\">\n",
              "  <thead>\n",
              "    <tr style=\"text-align: right;\">\n",
              "      <th></th>\n",
              "      <th>image</th>\n",
              "      <th>sports</th>\n",
              "    </tr>\n",
              "  </thead>\n",
              "  <tbody>\n",
              "    <tr>\n",
              "      <th>0</th>\n",
              "      <td>./train/0.jpg</td>\n",
              "      <td>baseball</td>\n",
              "    </tr>\n",
              "    <tr>\n",
              "      <th>1</th>\n",
              "      <td>./train/1.jpg</td>\n",
              "      <td>formula1</td>\n",
              "    </tr>\n",
              "    <tr>\n",
              "      <th>2</th>\n",
              "      <td>./train/2.jpg</td>\n",
              "      <td>fencing</td>\n",
              "    </tr>\n",
              "    <tr>\n",
              "      <th>3</th>\n",
              "      <td>./train/3.jpg</td>\n",
              "      <td>motogp</td>\n",
              "    </tr>\n",
              "    <tr>\n",
              "      <th>4</th>\n",
              "      <td>./train/4.jpg</td>\n",
              "      <td>ice_hockey</td>\n",
              "    </tr>\n",
              "  </tbody>\n",
              "</table>\n",
              "</div>\n",
              "      <button class=\"colab-df-convert\" onclick=\"convertToInteractive('df-0a31d8b2-0859-4dce-b5bb-0e078a6f486a')\"\n",
              "              title=\"Convert this dataframe to an interactive table.\"\n",
              "              style=\"display:none;\">\n",
              "        \n",
              "  <svg xmlns=\"http://www.w3.org/2000/svg\" height=\"24px\"viewBox=\"0 0 24 24\"\n",
              "       width=\"24px\">\n",
              "    <path d=\"M0 0h24v24H0V0z\" fill=\"none\"/>\n",
              "    <path d=\"M18.56 5.44l.94 2.06.94-2.06 2.06-.94-2.06-.94-.94-2.06-.94 2.06-2.06.94zm-11 1L8.5 8.5l.94-2.06 2.06-.94-2.06-.94L8.5 2.5l-.94 2.06-2.06.94zm10 10l.94 2.06.94-2.06 2.06-.94-2.06-.94-.94-2.06-.94 2.06-2.06.94z\"/><path d=\"M17.41 7.96l-1.37-1.37c-.4-.4-.92-.59-1.43-.59-.52 0-1.04.2-1.43.59L10.3 9.45l-7.72 7.72c-.78.78-.78 2.05 0 2.83L4 21.41c.39.39.9.59 1.41.59.51 0 1.02-.2 1.41-.59l7.78-7.78 2.81-2.81c.8-.78.8-2.07 0-2.86zM5.41 20L4 18.59l7.72-7.72 1.47 1.35L5.41 20z\"/>\n",
              "  </svg>\n",
              "      </button>\n",
              "      \n",
              "  <style>\n",
              "    .colab-df-container {\n",
              "      display:flex;\n",
              "      flex-wrap:wrap;\n",
              "      gap: 12px;\n",
              "    }\n",
              "\n",
              "    .colab-df-convert {\n",
              "      background-color: #E8F0FE;\n",
              "      border: none;\n",
              "      border-radius: 50%;\n",
              "      cursor: pointer;\n",
              "      display: none;\n",
              "      fill: #1967D2;\n",
              "      height: 32px;\n",
              "      padding: 0 0 0 0;\n",
              "      width: 32px;\n",
              "    }\n",
              "\n",
              "    .colab-df-convert:hover {\n",
              "      background-color: #E2EBFA;\n",
              "      box-shadow: 0px 1px 2px rgba(60, 64, 67, 0.3), 0px 1px 3px 1px rgba(60, 64, 67, 0.15);\n",
              "      fill: #174EA6;\n",
              "    }\n",
              "\n",
              "    [theme=dark] .colab-df-convert {\n",
              "      background-color: #3B4455;\n",
              "      fill: #D2E3FC;\n",
              "    }\n",
              "\n",
              "    [theme=dark] .colab-df-convert:hover {\n",
              "      background-color: #434B5C;\n",
              "      box-shadow: 0px 1px 3px 1px rgba(0, 0, 0, 0.15);\n",
              "      filter: drop-shadow(0px 1px 2px rgba(0, 0, 0, 0.3));\n",
              "      fill: #FFFFFF;\n",
              "    }\n",
              "  </style>\n",
              "\n",
              "      <script>\n",
              "        const buttonEl =\n",
              "          document.querySelector('#df-0a31d8b2-0859-4dce-b5bb-0e078a6f486a button.colab-df-convert');\n",
              "        buttonEl.style.display =\n",
              "          google.colab.kernel.accessAllowed ? 'block' : 'none';\n",
              "\n",
              "        async function convertToInteractive(key) {\n",
              "          const element = document.querySelector('#df-0a31d8b2-0859-4dce-b5bb-0e078a6f486a');\n",
              "          const dataTable =\n",
              "            await google.colab.kernel.invokeFunction('convertToInteractive',\n",
              "                                                     [key], {});\n",
              "          if (!dataTable) return;\n",
              "\n",
              "          const docLinkHtml = 'Like what you see? Visit the ' +\n",
              "            '<a target=\"_blank\" href=https://colab.research.google.com/notebooks/data_table.ipynb>data table notebook</a>'\n",
              "            + ' to learn more about interactive tables.';\n",
              "          element.innerHTML = '';\n",
              "          dataTable['output_type'] = 'display_data';\n",
              "          await google.colab.output.renderOutput(dataTable, element);\n",
              "          const docLink = document.createElement('div');\n",
              "          docLink.innerHTML = docLinkHtml;\n",
              "          element.appendChild(docLink);\n",
              "        }\n",
              "      </script>\n",
              "    </div>\n",
              "  </div>\n",
              "  "
            ],
            "text/plain": [
              "           image      sports\n",
              "0  ./train/0.jpg    baseball\n",
              "1  ./train/1.jpg    formula1\n",
              "2  ./train/2.jpg     fencing\n",
              "3  ./train/3.jpg      motogp\n",
              "4  ./train/4.jpg  ice_hockey"
            ]
          },
          "metadata": {},
          "execution_count": 29
        }
      ],
      "source": [
        "data_df = pd.read_csv(TRAIN_CSV)\n",
        "data_df.head()"
      ]
    },
    {
      "cell_type": "code",
      "source": [
        "#data_df = "
      ],
      "metadata": {
        "id": "9rabFBIHjnin"
      },
      "execution_count": 30,
      "outputs": []
    },
    {
      "cell_type": "code",
      "execution_count": 31,
      "metadata": {
        "id": "TloxsQTFSES9",
        "colab": {
          "base_uri": "https://localhost:8080/",
          "height": 0
        },
        "outputId": "92dd4eb1-08f4-4eb8-d962-f7a09b674cca"
      },
      "outputs": [
        {
          "output_type": "execute_result",
          "data": {
            "text/html": [
              "\n",
              "  <div id=\"df-131eb113-092f-4480-becd-c8998542a291\">\n",
              "    <div class=\"colab-df-container\">\n",
              "      <div>\n",
              "<style scoped>\n",
              "    .dataframe tbody tr th:only-of-type {\n",
              "        vertical-align: middle;\n",
              "    }\n",
              "\n",
              "    .dataframe tbody tr th {\n",
              "        vertical-align: top;\n",
              "    }\n",
              "\n",
              "    .dataframe thead th {\n",
              "        text-align: right;\n",
              "    }\n",
              "</style>\n",
              "<table border=\"1\" class=\"dataframe\">\n",
              "  <thead>\n",
              "    <tr style=\"text-align: right;\">\n",
              "      <th></th>\n",
              "      <th>image</th>\n",
              "      <th>sports</th>\n",
              "    </tr>\n",
              "  </thead>\n",
              "  <tbody>\n",
              "    <tr>\n",
              "      <th>0</th>\n",
              "      <td>/train/0.jpg</td>\n",
              "      <td>baseball</td>\n",
              "    </tr>\n",
              "    <tr>\n",
              "      <th>1</th>\n",
              "      <td>/train/1.jpg</td>\n",
              "      <td>formula1</td>\n",
              "    </tr>\n",
              "    <tr>\n",
              "      <th>2</th>\n",
              "      <td>/train/2.jpg</td>\n",
              "      <td>fencing</td>\n",
              "    </tr>\n",
              "    <tr>\n",
              "      <th>3</th>\n",
              "      <td>/train/3.jpg</td>\n",
              "      <td>motogp</td>\n",
              "    </tr>\n",
              "    <tr>\n",
              "      <th>4</th>\n",
              "      <td>/train/4.jpg</td>\n",
              "      <td>ice_hockey</td>\n",
              "    </tr>\n",
              "  </tbody>\n",
              "</table>\n",
              "</div>\n",
              "      <button class=\"colab-df-convert\" onclick=\"convertToInteractive('df-131eb113-092f-4480-becd-c8998542a291')\"\n",
              "              title=\"Convert this dataframe to an interactive table.\"\n",
              "              style=\"display:none;\">\n",
              "        \n",
              "  <svg xmlns=\"http://www.w3.org/2000/svg\" height=\"24px\"viewBox=\"0 0 24 24\"\n",
              "       width=\"24px\">\n",
              "    <path d=\"M0 0h24v24H0V0z\" fill=\"none\"/>\n",
              "    <path d=\"M18.56 5.44l.94 2.06.94-2.06 2.06-.94-2.06-.94-.94-2.06-.94 2.06-2.06.94zm-11 1L8.5 8.5l.94-2.06 2.06-.94-2.06-.94L8.5 2.5l-.94 2.06-2.06.94zm10 10l.94 2.06.94-2.06 2.06-.94-2.06-.94-.94-2.06-.94 2.06-2.06.94z\"/><path d=\"M17.41 7.96l-1.37-1.37c-.4-.4-.92-.59-1.43-.59-.52 0-1.04.2-1.43.59L10.3 9.45l-7.72 7.72c-.78.78-.78 2.05 0 2.83L4 21.41c.39.39.9.59 1.41.59.51 0 1.02-.2 1.41-.59l7.78-7.78 2.81-2.81c.8-.78.8-2.07 0-2.86zM5.41 20L4 18.59l7.72-7.72 1.47 1.35L5.41 20z\"/>\n",
              "  </svg>\n",
              "      </button>\n",
              "      \n",
              "  <style>\n",
              "    .colab-df-container {\n",
              "      display:flex;\n",
              "      flex-wrap:wrap;\n",
              "      gap: 12px;\n",
              "    }\n",
              "\n",
              "    .colab-df-convert {\n",
              "      background-color: #E8F0FE;\n",
              "      border: none;\n",
              "      border-radius: 50%;\n",
              "      cursor: pointer;\n",
              "      display: none;\n",
              "      fill: #1967D2;\n",
              "      height: 32px;\n",
              "      padding: 0 0 0 0;\n",
              "      width: 32px;\n",
              "    }\n",
              "\n",
              "    .colab-df-convert:hover {\n",
              "      background-color: #E2EBFA;\n",
              "      box-shadow: 0px 1px 2px rgba(60, 64, 67, 0.3), 0px 1px 3px 1px rgba(60, 64, 67, 0.15);\n",
              "      fill: #174EA6;\n",
              "    }\n",
              "\n",
              "    [theme=dark] .colab-df-convert {\n",
              "      background-color: #3B4455;\n",
              "      fill: #D2E3FC;\n",
              "    }\n",
              "\n",
              "    [theme=dark] .colab-df-convert:hover {\n",
              "      background-color: #434B5C;\n",
              "      box-shadow: 0px 1px 3px 1px rgba(0, 0, 0, 0.15);\n",
              "      filter: drop-shadow(0px 1px 2px rgba(0, 0, 0, 0.3));\n",
              "      fill: #FFFFFF;\n",
              "    }\n",
              "  </style>\n",
              "\n",
              "      <script>\n",
              "        const buttonEl =\n",
              "          document.querySelector('#df-131eb113-092f-4480-becd-c8998542a291 button.colab-df-convert');\n",
              "        buttonEl.style.display =\n",
              "          google.colab.kernel.accessAllowed ? 'block' : 'none';\n",
              "\n",
              "        async function convertToInteractive(key) {\n",
              "          const element = document.querySelector('#df-131eb113-092f-4480-becd-c8998542a291');\n",
              "          const dataTable =\n",
              "            await google.colab.kernel.invokeFunction('convertToInteractive',\n",
              "                                                     [key], {});\n",
              "          if (!dataTable) return;\n",
              "\n",
              "          const docLinkHtml = 'Like what you see? Visit the ' +\n",
              "            '<a target=\"_blank\" href=https://colab.research.google.com/notebooks/data_table.ipynb>data table notebook</a>'\n",
              "            + ' to learn more about interactive tables.';\n",
              "          element.innerHTML = '';\n",
              "          dataTable['output_type'] = 'display_data';\n",
              "          await google.colab.output.renderOutput(dataTable, element);\n",
              "          const docLink = document.createElement('div');\n",
              "          docLink.innerHTML = docLinkHtml;\n",
              "          element.appendChild(docLink);\n",
              "        }\n",
              "      </script>\n",
              "    </div>\n",
              "  </div>\n",
              "  "
            ],
            "text/plain": [
              "          image      sports\n",
              "0  /train/0.jpg    baseball\n",
              "1  /train/1.jpg    formula1\n",
              "2  /train/2.jpg     fencing\n",
              "3  /train/3.jpg      motogp\n",
              "4  /train/4.jpg  ice_hockey"
            ]
          },
          "metadata": {},
          "execution_count": 31
        }
      ],
      "source": [
        "\n",
        "for index in data_df.index:\n",
        "  x = data_df.loc[index, 'image']\n",
        "  s = x[1:]\n",
        "  #print(s)\n",
        "\n",
        "  #uh = '/train/' + s\n",
        "  data_df.loc[index, 'image'] = s\n",
        "\n",
        "data_df.head()\n"
      ]
    },
    {
      "cell_type": "code",
      "execution_count": 32,
      "metadata": {
        "id": "V89AeTFqB_Cq"
      },
      "outputs": [],
      "source": [
        "train_data_f = pd.read_csv(TRAIN_CSV)\n",
        "test_data_f = pd.read_csv(TEST_CSV)\n",
        "\n",
        "#data_f = [train_data_f, test_data_f]\n",
        "#as test data has no labels\n",
        "#data_full = pd.concat(data_f)\n",
        "data_full = train_data_f"
      ]
    },
    {
      "cell_type": "code",
      "execution_count": 33,
      "metadata": {
        "id": "otq1gGVIDgSQ"
      },
      "outputs": [],
      "source": [
        "sport = data_full['sports']\n",
        "#sport = sport.unique()\n",
        "#sport"
      ]
    },
    {
      "cell_type": "code",
      "execution_count": 34,
      "metadata": {
        "id": "u0fgpAvqFWyk"
      },
      "outputs": [],
      "source": [
        "temp = []\n",
        "#res = 0\n",
        "resq = {}\n",
        "\n",
        "res_key = 0\n",
        "for key, val in sport.items():\n",
        "    if val not in temp:\n",
        "        temp.append(val)\n",
        "        resq[res_key] = val\n",
        "        res_key = res_key + 1"
      ]
    },
    {
      "cell_type": "code",
      "execution_count": 35,
      "metadata": {
        "id": "XYSdGaEvEkpq",
        "colab": {
          "base_uri": "https://localhost:8080/"
        },
        "outputId": "d6600878-469a-4252-91cb-f511684e0a75"
      },
      "outputs": [
        {
          "output_type": "execute_result",
          "data": {
            "text/plain": [
              "{0: 'baseball',\n",
              " 1: 'formula1',\n",
              " 2: 'fencing',\n",
              " 3: 'motogp',\n",
              " 4: 'ice_hockey',\n",
              " 5: 'wrestling',\n",
              " 6: 'boxing',\n",
              " 7: 'volleyball',\n",
              " 8: 'cricket',\n",
              " 9: 'basketball',\n",
              " 10: 'wwe',\n",
              " 11: 'swimming',\n",
              " 12: 'weight_lifting',\n",
              " 13: 'gymnastics',\n",
              " 14: 'tennis',\n",
              " 15: 'kabaddi',\n",
              " 16: 'badminton',\n",
              " 17: 'football',\n",
              " 18: 'table_tennis',\n",
              " 19: 'hockey',\n",
              " 20: 'shooting',\n",
              " 21: 'chess'}"
            ]
          },
          "metadata": {},
          "execution_count": 35
        }
      ],
      "source": [
        "resq"
      ]
    },
    {
      "cell_type": "code",
      "execution_count": 36,
      "metadata": {
        "id": "VfXfUCGbm29t",
        "colab": {
          "base_uri": "https://localhost:8080/",
          "height": 0
        },
        "outputId": "4d3e1d18-b9b8-4e89-ab8f-8510b7fb5a53"
      },
      "outputs": [
        {
          "output_type": "execute_result",
          "data": {
            "application/vnd.google.colaboratory.intrinsic+json": {
              "type": "string"
            },
            "text/plain": [
              "\"\\nlabels = {\\n    0: 'football',\\n    1: 'motogp',\\n    2: 'ice_hockey',\\n    3: 'chess',\\n    4: 'fencing',\\n    5: 'hockey',\\n    6: 'basketball',\\n    7: 'swimming',\\n    8: 'cricket',\\n    9: 'baseball',\\n    10: 'wwe',\\n    11: 'volleyball',\\n    12: 'badminton'\\n}\\n\""
            ]
          },
          "metadata": {},
          "execution_count": 36
        }
      ],
      "source": [
        "'''\n",
        "labels = {\n",
        "    0: 'football',\n",
        "    1: 'motogp',\n",
        "    2: 'ice_hockey',\n",
        "    3: 'chess',\n",
        "    4: 'fencing',\n",
        "    5: 'hockey',\n",
        "    6: 'basketball',\n",
        "    7: 'swimming',\n",
        "    8: 'cricket',\n",
        "    9: 'baseball',\n",
        "    10: 'wwe',\n",
        "    11: 'volleyball',\n",
        "    12: 'badminton'\n",
        "}\n",
        "'''"
      ]
    },
    {
      "cell_type": "code",
      "execution_count": 37,
      "metadata": {
        "id": "Vdmk8rOEFzXR",
        "colab": {
          "base_uri": "https://localhost:8080/"
        },
        "outputId": "0ec0d903-6e75-4800-9e48-8b3500ae1042"
      },
      "outputs": [
        {
          "output_type": "execute_result",
          "data": {
            "text/plain": [
              "{0: 'baseball',\n",
              " 1: 'formula1',\n",
              " 2: 'fencing',\n",
              " 3: 'motogp',\n",
              " 4: 'ice_hockey',\n",
              " 5: 'wrestling',\n",
              " 6: 'boxing',\n",
              " 7: 'volleyball',\n",
              " 8: 'cricket',\n",
              " 9: 'basketball',\n",
              " 10: 'wwe',\n",
              " 11: 'swimming',\n",
              " 12: 'weight_lifting',\n",
              " 13: 'gymnastics',\n",
              " 14: 'tennis',\n",
              " 15: 'kabaddi',\n",
              " 16: 'badminton',\n",
              " 17: 'football',\n",
              " 18: 'table_tennis',\n",
              " 19: 'hockey',\n",
              " 20: 'shooting',\n",
              " 21: 'chess'}"
            ]
          },
          "metadata": {},
          "execution_count": 37
        }
      ],
      "source": [
        "labels = resq\n",
        "labels"
      ]
    },
    {
      "cell_type": "code",
      "execution_count": 38,
      "metadata": {
        "id": "vBZ9gEU2wx5s",
        "colab": {
          "base_uri": "https://localhost:8080/"
        },
        "outputId": "ebcfd3ec-27cb-4451-ec40-6c632de84fc0"
      },
      "outputs": [
        {
          "output_type": "execute_result",
          "data": {
            "text/plain": [
              "{'badminton': 16,\n",
              " 'baseball': 0,\n",
              " 'basketball': 9,\n",
              " 'boxing': 6,\n",
              " 'chess': 21,\n",
              " 'cricket': 8,\n",
              " 'fencing': 2,\n",
              " 'football': 17,\n",
              " 'formula1': 1,\n",
              " 'gymnastics': 13,\n",
              " 'hockey': 19,\n",
              " 'ice_hockey': 4,\n",
              " 'kabaddi': 15,\n",
              " 'motogp': 3,\n",
              " 'shooting': 20,\n",
              " 'swimming': 11,\n",
              " 'table_tennis': 18,\n",
              " 'tennis': 14,\n",
              " 'volleyball': 7,\n",
              " 'weight_lifting': 12,\n",
              " 'wrestling': 5,\n",
              " 'wwe': 10}"
            ]
          },
          "metadata": {},
          "execution_count": 38
        }
      ],
      "source": [
        "inv_labels = {v: k for k, v in labels.items()}\n",
        "inv_labels"
      ]
    },
    {
      "cell_type": "code",
      "execution_count": 39,
      "metadata": {
        "id": "6NoOwu1Mw38Q",
        "colab": {
          "base_uri": "https://localhost:8080/"
        },
        "outputId": "2cad5539-fa0c-476e-9696-20ef78692913"
      },
      "outputs": [
        {
          "output_type": "execute_result",
          "data": {
            "text/plain": [
              "22"
            ]
          },
          "metadata": {},
          "execution_count": 39
        }
      ],
      "source": [
        "all_labels = len(labels)\n",
        "all_labels"
      ]
    },
    {
      "cell_type": "markdown",
      "metadata": {
        "id": "masLUq1ZTZFj"
      },
      "source": [
        "# **Prepare Labels and Dataloader**"
      ]
    },
    {
      "cell_type": "code",
      "execution_count": 40,
      "metadata": {
        "id": "cGhkqdbIm74J"
      },
      "outputs": [],
      "source": [
        "def encode_label(label: list) -> list:\n",
        "    ''' This functions converts labels into one-hot encoding'''\n",
        "\n",
        "    target = torch.zeros(all_labels)\n",
        "    for l in str(label).split(' '):\n",
        "        ll = inv_labels[l]\n",
        "\n",
        "        target[int(ll)] = 1.\n",
        "    return target\n",
        "\n",
        "def decode_target(target: list, text_labels: bool = False, threshold: float = THRESHOLD) -> str:\n",
        "    ''' This function converts the labels from \n",
        "        probablities to outputs or string representations\n",
        "    '''\n",
        "\n",
        "    result = []\n",
        "    for i, x in enumerate(target):\n",
        "        if (x >= threshold):\n",
        "            if text_labels:\n",
        "                result.append(labels[i] + \"(\" + str(i) + \")\")\n",
        "            else:\n",
        "                result.append(str(i))\n",
        "    return ' '.join(result)"
      ]
    },
    {
      "cell_type": "code",
      "execution_count": 41,
      "metadata": {
        "id": "0U-NRsndm_R6"
      },
      "outputs": [],
      "source": [
        "class HumanProteinDataset(Dataset):\n",
        "    '''\n",
        "        Parse raw data to form a Dataset of (X, y).\n",
        "    '''\n",
        "    def __init__(self, df, root_dir, transform=None):\n",
        "        self.df = df\n",
        "        self.transform = transform\n",
        "        self.root_dir = root_dir\n",
        "        \n",
        "    def __len__(self):\n",
        "        return len(self.df)\n",
        "    \n",
        "    def __getitem__(self, idx):\n",
        "        row = self.df.loc[idx]\n",
        "        img_id, img_label = row['Image'], row['Label']\n",
        "        #print(\"img_label :\", img_label)\n",
        "        img_fname = self.root_dir + str(img_id) \n",
        "        \n",
        "        img = Image.open(img_fname)\n",
        "        if self.transform:\n",
        "            img = self.transform(img)\n",
        "        \n",
        "        #print(\"encoded label size :\", encode_label(img_label).shape)\n",
        "        return img, encode_label(img_label)"
      ]
    },
    {
      "cell_type": "code",
      "execution_count": 42,
      "metadata": {
        "id": "7cUh6QoEnC3o",
        "colab": {
          "base_uri": "https://localhost:8080/",
          "height": 0
        },
        "outputId": "0978f662-173c-4f7e-8059-29d37ae9522e"
      },
      "outputs": [
        {
          "output_type": "execute_result",
          "data": {
            "application/vnd.google.colaboratory.intrinsic+json": {
              "type": "string"
            },
            "text/plain": [
              "'\\nfrom itertools import chain\\nfrom collections import Counter\\n\\nimage_df = pd.read_csv(TRAIN_CSV)\\n\\n\\nall_labels = list(chain.from_iterable([i.strip().split(\" \") \\n                                       for i in image_df[\\'sports\\'].values]))\\n\\nc_val = []    \\nc_val = Counter(all_labels)\\n\\nn_keys = c_val.keys()\\nmax_idx = max(n_keys)\\n\\ncounts = pd.DataFrame({\\n    \"Labels\": [labels[int(key)] for key in c_val.keys()],\\n    \"Count\": [val for val in c_val.values()]\\n})\\n\\ncounts.plot(x=\"Labels\", y=\\'Count\\', kind=\\'barh\\', title=\\'Class Imbalance\\')\\n\\ncounts.sort_values(by=\"Count\", ascending=False).style.background_gradient(cmap=\\'Reds\\')\\n'"
            ]
          },
          "metadata": {},
          "execution_count": 42
        }
      ],
      "source": [
        "\n",
        "'''\n",
        "from itertools import chain\n",
        "from collections import Counter\n",
        "\n",
        "image_df = pd.read_csv(TRAIN_CSV)\n",
        "\n",
        "\n",
        "all_labels = list(chain.from_iterable([i.strip().split(\" \") \n",
        "                                       for i in image_df['sports'].values]))\n",
        "\n",
        "c_val = []    \n",
        "c_val = Counter(all_labels)\n",
        "\n",
        "n_keys = c_val.keys()\n",
        "max_idx = max(n_keys)\n",
        "\n",
        "counts = pd.DataFrame({\n",
        "    \"Labels\": [labels[int(key)] for key in c_val.keys()],\n",
        "    \"Count\": [val for val in c_val.values()]\n",
        "})\n",
        "\n",
        "counts.plot(x=\"Labels\", y='Count', kind='barh', title='Class Imbalance')\n",
        "\n",
        "counts.sort_values(by=\"Count\", ascending=False).style.background_gradient(cmap='Reds')\n",
        "'''"
      ]
    },
    {
      "cell_type": "code",
      "execution_count": 43,
      "metadata": {
        "id": "QY9HtlOoWd61",
        "colab": {
          "base_uri": "https://localhost:8080/",
          "height": 0
        },
        "outputId": "1b7f1e9e-8c18-4580-ff42-d22d5ab07863"
      },
      "outputs": [
        {
          "output_type": "execute_result",
          "data": {
            "text/html": [
              "\n",
              "  <div id=\"df-f1f50869-9364-4ea3-b2ea-ae354941f4bb\">\n",
              "    <div class=\"colab-df-container\">\n",
              "      <div>\n",
              "<style scoped>\n",
              "    .dataframe tbody tr th:only-of-type {\n",
              "        vertical-align: middle;\n",
              "    }\n",
              "\n",
              "    .dataframe tbody tr th {\n",
              "        vertical-align: top;\n",
              "    }\n",
              "\n",
              "    .dataframe thead th {\n",
              "        text-align: right;\n",
              "    }\n",
              "</style>\n",
              "<table border=\"1\" class=\"dataframe\">\n",
              "  <thead>\n",
              "    <tr style=\"text-align: right;\">\n",
              "      <th></th>\n",
              "      <th>image</th>\n",
              "      <th>sports</th>\n",
              "    </tr>\n",
              "  </thead>\n",
              "  <tbody>\n",
              "    <tr>\n",
              "      <th>0</th>\n",
              "      <td>/train/0.jpg</td>\n",
              "      <td>baseball</td>\n",
              "    </tr>\n",
              "    <tr>\n",
              "      <th>1</th>\n",
              "      <td>/train/1.jpg</td>\n",
              "      <td>formula1</td>\n",
              "    </tr>\n",
              "    <tr>\n",
              "      <th>2</th>\n",
              "      <td>/train/2.jpg</td>\n",
              "      <td>fencing</td>\n",
              "    </tr>\n",
              "    <tr>\n",
              "      <th>3</th>\n",
              "      <td>/train/3.jpg</td>\n",
              "      <td>motogp</td>\n",
              "    </tr>\n",
              "    <tr>\n",
              "      <th>4</th>\n",
              "      <td>/train/4.jpg</td>\n",
              "      <td>ice_hockey</td>\n",
              "    </tr>\n",
              "  </tbody>\n",
              "</table>\n",
              "</div>\n",
              "      <button class=\"colab-df-convert\" onclick=\"convertToInteractive('df-f1f50869-9364-4ea3-b2ea-ae354941f4bb')\"\n",
              "              title=\"Convert this dataframe to an interactive table.\"\n",
              "              style=\"display:none;\">\n",
              "        \n",
              "  <svg xmlns=\"http://www.w3.org/2000/svg\" height=\"24px\"viewBox=\"0 0 24 24\"\n",
              "       width=\"24px\">\n",
              "    <path d=\"M0 0h24v24H0V0z\" fill=\"none\"/>\n",
              "    <path d=\"M18.56 5.44l.94 2.06.94-2.06 2.06-.94-2.06-.94-.94-2.06-.94 2.06-2.06.94zm-11 1L8.5 8.5l.94-2.06 2.06-.94-2.06-.94L8.5 2.5l-.94 2.06-2.06.94zm10 10l.94 2.06.94-2.06 2.06-.94-2.06-.94-.94-2.06-.94 2.06-2.06.94z\"/><path d=\"M17.41 7.96l-1.37-1.37c-.4-.4-.92-.59-1.43-.59-.52 0-1.04.2-1.43.59L10.3 9.45l-7.72 7.72c-.78.78-.78 2.05 0 2.83L4 21.41c.39.39.9.59 1.41.59.51 0 1.02-.2 1.41-.59l7.78-7.78 2.81-2.81c.8-.78.8-2.07 0-2.86zM5.41 20L4 18.59l7.72-7.72 1.47 1.35L5.41 20z\"/>\n",
              "  </svg>\n",
              "      </button>\n",
              "      \n",
              "  <style>\n",
              "    .colab-df-container {\n",
              "      display:flex;\n",
              "      flex-wrap:wrap;\n",
              "      gap: 12px;\n",
              "    }\n",
              "\n",
              "    .colab-df-convert {\n",
              "      background-color: #E8F0FE;\n",
              "      border: none;\n",
              "      border-radius: 50%;\n",
              "      cursor: pointer;\n",
              "      display: none;\n",
              "      fill: #1967D2;\n",
              "      height: 32px;\n",
              "      padding: 0 0 0 0;\n",
              "      width: 32px;\n",
              "    }\n",
              "\n",
              "    .colab-df-convert:hover {\n",
              "      background-color: #E2EBFA;\n",
              "      box-shadow: 0px 1px 2px rgba(60, 64, 67, 0.3), 0px 1px 3px 1px rgba(60, 64, 67, 0.15);\n",
              "      fill: #174EA6;\n",
              "    }\n",
              "\n",
              "    [theme=dark] .colab-df-convert {\n",
              "      background-color: #3B4455;\n",
              "      fill: #D2E3FC;\n",
              "    }\n",
              "\n",
              "    [theme=dark] .colab-df-convert:hover {\n",
              "      background-color: #434B5C;\n",
              "      box-shadow: 0px 1px 3px 1px rgba(0, 0, 0, 0.15);\n",
              "      filter: drop-shadow(0px 1px 2px rgba(0, 0, 0, 0.3));\n",
              "      fill: #FFFFFF;\n",
              "    }\n",
              "  </style>\n",
              "\n",
              "      <script>\n",
              "        const buttonEl =\n",
              "          document.querySelector('#df-f1f50869-9364-4ea3-b2ea-ae354941f4bb button.colab-df-convert');\n",
              "        buttonEl.style.display =\n",
              "          google.colab.kernel.accessAllowed ? 'block' : 'none';\n",
              "\n",
              "        async function convertToInteractive(key) {\n",
              "          const element = document.querySelector('#df-f1f50869-9364-4ea3-b2ea-ae354941f4bb');\n",
              "          const dataTable =\n",
              "            await google.colab.kernel.invokeFunction('convertToInteractive',\n",
              "                                                     [key], {});\n",
              "          if (!dataTable) return;\n",
              "\n",
              "          const docLinkHtml = 'Like what you see? Visit the ' +\n",
              "            '<a target=\"_blank\" href=https://colab.research.google.com/notebooks/data_table.ipynb>data table notebook</a>'\n",
              "            + ' to learn more about interactive tables.';\n",
              "          element.innerHTML = '';\n",
              "          dataTable['output_type'] = 'display_data';\n",
              "          await google.colab.output.renderOutput(dataTable, element);\n",
              "          const docLink = document.createElement('div');\n",
              "          docLink.innerHTML = docLinkHtml;\n",
              "          element.appendChild(docLink);\n",
              "        }\n",
              "      </script>\n",
              "    </div>\n",
              "  </div>\n",
              "  "
            ],
            "text/plain": [
              "          image      sports\n",
              "0  /train/0.jpg    baseball\n",
              "1  /train/1.jpg    formula1\n",
              "2  /train/2.jpg     fencing\n",
              "3  /train/3.jpg      motogp\n",
              "4  /train/4.jpg  ice_hockey"
            ]
          },
          "metadata": {},
          "execution_count": 43
        }
      ],
      "source": [
        "data_df.head()"
      ]
    },
    {
      "cell_type": "code",
      "execution_count": 44,
      "metadata": {
        "id": "62Dp3wn4PBYA"
      },
      "outputs": [],
      "source": [
        "dict = {'image': 'Image',\n",
        "        'sports': 'Label'}\n",
        " \n",
        "# call rename () method\n",
        "data_df.rename(columns=dict,\n",
        "          inplace=True)"
      ]
    },
    {
      "cell_type": "code",
      "execution_count": 45,
      "metadata": {
        "id": "iDfCYWS_nG0q",
        "colab": {
          "base_uri": "https://localhost:8080/",
          "height": 0
        },
        "outputId": "02adbcd6-724e-4a69-c761-843f32b058dc"
      },
      "outputs": [
        {
          "output_type": "stream",
          "name": "stdout",
          "text": [
            "gacha\n",
            "image_path : /content/drive/MyDrive/LR2020Sports/train/train/10146.jpg\n",
            "10146.jpg\n",
            "image_number : /train/10146.jpg\n",
            "['motogp']\n",
            "gacha\n",
            "image_path : /content/drive/MyDrive/LR2020Sports/train/train/3994.jpg\n",
            "3994.jpg\n",
            "image_number : /train/3994.jpg\n",
            "['baseball']\n",
            "gacha\n",
            "image_path : /content/drive/MyDrive/LR2020Sports/train/train/8245.jpg\n",
            "8245.jpg\n",
            "image_number : /train/8245.jpg\n",
            "['boxing']\n",
            "gacha\n",
            "image_path : /content/drive/MyDrive/LR2020Sports/train/train/1871.jpg\n",
            "1871.jpg\n",
            "image_number : /train/1871.jpg\n",
            "['wwe']\n"
          ]
        },
        {
          "output_type": "display_data",
          "data": {
            "image/png": "[encoded data removed]",
            "text/plain": [
              "<Figure size 1296x720 with 4 Axes>"
            ]
          },
          "metadata": {
            "needs_background": "light"
          }
        }
      ],
      "source": [
        "import matplotlib.image as mpimg\n",
        "\n",
        "plt.figure(figsize=(18, 10))\n",
        "\n",
        "images = os.listdir(TRAIN_DIR + '/train')\n",
        "\n",
        "for i in range(4):\n",
        "    print(\"gacha\")\n",
        "    plt.subplot(1, 4, i+1)\n",
        "    rand_image = np.random.choice(images)\n",
        "    image_path = os.path.join(TRAIN_DIR + '/train', rand_image)\n",
        "    print(\"image_path :\",image_path)\n",
        "    image_number = image_path.split('/')[-1]#[:-4]\n",
        "    print(image_number)\n",
        "    image_number =  '/train/' + image_number\n",
        "    print(\"image_number :\", image_number)\n",
        "\n",
        "    #label_ = data_df.sports.loc[data_df.image == int(image_number)].to_list()\n",
        "    label_ = data_df.Label.loc[data_df.Image == image_number].to_list()\n",
        "    print(label_)\n",
        "    image = mpimg.imread(image_path)\n",
        "    plt.title(label_[0])\n",
        "    plt.imshow(image)\n",
        "    plt.axis(\"off\")\n",
        "    \n",
        "_ = plt.suptitle(\"$Raw$ $Image$\", y=0.74, fontsize=16)"
      ]
    },
    {
      "cell_type": "code",
      "execution_count": 46,
      "metadata": {
        "id": "7GmcYzSXKYp8",
        "colab": {
          "base_uri": "https://localhost:8080/",
          "height": 0
        },
        "outputId": "cbf58e42-c31a-4981-de50-3e7dcae4c446"
      },
      "outputs": [
        {
          "data": {
            "text/html": [
              "\n",
              "  <div id=\"df-96ce3427-10a2-4067-aa32-fdc7935202ad\">\n",
              "    <div class=\"colab-df-container\">\n",
              "      <div>\n",
              "<style scoped>\n",
              "    .dataframe tbody tr th:only-of-type {\n",
              "        vertical-align: middle;\n",
              "    }\n",
              "\n",
              "    .dataframe tbody tr th {\n",
              "        vertical-align: top;\n",
              "    }\n",
              "\n",
              "    .dataframe thead th {\n",
              "        text-align: right;\n",
              "    }\n",
              "</style>\n",
              "<table border=\"1\" class=\"dataframe\">\n",
              "  <thead>\n",
              "    <tr style=\"text-align: right;\">\n",
              "      <th></th>\n",
              "      <th>Image</th>\n",
              "      <th>Label</th>\n",
              "    </tr>\n",
              "  </thead>\n",
              "  <tbody>\n",
              "    <tr>\n",
              "      <th>0</th>\n",
              "      <td>/train/0.jpg</td>\n",
              "      <td>baseball</td>\n",
              "    </tr>\n",
              "    <tr>\n",
              "      <th>1</th>\n",
              "      <td>/train/1.jpg</td>\n",
              "      <td>formula1</td>\n",
              "    </tr>\n",
              "    <tr>\n",
              "      <th>2</th>\n",
              "      <td>/train/2.jpg</td>\n",
              "      <td>fencing</td>\n",
              "    </tr>\n",
              "    <tr>\n",
              "      <th>3</th>\n",
              "      <td>/train/3.jpg</td>\n",
              "      <td>motogp</td>\n",
              "    </tr>\n",
              "    <tr>\n",
              "      <th>4</th>\n",
              "      <td>/train/4.jpg</td>\n",
              "      <td>ice_hockey</td>\n",
              "    </tr>\n",
              "    <tr>\n",
              "      <th>...</th>\n",
              "      <td>...</td>\n",
              "      <td>...</td>\n",
              "    </tr>\n",
              "    <tr>\n",
              "      <th>11035</th>\n",
              "      <td>/train/11035.jpg</td>\n",
              "      <td>motogp</td>\n",
              "    </tr>\n",
              "    <tr>\n",
              "      <th>11036</th>\n",
              "      <td>/train/11036.jpg</td>\n",
              "      <td>motogp</td>\n",
              "    </tr>\n",
              "    <tr>\n",
              "      <th>11037</th>\n",
              "      <td>/train/11037.jpg</td>\n",
              "      <td>football</td>\n",
              "    </tr>\n",
              "    <tr>\n",
              "      <th>11038</th>\n",
              "      <td>/train/11038.jpg</td>\n",
              "      <td>football</td>\n",
              "    </tr>\n",
              "    <tr>\n",
              "      <th>11039</th>\n",
              "      <td>/train/11039.jpg</td>\n",
              "      <td>formula1</td>\n",
              "    </tr>\n",
              "  </tbody>\n",
              "</table>\n",
              "<p>11040 rows × 2 columns</p>\n",
              "</div>\n",
              "      <button class=\"colab-df-convert\" onclick=\"convertToInteractive('df-96ce3427-10a2-4067-aa32-fdc7935202ad')\"\n",
              "              title=\"Convert this dataframe to an interactive table.\"\n",
              "              style=\"display:none;\">\n",
              "        \n",
              "  <svg xmlns=\"http://www.w3.org/2000/svg\" height=\"24px\"viewBox=\"0 0 24 24\"\n",
              "       width=\"24px\">\n",
              "    <path d=\"M0 0h24v24H0V0z\" fill=\"none\"/>\n",
              "    <path d=\"M18.56 5.44l.94 2.06.94-2.06 2.06-.94-2.06-.94-.94-2.06-.94 2.06-2.06.94zm-11 1L8.5 8.5l.94-2.06 2.06-.94-2.06-.94L8.5 2.5l-.94 2.06-2.06.94zm10 10l.94 2.06.94-2.06 2.06-.94-2.06-.94-.94-2.06-.94 2.06-2.06.94z\"/><path d=\"M17.41 7.96l-1.37-1.37c-.4-.4-.92-.59-1.43-.59-.52 0-1.04.2-1.43.59L10.3 9.45l-7.72 7.72c-.78.78-.78 2.05 0 2.83L4 21.41c.39.39.9.59 1.41.59.51 0 1.02-.2 1.41-.59l7.78-7.78 2.81-2.81c.8-.78.8-2.07 0-2.86zM5.41 20L4 18.59l7.72-7.72 1.47 1.35L5.41 20z\"/>\n",
              "  </svg>\n",
              "      </button>\n",
              "      \n",
              "  <style>\n",
              "    .colab-df-container {\n",
              "      display:flex;\n",
              "      flex-wrap:wrap;\n",
              "      gap: 12px;\n",
              "    }\n",
              "\n",
              "    .colab-df-convert {\n",
              "      background-color: #E8F0FE;\n",
              "      border: none;\n",
              "      border-radius: 50%;\n",
              "      cursor: pointer;\n",
              "      display: none;\n",
              "      fill: #1967D2;\n",
              "      height: 32px;\n",
              "      padding: 0 0 0 0;\n",
              "      width: 32px;\n",
              "    }\n",
              "\n",
              "    .colab-df-convert:hover {\n",
              "      background-color: #E2EBFA;\n",
              "      box-shadow: 0px 1px 2px rgba(60, 64, 67, 0.3), 0px 1px 3px 1px rgba(60, 64, 67, 0.15);\n",
              "      fill: #174EA6;\n",
              "    }\n",
              "\n",
              "    [theme=dark] .colab-df-convert {\n",
              "      background-color: #3B4455;\n",
              "      fill: #D2E3FC;\n",
              "    }\n",
              "\n",
              "    [theme=dark] .colab-df-convert:hover {\n",
              "      background-color: #434B5C;\n",
              "      box-shadow: 0px 1px 3px 1px rgba(0, 0, 0, 0.15);\n",
              "      filter: drop-shadow(0px 1px 2px rgba(0, 0, 0, 0.3));\n",
              "      fill: #FFFFFF;\n",
              "    }\n",
              "  </style>\n",
              "\n",
              "      <script>\n",
              "        const buttonEl =\n",
              "          document.querySelector('#df-96ce3427-10a2-4067-aa32-fdc7935202ad button.colab-df-convert');\n",
              "        buttonEl.style.display =\n",
              "          google.colab.kernel.accessAllowed ? 'block' : 'none';\n",
              "\n",
              "        async function convertToInteractive(key) {\n",
              "          const element = document.querySelector('#df-96ce3427-10a2-4067-aa32-fdc7935202ad');\n",
              "          const dataTable =\n",
              "            await google.colab.kernel.invokeFunction('convertToInteractive',\n",
              "                                                     [key], {});\n",
              "          if (!dataTable) return;\n",
              "\n",
              "          const docLinkHtml = 'Like what you see? Visit the ' +\n",
              "            '<a target=\"_blank\" href=https://colab.research.google.com/notebooks/data_table.ipynb>data table notebook</a>'\n",
              "            + ' to learn more about interactive tables.';\n",
              "          element.innerHTML = '';\n",
              "          dataTable['output_type'] = 'display_data';\n",
              "          await google.colab.output.renderOutput(dataTable, element);\n",
              "          const docLink = document.createElement('div');\n",
              "          docLink.innerHTML = docLinkHtml;\n",
              "          element.appendChild(docLink);\n",
              "        }\n",
              "      </script>\n",
              "    </div>\n",
              "  </div>\n",
              "  "
            ],
            "text/plain": [
              "                  Image       Label\n",
              "0          /train/0.jpg    baseball\n",
              "1          /train/1.jpg    formula1\n",
              "2          /train/2.jpg     fencing\n",
              "3          /train/3.jpg      motogp\n",
              "4          /train/4.jpg  ice_hockey\n",
              "...                 ...         ...\n",
              "11035  /train/11035.jpg      motogp\n",
              "11036  /train/11036.jpg      motogp\n",
              "11037  /train/11037.jpg    football\n",
              "11038  /train/11038.jpg    football\n",
              "11039  /train/11039.jpg    formula1\n",
              "\n",
              "[11040 rows x 2 columns]"
            ]
          },
          "execution_count": null,
          "metadata": {},
          "output_type": "execute_result"
        }
      ],
      "source": [
        "data_df"
      ]
    },
    {
      "cell_type": "code",
      "execution_count": 46,
      "metadata": {
        "id": "a9GYlfEzPPsW"
      },
      "outputs": [],
      "source": [
        ""
      ]
    },
    {
      "cell_type": "code",
      "execution_count": 46,
      "metadata": {
        "id": "wD1yroyGPh8U"
      },
      "outputs": [],
      "source": [
        ""
      ]
    },
    {
      "cell_type": "markdown",
      "metadata": {
        "id": "Ag8yVPn_Pinr"
      },
      "source": [
        "# **Run Chunks**"
      ]
    },
    {
      "cell_type": "code",
      "execution_count": 47,
      "metadata": {
        "id": "dpwe3Ai7nNfh"
      },
      "outputs": [],
      "source": [
        "def image_transformations(image_size: int) -> (object, object):\n",
        "    '''\n",
        "        Return transformations to be applied.\n",
        "        Input:\n",
        "            image_size: int\n",
        "        Output:\n",
        "            train_transformations: transformations to be applied on the training set\n",
        "            valid_tfms: transformations to be applied on the validation or test set\n",
        "    '''\n",
        "\n",
        "    # imagenet_stats = ([0.485, 0.456, 0.406], [0.229, 0.224, 0.225])\n",
        "    # https://www.kaggle.com/ronaldokun/multilabel-stratification-cv-and-ensemble\n",
        "    \n",
        "    mean = torch.tensor([0.05438065, 0.05291743, 0.07920227])\n",
        "    std = torch.tensor([0.39414383, 0.33547948, 0.38544176])\n",
        "    \n",
        "    train_trans = [           \n",
        "        T.Resize(image_size + 4),\n",
        "        T.CenterCrop(image_size),\n",
        "        T.RandomRotation(40),\n",
        "        T.RandomAffine(\n",
        "            degrees=10,\n",
        "            translate=(0.01, 0.12),\n",
        "            shear=(0.01, 0.03),\n",
        "        ),\n",
        "        T.RandomHorizontalFlip(), \n",
        "        T.RandomVerticalFlip(),\n",
        "        T.ToTensor(),\n",
        "        T.Normalize(mean, std, inplace=True), \n",
        "        T.RandomErasing(inplace=True)\n",
        "    ]\n",
        "\n",
        "    val_trans = [\n",
        "        T.Resize(image_size), \n",
        "        T.ToTensor(), \n",
        "        T.Normalize(mean, std, inplace=True)\n",
        "    ]\n",
        "\n",
        "    train_transformations = T.Compose(train_trans)\n",
        "    valid_tfms = T.Compose(val_trans)\n",
        "\n",
        "    return train_transformations, valid_tfms\n"
      ]
    },
    {
      "cell_type": "code",
      "execution_count": 48,
      "metadata": {
        "id": "SayCuTg5ngIa"
      },
      "outputs": [],
      "source": [
        "import torch\n",
        "from torchvision.datasets import ImageFolder\n",
        "from torch.utils.data import Subset\n",
        "from sklearn.model_selection import train_test_split\n",
        "from torchvision.transforms import Compose, ToTensor, Resize\n",
        "from torch.utils.data import DataLoader\n",
        "\n",
        "\n",
        "def train_val_dataset(dataset, val_split=0.25):\n",
        "    train_idx, val_idx = train_test_split(list(range(len(dataset))), test_size=val_split)\n",
        "    datasets = {}\n",
        "    datasets['train'] = Subset(dataset, train_idx)\n",
        "    datasets['val'] = Subset(dataset, val_idx)\n",
        "    return datasets\n",
        "\n",
        "\n",
        "def get_train_dataset(image_size: int) -> (object, object):\n",
        "    ''' get training_dataset\n",
        "        Input:\n",
        "            image_size: int\n",
        "        output:\n",
        "            train_ds: training dataset object\n",
        "            val_ds: validation dataset object\n",
        "    '''\n",
        "\n",
        "    print(\"CATDUCK\")\n",
        "\n",
        "    np.random.seed(42)  \n",
        "    #msk = np.random.rand(len()) < 0.9\n",
        "    #train_df = data_df[msk].reset_index()\n",
        "    #val_df = data_df[~msk].reset_index()\n",
        "\n",
        "    IMAGE_SIZE = image_size\n",
        "\n",
        "\n",
        "\n",
        "    # get transformation according to the architecture\n",
        "    train_tfms, valid_tfms = image_transformations(image_size)\n",
        "\n",
        "    # fetch dataset\n",
        "\n",
        "    mean = [0.485, 0.456, 0.406]\n",
        "    std = [0.229, 0.224, 0.225]\n",
        "    train_transform = transforms.Compose(\n",
        "      [transforms.RandomResizedCrop(224),\n",
        "      transforms.RandomHorizontalFlip()])\n",
        "    preprocess = transforms.Compose(\n",
        "      [transforms.ToTensor(),\n",
        "      transforms.Normalize(mean, std)])\n",
        "    '''\n",
        "    test_transform = transforms.Compose([\n",
        "      transforms.Resize(256),\n",
        "      transforms.CenterCrop(224),\n",
        "      preprocess,\n",
        "    ])\n",
        "    '''\n",
        "    #traindir = os.path.join(args.clean_data, 'train')\n",
        "    #valdir = os.path.join(args.clean_data, 'val')\n",
        "    traindir = TRAIN_DIR\n",
        "\n",
        "\n",
        "    full_train_dataset = ImageFolder(traindir, train_transform)\n",
        "    msk = np.random.rand(len(full_train_dataset)) < 0.9\n",
        "    #train_dataset = full_train_dataset[msk].reset_index()\n",
        "    #validate_dataset = full_train_dataset[~msk].reset.index()\n",
        "\n",
        "    datasets = train_val_dataset(full_train_dataset)\n",
        "\n",
        "    train_dataset = datasets['train']\n",
        "    validate_dataset = datasets['val']\n",
        "\n",
        "    train_dataset = AugMixDataset(train_dataset, preprocess)\n",
        "    validate_dataset = AugMixDataset(validate_dataset, preprocess)\n",
        "\n",
        "    #train_ds = HumanProteinDataset(train_df, TRAIN_DIR, transform=train_tfms)\n",
        "    #val_ds = HumanProteinDataset(val_df, TRAIN_DIR, transform=valid_tfms)\n",
        "\n",
        "    print(\"Salmaso\")\n",
        "    \n",
        "    return train_dataset, validate_dataset"
      ]
    },
    {
      "cell_type": "code",
      "execution_count": 49,
      "metadata": {
        "id": "EwzPDAtknkhe"
      },
      "outputs": [],
      "source": [
        "def get_train_dataloader(image_size: int, batch_size: int=64) -> (object, object):\n",
        "    '''\n",
        "        Returns train and test dataloaders.\n",
        "        Input:\n",
        "            image_size: int\n",
        "            batch_size: [optional] int\n",
        "        Output:\n",
        "            train_dl: train dataloader object\n",
        "            valid_dl: validation dataloader object\n",
        "    '''\n",
        "\n",
        "    train_ds, valid_ds = get_train_dataset(image_size)\n",
        "\n",
        "    train_dl = DataLoader(train_ds, batch_size, shuffle=True, \n",
        "                      num_workers=1, pin_memory=True)  #num_workers=3\n",
        "    valid_dl = DataLoader(valid_ds, batch_size*2, \n",
        "                    num_workers=1, pin_memory=True) #num_worker = 2\n",
        "    \n",
        "    return train_dl, valid_dl"
      ]
    },
    {
      "cell_type": "code",
      "execution_count": null,
      "metadata": {
        "id": "6gK8VXn4noX1"
      },
      "outputs": [],
      "source": [
        "def get_test_dataloader(image_size: int, batch_size: int=64) -> object:\n",
        "    '''\n",
        "        Returns test set dataloaders.\n",
        "        Input:\n",
        "            image_size: int\n",
        "            batch_size: [optional] int\n",
        "        Output:\n",
        "            test_dl: test dataloader object\n",
        "    '''\n",
        "\n",
        "    test_df = pd.read_csv(TEST_CSV)\n",
        "\n",
        "    # get transformations same as validation set\n",
        "    _, valid_tfms = image_transformations(image_size)\n",
        "    \n",
        "    test_dataset = HumanProteinDataset(test_df, TEST_DIR, transform=valid_tfms)\n",
        "    test_dl = DataLoader(test_dataset, batch_size, num_workers=3, pin_memory=True)\n",
        "    test_dl = DeviceDataLoader(test_dl, device)\n",
        "    return test_dl"
      ]
    },
    {
      "cell_type": "code",
      "execution_count": 51,
      "metadata": {
        "id": "_iBuw_4SnrfP"
      },
      "outputs": [],
      "source": [
        "def get_default_device():\n",
        "    \"\"\"Pick GPU if available, else CPU\"\"\"\n",
        "    if torch.cuda.is_available():\n",
        "        return torch.device('cuda')\n",
        "    else:\n",
        "        return torch.device('cpu')\n",
        "    \n",
        "def to_device(data, device):\n",
        "    \"\"\"Move tensor(s) to chosen device\"\"\"\n",
        "    if isinstance(data, (list,tuple)):\n",
        "        return [to_device(x, device) for x in data]\n",
        "    return data.to(device, non_blocking=True)\n",
        "\n",
        "class DeviceDataLoader():\n",
        "    \"\"\"Wrap a dataloader to move data to a device\"\"\"\n",
        "    def __init__(self, dl, device):\n",
        "        self.dl = dl\n",
        "        self.device = device\n",
        "        \n",
        "    def __iter__(self):\n",
        "        \"\"\"Yield a batch of data after moving it to device\"\"\"\n",
        "        for b in self.dl: \n",
        "            yield to_device(b, self.device)\n",
        "\n",
        "    def __len__(self):\n",
        "        \"\"\"Number of batches\"\"\"\n",
        "        return len(self.dl)"
      ]
    },
    {
      "cell_type": "markdown",
      "metadata": {
        "id": "CqTGLF0yPw4J"
      },
      "source": [
        "# **Set Device**"
      ]
    },
    {
      "cell_type": "code",
      "execution_count": 52,
      "metadata": {
        "id": "Q5-DEmtunwFx",
        "colab": {
          "base_uri": "https://localhost:8080/"
        },
        "outputId": "b7abd06d-ff48-48b1-c053-8211dd717e57"
      },
      "outputs": [
        {
          "output_type": "execute_result",
          "data": {
            "text/plain": [
              "device(type='cpu')"
            ]
          },
          "metadata": {},
          "execution_count": 52
        }
      ],
      "source": [
        "#device = get_default_device()   ###################################### HERE Replace with accelerator calls\n",
        "device = accelerator.device\n",
        "device"
      ]
    },
    {
      "cell_type": "markdown",
      "metadata": {
        "id": "INaFOi4GP2AB"
      },
      "source": [
        ""
      ]
    },
    {
      "cell_type": "markdown",
      "metadata": {
        "id": "F8iV59yPQMtm"
      },
      "source": [
        "# **Model load and Train**"
      ]
    },
    {
      "cell_type": "code",
      "execution_count": 53,
      "metadata": {
        "colab": {
          "base_uri": "https://localhost:8080/"
        },
        "id": "MQ3cuMxFn7gj",
        "outputId": "bf7feadd-78a0-46a0-d5ff-3196118182cd"
      },
      "outputs": [
        {
          "output_type": "stream",
          "name": "stdout",
          "text": [
            "Loaded pretrained weights for efficientnet-b1\n"
          ]
        }
      ],
      "source": [
        "models = {\n",
        "#     \"EfficientNet-b0\": EfficientNet.from_pretrained('efficientnet-b0'),\n",
        "    \"EfficientNet-b1\": EfficientNet.from_pretrained('efficientnet-b1'), \n",
        "#     \"EfficientNet-b2\": EfficientNet.from_pretrained('efficientnet-b2'),\n",
        "#     \"EfficientNet-b3\": EfficientNet.from_pretrained('efficientnet-b3'),\n",
        "}\n",
        "\n",
        "image_sizes = {\n",
        "    \"EfficientNet-b0\": 224,\n",
        "    \"EfficientNet-b1\": 240,\n",
        "    \"EfficientNet-b2\": 260,\n",
        "    'EfficientNet-b3': 300,\n",
        "    'EfficientNet-b4': 380,\n",
        "}\n",
        "\n",
        "augmentations.IMAGE_SIZE = image_sizes[\"EfficientNet-b1\"]\n",
        "\n",
        "batch_sizes = {\n",
        "    \"EfficientNet-b0\": 10, #150,\n",
        "    \"EfficientNet-b1\": 10, #100,\n",
        "    \"EfficientNet-b2\": 10, #100,\n",
        "    'EfficientNet-b3': 10, #100\n",
        "    'EfficientNet-b4': 10\n",
        "}"
      ]
    },
    {
      "cell_type": "code",
      "execution_count": 54,
      "metadata": {
        "id": "6zdLbPsXoCeE"
      },
      "outputs": [],
      "source": [
        "def F_score(output: list, label: list, threshold: float=THRESHOLD, beta: float=1.0) -> float:\n",
        "    '''\n",
        "        Returns the F-score for the model\n",
        "        Input:\n",
        "            output: array of outputs\n",
        "            label: array of labels\n",
        "            treshold: optionfloat -> consider output probablity if above the index\n",
        "            beta: [optional] float\n",
        "        Output:\n",
        "            float -> F-score\n",
        "    '''\n",
        "\n",
        "    prob = output > threshold\n",
        "    label = label > threshold\n",
        "\n",
        "    TP = (prob & label).sum(1).float()\n",
        "    TN = ((~prob) & (~label)).sum(1).float()\n",
        "    FP = (prob & (~label)).sum(1).float()\n",
        "    FN = ((~prob) & label).sum(1).float()\n",
        "\n",
        "    precision = torch.mean(TP / (TP + FP + 1e-12))\n",
        "    recall = torch.mean(TP / (TP + FN + 1e-12))\n",
        "    F2 = (1 + beta**2) * precision * recall / (beta**2 * precision + recall + 1e-12)\n",
        "    return F2.mean(0)"
      ]
    },
    {
      "cell_type": "code",
      "source": [
        "CRITERION = SupConLoss(temperature=temp)"
      ],
      "metadata": {
        "id": "NKr4Do_Y7pss"
      },
      "execution_count": 55,
      "outputs": []
    },
    {
      "cell_type": "code",
      "execution_count": 56,
      "metadata": {
        "id": "l2JtGtW4oGqp"
      },
      "outputs": [],
      "source": [
        "# This class can be used for any Image Classification problem\n",
        "\n",
        "class MultilabelImageClassificationBase(nn.Module):\n",
        "    def training_step(self, batch):\n",
        "        print(\"SWAN\")\n",
        "        images, targets = batch\n",
        "        \n",
        "        print(\"KapPa\")\n",
        "        #print(\"images :\", images)\n",
        "        #print(\"targets :\", targets)\n",
        "        print(\"WARP\")\n",
        "        #ipdb.set_trace()\n",
        "        out = self(images)\n",
        "        print(\"Giraffe ######################################################################################################################\")\n",
        "        print(\"out shape :\", out.shape)\n",
        "        print(\"Dolphin ######################################################################################################################\")                  \n",
        "        loss = F.binary_cross_entropy(out, targets) + CRITERION(out, targets)    \n",
        "        score = F_score(out, targets)\n",
        "        return {'loss': loss, 'score': score.detach()}\n",
        "\n",
        "    def validation_step(self, batch):\n",
        "        images, targets = batch \n",
        "        out = self(images)                           # Generate predictions\n",
        "        loss = F.binary_cross_entropy(out, targets)  # Calculate loss\n",
        "        score = F_score(out, targets)\n",
        "        return {'val_loss': loss.detach(), 'val_score': score.detach() }\n",
        "        \n",
        "    def validation_epoch_end(self, outputs):\n",
        "        batch_losses = [x['val_loss'] for x in outputs]\n",
        "        epoch_loss = torch.stack(batch_losses).mean()   # Combine losses\n",
        "        batch_scores = [x['val_score'] for x in outputs]\n",
        "        epoch_score = torch.stack(batch_scores).mean()      # Combine accuracies\n",
        "        return {'val_loss': epoch_loss.item(), 'val_score': epoch_score.item()}\n",
        "    \n",
        "    def get_metrics_epoch_end(self, outputs, validation=True):\n",
        "        if validation:\n",
        "            loss_ = 'val_loss'\n",
        "            score_ = 'val_score'\n",
        "        else:\n",
        "            loss_ = 'loss'\n",
        "            score_ = 'score'\n",
        "\n",
        "        batch_losses = [x[f'{loss_}'] for x in outputs]\n",
        "        epoch_loss = torch.stack(batch_losses).mean()   \n",
        "        batch_scores = [x[f'{score_}'] \n",
        "                        for x in outputs]\n",
        "        epoch_scores = torch.stack(batch_scores).mean()      \n",
        "        return {f'{loss_}': epoch_loss.item(), f'{score_}': epoch_scores.item()}\n",
        "    \n",
        "    def epoch_end(self, epoch, result, epochs):\n",
        "        print(f\"Epoch: {epoch+1}/{epochs} -> last_lr: {result['lrs'][-1]:.4f}, train_loss: {result['loss']:.4f}, train_score: {result['score']:.4f}, val_loss: {result['val_loss']:.4f}, val_score: {result['val_score']:.4f}\")"
      ]
    },
    {
      "cell_type": "code",
      "execution_count": 57,
      "metadata": {
        "id": "bK5TwyyQoMIg"
      },
      "outputs": [],
      "source": [
        "class ProteinModel(MultilabelImageClassificationBase):\n",
        "\n",
        "    @staticmethod\n",
        "    def get_sequential(num_ftrs):\n",
        "        linear_layers = nn.Sequential(\n",
        "                nn.BatchNorm1d(num_features=num_ftrs),    \n",
        "                nn.Linear(num_ftrs, 512),\n",
        "                nn.ReLU(),\n",
        "                nn.BatchNorm1d(512),\n",
        "                nn.Linear(512, 128),\n",
        "                nn.ReLU(),\n",
        "                nn.BatchNorm1d(num_features=128),\n",
        "                nn.Dropout(0.4),\n",
        "                nn.Linear(128, 22),\n",
        "            )\n",
        "        return linear_layers\n",
        "\n",
        "    def __init__(self, model_name=None, model=None, input_size=None):\n",
        "        super().__init__()\n",
        "        \n",
        "        # Use a pretrained model\n",
        "        self.model_name = model_name\n",
        "        self.model = copy.deepcopy(model)\n",
        "        self.IS = input_size\n",
        "        \n",
        "        # Replace last layer\n",
        "        #self.num_ftrs = self.model._fc.in_features\n",
        "        #self.model._fc = ProteinModel.get_sequential(self.num_ftrs)\n",
        "\n",
        "    def forward(self, xb):\n",
        "        return torch.sigmoid(self.model(xb))\n",
        "\n",
        "    def freeze(self):\n",
        "        \n",
        "        # To freeze the residual layers\n",
        "        for param in self.model.parameters():\n",
        "            param.require_grad = False\n",
        "\n",
        "        for param in self.model._fc.parameters():\n",
        "            param.require_grad = True\n",
        "    \n",
        "    def unfreeze(self):\n",
        "        # Unfreeze all layers\n",
        "        for param in self.model.parameters():\n",
        "            param.require_grad = True\n",
        "\n",
        "    def __repr__(self):\n",
        "        return f\"{self.model}\"\n",
        "    \n",
        "    def __str__(self):\n",
        "        summary(self.model, (3, self.IS, self.IS))\n",
        "        text_ = \\\n",
        "        f'''\n",
        "            Model Name: {self.model_name}\n",
        "            FC Layer input: {self.num_ftrs}\n",
        "        '''\n",
        "        return text_"
      ]
    },
    {
      "cell_type": "code",
      "execution_count": 58,
      "metadata": {
        "id": "IIZbYoE_oVw_"
      },
      "outputs": [],
      "source": [
        "@torch.no_grad()\n",
        "def evaluate(model: object, val_loader: object) -> dict:\n",
        "    '''\n",
        "        Evaluate model on the validation set\n",
        "        Input:\n",
        "            model: training model object\n",
        "            val_loder: validation data loader object\n",
        "        Output:\n",
        "            validation metrics\n",
        "    '''\n",
        "\n",
        "    model.eval()\n",
        "    outputs = [model.validation_step(batch) for batch in val_loader]\n",
        "    return model.get_metrics_epoch_end(outputs=outputs, validation=True)\n",
        "\n",
        "\n",
        "def get_lr(optimizer: object) -> float:\n",
        "    ''' Returns current learning rate'''\n",
        "\n",
        "    for param_group in optimizer.param_groups:\n",
        "        return param_group['lr']\n",
        "\n",
        "\n",
        "def fit_model(model_name: str,\n",
        "              model: object, \n",
        "              epochs: int, \n",
        "              lr: float, \n",
        "              train_loader: object, \n",
        "              val_loader: object,\n",
        "              opt_func: object=torch.optim.SGD):\n",
        "    '''\n",
        "        This function is responsible for training our model.\n",
        "        We use a One Cycle learning rate policy to update our learning rate \n",
        "        with each epoch.\n",
        "        The best model is saved during each epoch.\n",
        "        Input:\n",
        "            model_name: str \n",
        "            model: object\n",
        "            epochs: int -> Max epochs\n",
        "            lr: float -> learning rate\n",
        "            train_loader: training set data loader\n",
        "            val_loader: validation set data loader\n",
        "            opt_func: optimzer object\n",
        "        Output:\n",
        "            history: list of metrics\n",
        "    '''\n",
        "\n",
        "\n",
        "    \n",
        "    torch.cuda.empty_cache()\n",
        "    BEST_VAL_SCORE = 0.0 # for keeping track of best model score\n",
        "    history = []\n",
        "\n",
        "    optimizer = opt_func(model.parameters(), lr)\n",
        "\n",
        "    \n",
        "\n",
        "    # scheduler = torch.optim.lr_scheduler.OneCycleLR(optimizer=optimizer, max_lr=max_lr,\n",
        "    #                                                 epochs=epochs, \n",
        "    #                                                 steps_per_epoch=len(train_loader))\n",
        "    \n",
        "    scheduler = torch.optim.lr_scheduler.ReduceLROnPlateau(optimizer, 'max', patience=1, cooldown=1)\n",
        "\n",
        "    print(\"TAP\")\n",
        "\n",
        "    \n",
        "    print(f\"Transfer Learning -> Model: {model_name}\") \n",
        "    for epoch in range(epochs):\n",
        "\n",
        "        # unfreeze for last 50% of epochs\n",
        "        if epoch == (epochs // 2):\n",
        "            model.unfreeze()\n",
        "            print(f\"Fine-tuning: {model_name}\")\n",
        "#             optimizer = opt_func(model.parameters(), unfreeze_max_lr, \n",
        "#                                  weight_decay=weight_decay)\n",
        "            \n",
        "#             scheduler = torch.optim.lr_scheduler.OneCycleLR(optimizer=optimizer,  \n",
        "#                                                             max_lr=unfreeze_max_lr, \n",
        "#                                                             epochs=epochs//2,  \n",
        "#                                                             steps_per_epoch=len(train_loader))\n",
        "        \n",
        "        # log epoch metrics\n",
        "        train_history = []\n",
        "        lrs = []\n",
        "\n",
        "        # Training Phase \n",
        "        model.train()\n",
        "\n",
        "        print(\"WW\")\n",
        "        \n",
        "        for batch in tqdm(train_loader, desc=f'Epoch: {epoch+1}/{epochs}'):\n",
        "\n",
        "            print(\"KRUP\")\n",
        "\n",
        "            for iop in batch :\n",
        "              print(iop)\n",
        "\n",
        "            \n",
        "            print(\"PLUS\")\n",
        "\n",
        "            images, targets = batch\n",
        "\n",
        "            print(\"TUP\")\n",
        "\n",
        "\n",
        "\n",
        "            info = model.training_step(batch)\n",
        "            print(\"batch :\", type(batch))\n",
        "            print(\"CAN\")\n",
        "            loss = info['loss']\n",
        "            # contains batch loss and acc for training phase\n",
        "            train_history.append(info)\n",
        "            #loss.backward()\n",
        "\n",
        "            accelerator.backward(loss)\n",
        "\n",
        "            print(\"TUP\")\n",
        "\n",
        "            # Gradient clipping\n",
        "            \n",
        "            nn.utils.clip_grad_value_(model.parameters(), 1e-4)\n",
        "\n",
        "            optimizer.step()\n",
        "            optimizer.zero_grad()\n",
        "\n",
        "            lrs.append(get_lr(optimizer))\n",
        "            # scheduler.step()\n",
        "\n",
        "\n",
        "\n",
        "        print(\"QUIP\")\n",
        "        train_result = model.get_metrics_epoch_end(train_history, validation=False)\n",
        "        val_result = evaluate(model, val_loader)\n",
        "        result = {**train_result, **val_result}\n",
        "        \n",
        "        # call scheduler to check validation loss\n",
        "        scheduler.step(result['val_score'])\n",
        "\n",
        "        result['lrs'] = lrs\n",
        "        model.epoch_end(epoch, result, epochs)\n",
        "\n",
        "\n",
        "        # Save the best model\n",
        "        if result['val_score'] > BEST_VAL_SCORE:\n",
        "            BEST_VAL_SCORE = result['val_score']\n",
        "            save_name = f\"{model_name}_epoch-{epoch+1}_score-{round(result['val_score'], 4)}.pth\"\n",
        "            !rm -f '{model_name}'_*\n",
        "            torch.save(model.state_dict(), save_name)\n",
        "            \n",
        "            # generate predictions using the best model\n",
        "            \n",
        "            print(\"Genearating predictions on the Test set\")\n",
        "            generate_prediction(model, image_sizes[model_name])\n",
        "\n",
        "        history.append(result)\n",
        "    return history"
      ]
    },
    {
      "cell_type": "code",
      "execution_count": 59,
      "metadata": {
        "id": "0pRBtc6vo38z"
      },
      "outputs": [],
      "source": [
        "# functions to fetch test dataset and generate submission file for best model\n",
        "\n",
        "def load_best(model_name: str) -> object:\n",
        "    '''Returns the best model'''\n",
        "\n",
        "    model = models[model_name]\n",
        "    image_size = image_sizes[model_name]\n",
        "    model_v2 = CrossEfficientViT(config='configs/architecture.yaml')\n",
        "    best_model = ProteinModel(model_name, model, image_size)\n",
        "\n",
        "    # load trained weights\n",
        "    path = r\"./\"\n",
        "    file_path = ''\n",
        "    \n",
        "    for i in os.listdir(path):\n",
        "        if os.path.isfile(os.path.join(path,i)) and i.startswith('EfficientNet'):\n",
        "            file_path = os.path.join(path, i)\n",
        "            \n",
        "    print(f\"Loading model: {file_path[2:]}\")\n",
        "    best_model.load_state_dict(torch.load(file_path))\n",
        "    # set model to gpu\n",
        "    best_model = to_device(best_model, device)\n",
        "    return best_model   \n",
        "\n",
        "\n",
        "@torch.no_grad()\n",
        "def generate_prediction(model: object, image_size: int) -> None:\n",
        "    '''Generate prediction on the test set and creates a csv file'''\n",
        "\n",
        "    test_dl = get_test_dataloader(image_size)\n",
        "\n",
        "    model.eval()\n",
        "    # clear cuda cache\n",
        "    torch.cuda.empty_cache()\n",
        "\n",
        "    # generate predictions\n",
        "    batch_probs = []\n",
        "    for xb, _ in test_dl:\n",
        "        probs = model(xb)\n",
        "        batch_probs.append(probs.cpu().detach())\n",
        "    batch_probs = torch.cat(batch_probs)\n",
        "    test_preds = [decode_target(x) for x in batch_probs]\n",
        "\n",
        "    # generate submistion file\n",
        "    submission_df = pd.read_csv(TEST_CSV)\n",
        "    submission_df.Label = test_preds\n",
        "    sub_fname = f'/content/drive/MyDrive/LR2Y20Sports/LR2020Sports/submission_{model_name}.csv'\n",
        "    submission_df.to_csv(sub_fname, index=False)\n",
        "    print(f\"Prediction file: {sub_fname} generated\\n\")"
      ]
    },
    {
      "cell_type": "code",
      "execution_count": 60,
      "metadata": {
        "id": "uroxXYjhyqVp"
      },
      "outputs": [],
      "source": [
        "import gc"
      ]
    },
    {
      "cell_type": "code",
      "execution_count": 61,
      "metadata": {
        "id": "_5RSzz4PcwEv",
        "colab": {
          "base_uri": "https://localhost:8080/",
          "height": 0
        },
        "outputId": "3bef0994-cb3c-430a-d6ae-82b10f7df028"
      },
      "outputs": [
        {
          "output_type": "execute_result",
          "data": {
            "application/vnd.google.colaboratory.intrinsic+json": {
              "type": "string"
            },
            "text/plain": [
              "'\\ntrain_loader = torch.utils.data.DataLoader(\\n    train_dataset,\\n    batch_size=args.batch_size,\\n    shuffle=True,\\n    num_workers=args.num_workers)\\nval_loader = torch.utils.data.DataLoader(\\n    datasets.ImageFolder(valdir, test_transform),\\n    batch_size=args.batch_size,\\n    shuffle=False,\\n    num_workers=args.num_workers)\\n'"
            ]
          },
          "metadata": {},
          "execution_count": 61
        }
      ],
      "source": [
        "mean = [0.485, 0.456, 0.406]\n",
        "std = [0.229, 0.224, 0.225]\n",
        "train_transform = transforms.Compose(\n",
        "    [transforms.RandomResizedCrop(224),\n",
        "    transforms.RandomHorizontalFlip()])\n",
        "preprocess = transforms.Compose(\n",
        "    [transforms.ToTensor(),\n",
        "    transforms.Normalize(mean, std)])\n",
        "'''\n",
        "test_transform = transforms.Compose([\n",
        "    transforms.Resize(256),\n",
        "    transforms.CenterCrop(224),\n",
        "    preprocess,\n",
        "])\n",
        "'''\n",
        "#traindir = os.path.join(args.clean_data, 'train')\n",
        "#valdir = os.path.join(args.clean_data, 'val')\n",
        "traindir = TRAIN_DIR\n",
        "\n",
        "train_dataset = datasets.ImageFolder(traindir, train_transform)\n",
        "train_dataset = AugMixDataset(train_dataset, preprocess)\n",
        "\n",
        "\n",
        "\n",
        "\n",
        "\n",
        "\n",
        "\n",
        "'''\n",
        "train_loader = torch.utils.data.DataLoader(\n",
        "    train_dataset,\n",
        "    batch_size=args.batch_size,\n",
        "    shuffle=True,\n",
        "    num_workers=args.num_workers)\n",
        "val_loader = torch.utils.data.DataLoader(\n",
        "    datasets.ImageFolder(valdir, test_transform),\n",
        "    batch_size=args.batch_size,\n",
        "    shuffle=False,\n",
        "    num_workers=args.num_workers)\n",
        "'''"
      ]
    },
    {
      "cell_type": "code",
      "source": [
        ""
      ],
      "metadata": {
        "id": "87SAcrNIt79X"
      },
      "execution_count": null,
      "outputs": []
    },
    {
      "cell_type": "code",
      "execution_count": 62,
      "metadata": {
        "id": "IDJkIjbzpEHO"
      },
      "outputs": [],
      "source": [
        "def end_to_end(model_name: str, parameters: dict=None) -> dict:\n",
        "    '''\n",
        "        A simple function end-to-end training and testing on the selected model.\n",
        "        Inputs:\n",
        "            model_name: str -> chosen model name\n",
        "            parameters: dict -> dictionary of hyperparameters for the model\n",
        "        Outputs:\n",
        "            history: dict -> dictionary containing model metrics(loss, score, lr)\n",
        "\n",
        "    '''\n",
        "    \n",
        "    torch.cuda.empty_cache()\n",
        "    gc.collect()\n",
        "    print(\"A\")\n",
        "\n",
        "    # hyperparameters\n",
        "    image_size = image_sizes[model_name]\n",
        "    augmentations.IMAGE_SIZE = image_size\n",
        "    BATCH_SIZE = batch_sizes[model_name]\n",
        "    epochs = parameters[\"epochs\"]\n",
        "    lr = parameters[\"lr\"]\n",
        "    opt_func = parameters[\"opt_func\"]\n",
        "    print(\"B\")\n",
        "\n",
        "    # get transformed dataset\n",
        "    #ipdb.set_trace()\n",
        "    train_dl, valid_dl = get_train_dataloader(image_size, batch_size=BATCH_SIZE)\n",
        "    print(\"CDO\")\n",
        "    # move dataset to use GPU\n",
        "    train_dl = DeviceDataLoader(train_dl, device)\n",
        "    valid_dl = DeviceDataLoader(valid_dl, device)\n",
        "\n",
        "    print(\"DOW\")\n",
        "\n",
        "    # get model\n",
        "    model = models[model_name]\n",
        "    image_size = image_sizes[model_name]\n",
        "    #ipdb.set_trace()\n",
        "\n",
        "    config = benedict.from_yaml('/content/drive/MyDrive/LR2Y20Sports/LR2020Sports/crossWefficientWvit/crossWefficientWvit/configs/architecture.yaml')\n",
        "\n",
        "    model_v2 = CrossEfficientViT(config=config)\n",
        "\n",
        "    print(\"MOB\")\n",
        "    model = ProteinModel(model_name, model_v2, image_size)    \n",
        "    # convert to cuda\n",
        "    model = to_device(model, device)\n",
        "     \n",
        "\n",
        "    # move model to GPU\n",
        "    model = to_device(model, device)\n",
        "\n",
        "    print(\"GUM\")\n",
        "    \n",
        "    # train model\n",
        "    ipdb.set_trace()\n",
        "    history = fit_model(\n",
        "                model_name,\n",
        "                model, \n",
        "                epochs, \n",
        "                lr, \n",
        "                train_dl, \n",
        "                valid_dl,\n",
        "                opt_func\n",
        "            )\n",
        "    \n",
        "    \n",
        "    print(\"SUN\")\n",
        "\n",
        "    # cleaning\n",
        "    torch.cuda.empty_cache()\n",
        "    gc.collect()\n",
        "    \n",
        "    return history"
      ]
    },
    {
      "cell_type": "code",
      "execution_count": 63,
      "metadata": {
        "id": "ge6pNoeQpIWU"
      },
      "outputs": [],
      "source": [
        "# TRAINING CONSTANTS\n",
        "\n",
        "training_parameters = {\n",
        "    \"epochs\": 20,\n",
        "    \"lr\": 0.001,\n",
        "    \"opt_func\": torch.optim.Adam,\n",
        "}"
      ]
    },
    {
      "cell_type": "code",
      "execution_count": 63,
      "metadata": {
        "id": "bvnsjmaqQDU2"
      },
      "outputs": [],
      "source": [
        ""
      ]
    },
    {
      "cell_type": "markdown",
      "metadata": {
        "id": "yLs5wKzCQFVq"
      },
      "source": [
        "# **History and Plot**"
      ]
    },
    {
      "cell_type": "code",
      "execution_count": 63,
      "metadata": {
        "id": "fQzO59EXApwg"
      },
      "outputs": [],
      "source": [
        ""
      ]
    },
    {
      "cell_type": "code",
      "execution_count": 64,
      "metadata": {
        "id": "NvTdeVqPQv9R",
        "colab": {
          "base_uri": "https://localhost:8080/"
        },
        "outputId": "80f2d0fe-4c73-4e36-f269-cd3de3f26f6b"
      },
      "outputs": [
        {
          "output_type": "stream",
          "name": "stdout",
          "text": [
            "{'epochs': 20, 'lr': 0.001, 'opt_func': <class 'torch.optim.adam.Adam'>}\n"
          ]
        }
      ],
      "source": [
        "print(training_parameters)"
      ]
    },
    {
      "cell_type": "code",
      "execution_count": 65,
      "metadata": {
        "id": "lPyfcFtwcaP3",
        "colab": {
          "base_uri": "https://localhost:8080/",
          "height": 0
        },
        "outputId": "b5669059-a328-4639-a572-e50a346bbe12"
      },
      "outputs": [
        {
          "output_type": "execute_result",
          "data": {
            "text/html": [
              "\n",
              "  <div id=\"df-e1e3073c-4f7f-4ced-aeca-9d86854f757b\">\n",
              "    <div class=\"colab-df-container\">\n",
              "      <div>\n",
              "<style scoped>\n",
              "    .dataframe tbody tr th:only-of-type {\n",
              "        vertical-align: middle;\n",
              "    }\n",
              "\n",
              "    .dataframe tbody tr th {\n",
              "        vertical-align: top;\n",
              "    }\n",
              "\n",
              "    .dataframe thead th {\n",
              "        text-align: right;\n",
              "    }\n",
              "</style>\n",
              "<table border=\"1\" class=\"dataframe\">\n",
              "  <thead>\n",
              "    <tr style=\"text-align: right;\">\n",
              "      <th></th>\n",
              "      <th>Image</th>\n",
              "      <th>Label</th>\n",
              "    </tr>\n",
              "  </thead>\n",
              "  <tbody>\n",
              "    <tr>\n",
              "      <th>0</th>\n",
              "      <td>/train/0.jpg</td>\n",
              "      <td>baseball</td>\n",
              "    </tr>\n",
              "    <tr>\n",
              "      <th>1</th>\n",
              "      <td>/train/1.jpg</td>\n",
              "      <td>formula1</td>\n",
              "    </tr>\n",
              "    <tr>\n",
              "      <th>2</th>\n",
              "      <td>/train/2.jpg</td>\n",
              "      <td>fencing</td>\n",
              "    </tr>\n",
              "    <tr>\n",
              "      <th>3</th>\n",
              "      <td>/train/3.jpg</td>\n",
              "      <td>motogp</td>\n",
              "    </tr>\n",
              "    <tr>\n",
              "      <th>4</th>\n",
              "      <td>/train/4.jpg</td>\n",
              "      <td>ice_hockey</td>\n",
              "    </tr>\n",
              "  </tbody>\n",
              "</table>\n",
              "</div>\n",
              "      <button class=\"colab-df-convert\" onclick=\"convertToInteractive('df-e1e3073c-4f7f-4ced-aeca-9d86854f757b')\"\n",
              "              title=\"Convert this dataframe to an interactive table.\"\n",
              "              style=\"display:none;\">\n",
              "        \n",
              "  <svg xmlns=\"http://www.w3.org/2000/svg\" height=\"24px\"viewBox=\"0 0 24 24\"\n",
              "       width=\"24px\">\n",
              "    <path d=\"M0 0h24v24H0V0z\" fill=\"none\"/>\n",
              "    <path d=\"M18.56 5.44l.94 2.06.94-2.06 2.06-.94-2.06-.94-.94-2.06-.94 2.06-2.06.94zm-11 1L8.5 8.5l.94-2.06 2.06-.94-2.06-.94L8.5 2.5l-.94 2.06-2.06.94zm10 10l.94 2.06.94-2.06 2.06-.94-2.06-.94-.94-2.06-.94 2.06-2.06.94z\"/><path d=\"M17.41 7.96l-1.37-1.37c-.4-.4-.92-.59-1.43-.59-.52 0-1.04.2-1.43.59L10.3 9.45l-7.72 7.72c-.78.78-.78 2.05 0 2.83L4 21.41c.39.39.9.59 1.41.59.51 0 1.02-.2 1.41-.59l7.78-7.78 2.81-2.81c.8-.78.8-2.07 0-2.86zM5.41 20L4 18.59l7.72-7.72 1.47 1.35L5.41 20z\"/>\n",
              "  </svg>\n",
              "      </button>\n",
              "      \n",
              "  <style>\n",
              "    .colab-df-container {\n",
              "      display:flex;\n",
              "      flex-wrap:wrap;\n",
              "      gap: 12px;\n",
              "    }\n",
              "\n",
              "    .colab-df-convert {\n",
              "      background-color: #E8F0FE;\n",
              "      border: none;\n",
              "      border-radius: 50%;\n",
              "      cursor: pointer;\n",
              "      display: none;\n",
              "      fill: #1967D2;\n",
              "      height: 32px;\n",
              "      padding: 0 0 0 0;\n",
              "      width: 32px;\n",
              "    }\n",
              "\n",
              "    .colab-df-convert:hover {\n",
              "      background-color: #E2EBFA;\n",
              "      box-shadow: 0px 1px 2px rgba(60, 64, 67, 0.3), 0px 1px 3px 1px rgba(60, 64, 67, 0.15);\n",
              "      fill: #174EA6;\n",
              "    }\n",
              "\n",
              "    [theme=dark] .colab-df-convert {\n",
              "      background-color: #3B4455;\n",
              "      fill: #D2E3FC;\n",
              "    }\n",
              "\n",
              "    [theme=dark] .colab-df-convert:hover {\n",
              "      background-color: #434B5C;\n",
              "      box-shadow: 0px 1px 3px 1px rgba(0, 0, 0, 0.15);\n",
              "      filter: drop-shadow(0px 1px 2px rgba(0, 0, 0, 0.3));\n",
              "      fill: #FFFFFF;\n",
              "    }\n",
              "  </style>\n",
              "\n",
              "      <script>\n",
              "        const buttonEl =\n",
              "          document.querySelector('#df-e1e3073c-4f7f-4ced-aeca-9d86854f757b button.colab-df-convert');\n",
              "        buttonEl.style.display =\n",
              "          google.colab.kernel.accessAllowed ? 'block' : 'none';\n",
              "\n",
              "        async function convertToInteractive(key) {\n",
              "          const element = document.querySelector('#df-e1e3073c-4f7f-4ced-aeca-9d86854f757b');\n",
              "          const dataTable =\n",
              "            await google.colab.kernel.invokeFunction('convertToInteractive',\n",
              "                                                     [key], {});\n",
              "          if (!dataTable) return;\n",
              "\n",
              "          const docLinkHtml = 'Like what you see? Visit the ' +\n",
              "            '<a target=\"_blank\" href=https://colab.research.google.com/notebooks/data_table.ipynb>data table notebook</a>'\n",
              "            + ' to learn more about interactive tables.';\n",
              "          element.innerHTML = '';\n",
              "          dataTable['output_type'] = 'display_data';\n",
              "          await google.colab.output.renderOutput(dataTable, element);\n",
              "          const docLink = document.createElement('div');\n",
              "          docLink.innerHTML = docLinkHtml;\n",
              "          element.appendChild(docLink);\n",
              "        }\n",
              "      </script>\n",
              "    </div>\n",
              "  </div>\n",
              "  "
            ],
            "text/plain": [
              "          Image       Label\n",
              "0  /train/0.jpg    baseball\n",
              "1  /train/1.jpg    formula1\n",
              "2  /train/2.jpg     fencing\n",
              "3  /train/3.jpg      motogp\n",
              "4  /train/4.jpg  ice_hockey"
            ]
          },
          "metadata": {},
          "execution_count": 65
        }
      ],
      "source": [
        "data_df.head()"
      ]
    },
    {
      "cell_type": "code",
      "execution_count": 66,
      "metadata": {
        "id": "ifcb3_rocy_g"
      },
      "outputs": [],
      "source": [
        "dict = {'image': 'Image',\n",
        "        'sports': 'Label'}\n",
        " \n",
        "# call rename () method\n",
        "data_df.rename(columns=dict,\n",
        "          inplace=True)"
      ]
    },
    {
      "cell_type": "code",
      "execution_count": 67,
      "metadata": {
        "id": "hQqL_3GDc5c0",
        "colab": {
          "base_uri": "https://localhost:8080/",
          "height": 0
        },
        "outputId": "83871ed3-b188-41aa-ce40-ad683eca12bc"
      },
      "outputs": [
        {
          "output_type": "execute_result",
          "data": {
            "application/vnd.google.colaboratory.intrinsic+json": {
              "type": "string"
            },
            "text/plain": [
              "\"\\ndict = {'Image': 'image',\\n        'Label': 'sports'}\\n \\n# call rename () method\\ndata_df.rename(columns=dict,\\n          inplace=True)\\n\""
            ]
          },
          "metadata": {},
          "execution_count": 67
        }
      ],
      "source": [
        "'''\n",
        "dict = {'Image': 'image',\n",
        "        'Label': 'sports'}\n",
        " \n",
        "# call rename () method\n",
        "data_df.rename(columns=dict,\n",
        "          inplace=True)\n",
        "'''"
      ]
    },
    {
      "cell_type": "code",
      "execution_count": null,
      "metadata": {
        "id": "h4ykRtnypLKi",
        "colab": {
          "base_uri": "https://localhost:8080/"
        },
        "outputId": "1cbbe7f2-6517-4544-cd7d-bcf79501bb74"
      },
      "outputs": [
        {
          "output_type": "stream",
          "name": "stdout",
          "text": [
            "A\n",
            "B\n",
            "CATDUCK\n",
            "Salmaso\n",
            "CDO\n",
            "DOW\n",
            "CATTy\n",
            "<class 'benedict.dicts.benedict'>\n",
            "CAT\n",
            "Loaded pretrained weights for efficientnet-b1\n",
            "Loaded pretrained weights for efficientnet-b1\n",
            "LAP\n",
            "e\n",
            "MOB\n"
          ]
        },
        {
          "output_type": "stream",
          "name": "stderr",
          "text": [
            "\n",
            "PYDEV DEBUGGER WARNING:\n",
            "sys.settrace() should not be used when the debugger is being used.\n",
            "This may cause the debugger to stop working correctly.\n",
            "If this is needed, please check: \n",
            "http://pydev.blogspot.com/2007/06/why-cant-pydev-debugger-work-with.html\n",
            "to see how to restore the debug tracing back correctly.\n",
            "Call Location:\n",
            "  File \"/usr/lib/python3.7/bdb.py\", line 332, in set_trace\n",
            "    sys.settrace(self.trace_dispatch)\n",
            "\n"
          ]
        },
        {
          "output_type": "stream",
          "name": "stdout",
          "text": [
            "GUM\n",
            "> \u001b[0;32m<ipython-input-62-96b56bc1e1bb>\u001b[0m(57)\u001b[0;36mend_to_end\u001b[0;34m()\u001b[0m\n",
            "\u001b[0;32m     56 \u001b[0;31m    \u001b[0mipdb\u001b[0m\u001b[0;34m.\u001b[0m\u001b[0mset_trace\u001b[0m\u001b[0;34m(\u001b[0m\u001b[0;34m)\u001b[0m\u001b[0;34m\u001b[0m\u001b[0;34m\u001b[0m\u001b[0m\n",
            "\u001b[0m\u001b[0;32m---> 57 \u001b[0;31m    history = fit_model(\n",
            "\u001b[0m\u001b[0;32m     58 \u001b[0;31m                \u001b[0mmodel_name\u001b[0m\u001b[0;34m,\u001b[0m\u001b[0;34m\u001b[0m\u001b[0;34m\u001b[0m\u001b[0m\n",
            "\u001b[0m\n"
          ]
        }
      ],
      "source": [
        "model_name = \"EfficientNet-b1\"\n",
        "\n",
        "#%xmode Verbose\n",
        "#%debug\n",
        "import ipdb\n",
        "#ipdb.set_trace()\n",
        "\n",
        "#ipdb.set_trace()\n",
        "\n",
        "history = end_to_end(model_name, training_parameters)\n"
      ]
    },
    {
      "cell_type": "code",
      "execution_count": null,
      "metadata": {
        "id": "ZtP7f98fAuiG"
      },
      "outputs": [],
      "source": [
        "#%debug"
      ]
    },
    {
      "cell_type": "code",
      "source": [
        ""
      ],
      "metadata": {
        "id": "ULiaQGUj_n5E"
      },
      "execution_count": null,
      "outputs": []
    },
    {
      "cell_type": "code",
      "execution_count": null,
      "metadata": {
        "id": "r5NcqtkZpW2O"
      },
      "outputs": [],
      "source": [
        "# plotting metrics\n",
        "\n",
        "def plot_accuracies(history):\n",
        "    train_score = [r['score'] for r in history]\n",
        "    val_score = [r['val_score'] for r in history]\n",
        "    plt.plot(train_score, '-kx', label=\"train_score\")\n",
        "    plt.plot(val_score, '-rx', label=\"val_score\")\n",
        "    plt.legend()\n",
        "    _ = plt.xticks(ticks=range(len(train_score)), \n",
        "                   labels=[str(i) for i in range(1, len(train_score)+1)])\n",
        "    plt.xlabel('epoch')\n",
        "    plt.ylabel('F1-Score')\n",
        "    plt.title('F1-Score vs. epochs')\n",
        "\n",
        "def plot_losses(history):\n",
        "    train_losses = [r['loss'] for r in history]\n",
        "    val_losses = [r['val_loss'] for r in history]\n",
        "    plt.plot(train_losses, '-kx', label=\"train_loss\")\n",
        "    plt.plot(val_losses, '-rx', label=\"val_loss\")\n",
        "    plt.legend()\n",
        "    _ = plt.xticks(ticks=range(len(train_losses)), \n",
        "                   labels=[str(i) for i in range(1, len(train_losses)+1)])\n",
        "    plt.xlabel('epoch')\n",
        "    plt.ylabel('loss')\n",
        "    plt.title('Loss vs. epochs')\n",
        "\n",
        "def plot_lrs(history):\n",
        "    lrs = np.concatenate([x.get('lrs', []) for x in history])\n",
        "    plt.plot(lrs)\n",
        "    plt.xlabel('Batch no.')\n",
        "    plt.ylabel('Learning rate')\n",
        "    plt.title('Learning Rate vs. Batch no.');"
      ]
    },
    {
      "cell_type": "code",
      "execution_count": null,
      "metadata": {
        "id": "qe19-yEOpX4C"
      },
      "outputs": [],
      "source": [
        "# plotting score and loss\n",
        "plt.figure(figsize=(25, 6))\n",
        "plt.subplot(1, 3, 1)\n",
        "plot_accuracies(history)\n",
        "plt.subplot(1, 3, 2)\n",
        "plot_losses(history)\n",
        "\n",
        "plt.subplot(1, 3, 3)\n",
        "plot_lrs(history)\n"
      ]
    },
    {
      "cell_type": "code",
      "execution_count": null,
      "metadata": {
        "id": "saU9RNKUYOIs"
      },
      "outputs": [],
      "source": [
        ""
      ]
    },
    {
      "cell_type": "markdown",
      "source": [
        "# **Load Best and Generate Submission.csv from Test Loader**"
      ],
      "metadata": {
        "id": "R_Tj8zwt_9vd"
      }
    },
    {
      "cell_type": "code",
      "execution_count": null,
      "metadata": {
        "id": "pgvkmH3ZYQEx"
      },
      "outputs": [],
      "source": [
        "model_test = load_best(model_name)\n",
        "generate_prediction(model=model_test, image_size=image_sizes[model_name])"
      ]
    },
    {
      "cell_type": "code",
      "execution_count": null,
      "metadata": {
        "id": "UxbXbcoZYQHj"
      },
      "outputs": [],
      "source": [
        ""
      ]
    },
    {
      "cell_type": "code",
      "execution_count": null,
      "metadata": {
        "id": "jdKd2QfmYQKd"
      },
      "outputs": [],
      "source": [
        ""
      ]
    },
    {
      "cell_type": "markdown",
      "source": [
        "# **TEST ACCURACY**"
      ],
      "metadata": {
        "id": "sKaTfwBd9Sku"
      }
    },
    {
      "cell_type": "code",
      "source": [
        ""
      ],
      "metadata": {
        "id": "6BtXYNQg9Ra1"
      },
      "execution_count": null,
      "outputs": []
    },
    {
      "cell_type": "markdown",
      "metadata": {
        "id": "fsK8Cc7W5L_y"
      },
      "source": [
        "# **IMP LINKS**"
      ]
    },
    {
      "cell_type": "code",
      "execution_count": null,
      "metadata": {
        "id": "VqTqrqg4os6S"
      },
      "outputs": [],
      "source": [
        "# https://towardsdatascience.com/vision-transformers-or-convolutional-neural-networks-both-de1a2c3c62e4 - efficientNet + Vision Transformer"
      ]
    },
    {
      "cell_type": "code",
      "execution_count": null,
      "metadata": {
        "colab": {
          "base_uri": "https://localhost:8080/",
          "height": 90
        },
        "id": "bChBWt_Ln1hV",
        "outputId": "b5f125b1-7253-4a43-bd38-6cf11c3b4d0f"
      },
      "outputs": [
        {
          "data": {
            "application/vnd.google.colaboratory.intrinsic+json": {
              "type": "string"
            },
            "text/plain": [
              "'\\nhttps://drive.google.com/drive/my-drive\\nhttps://towardsdatascience.com/vision-transformers-or-convolutional-neural-networks-both-de1a2c3c62e4\\nhttps://arxiv.org/pdf/2107.02612.pdf\\nhttps://github.com/davide-coccomini/Combining-EfficientNet-and-Vision-Transformers-for-Video-Deepfake-Detection\\nhttps://www.kaggle.com/kaushal2896/data-augmentation-tutorial-basic-cutout-mixup\\nhttps://github.com/JasonZhang156/awesome-mixed-sample-data-augmentation\\nhttps://github.com/google-research/augmix\\nhttps://github.com/google-research/augmix/blob/master/augment_and_mix.py\\nhttps://github.com/google-research/augmix/blob/master/imagenet.py\\nhttps://github.com/HobbitLong/SupContrast\\nhttps://drive.google.com/drive/my-drive\\nhttps://colab.research.google.com/drive/1UopQPpIF_oRFHWPK0D8iulp9wQD410pD\\n\\n'"
            ]
          },
          "execution_count": 67,
          "metadata": {},
          "output_type": "execute_result"
        }
      ],
      "source": [
        "'''\n",
        "https://drive.google.com/drive/my-drive\n",
        "https://towardsdatascience.com/vision-transformers-or-convolutional-neural-networks-both-de1a2c3c62e4\n",
        "https://arxiv.org/pdf/2107.02612.pdf\n",
        "https://github.com/davide-coccomini/Combining-EfficientNet-and-Vision-Transformers-for-Video-Deepfake-Detection\n",
        "https://www.kaggle.com/kaushal2896/data-augmentation-tutorial-basic-cutout-mixup\n",
        "https://github.com/JasonZhang156/awesome-mixed-sample-data-augmentation\n",
        "https://github.com/google-research/augmix\n",
        "https://github.com/google-research/augmix/blob/master/augment_and_mix.py\n",
        "https://github.com/google-research/augmix/blob/master/imagenet.py\n",
        "https://github.com/HobbitLong/SupContrast\n",
        "https://drive.google.com/drive/my-drive\n",
        "https://colab.research.google.com/drive/1UopQPpIF_oRFHWPK0D8iulp9wQD410pD\n",
        "\n",
        "'''"
      ]
    },
    {
      "cell_type": "code",
      "execution_count": null,
      "metadata": {
        "id": "Rwi2SVpwOCpe"
      },
      "outputs": [],
      "source": [
        ""
      ]
    },
    {
      "cell_type": "code",
      "execution_count": null,
      "metadata": {
        "id": "BdeRa5CsOCsA"
      },
      "outputs": [],
      "source": [
        ""
      ]
    },
    {
      "cell_type": "markdown",
      "metadata": {
        "id": "8HtEwXm75QJe"
      },
      "source": [
        "# **Rough Work**"
      ]
    },
    {
      "cell_type": "code",
      "execution_count": null,
      "metadata": {
        "id": "2qRgKhtbOCuX"
      },
      "outputs": [],
      "source": [
        ""
      ]
    },
    {
      "cell_type": "code",
      "execution_count": null,
      "metadata": {
        "id": "Gg_npesbOCw4"
      },
      "outputs": [],
      "source": [
        ""
      ]
    },
    {
      "cell_type": "code",
      "execution_count": null,
      "metadata": {
        "id": "A5hd0iZSOC1D"
      },
      "outputs": [],
      "source": [
        ""
      ]
    },
    {
      "cell_type": "code",
      "execution_count": null,
      "metadata": {
        "id": "crxJLFrTODAD"
      },
      "outputs": [],
      "source": [
        ""
      ]
    },
    {
      "cell_type": "code",
      "execution_count": null,
      "metadata": {
        "id": "c-GNZB6fyRMq"
      },
      "outputs": [],
      "source": [
        "#! python /content/drive/MyDrive/Code/3D_medical_image_FSS-main/FSS1000/test.py"
      ]
    },
    {
      "cell_type": "code",
      "execution_count": null,
      "metadata": {
        "colab": {
          "base_uri": "https://localhost:8080/",
          "height": 35
        },
        "id": "hsilmh7Wk_DM",
        "outputId": "1f5ce38f-b9e5-4cf5-f838-8409dbfbc767"
      },
      "outputs": [
        {
          "data": {
            "application/vnd.google.colaboratory.intrinsic+json": {
              "type": "string"
            },
            "text/plain": [
              "\"\\nfrom google.colab import drive\\ndrive.mount('/content/drive')\\n\""
            ]
          },
          "execution_count": 60,
          "metadata": {},
          "output_type": "execute_result"
        }
      ],
      "source": [
        "'''\n",
        "from google.colab import drive\n",
        "drive.mount('/content/drive')\n",
        "'''"
      ]
    },
    {
      "cell_type": "code",
      "execution_count": null,
      "metadata": {
        "id": "J9X8ErEJdVlv"
      },
      "outputs": [],
      "source": [
        "#! python  /content/Code/3D_medical_image_FSS-main/PANet/test.py"
      ]
    },
    {
      "cell_type": "markdown",
      "metadata": {
        "id": "n0bMjplm-tRo"
      },
      "source": [
        ""
      ]
    },
    {
      "cell_type": "markdown",
      "metadata": {
        "id": "q_cftia7IXou"
      },
      "source": [
        "# **Second Drive Setup**"
      ]
    },
    {
      "cell_type": "code",
      "execution_count": null,
      "metadata": {
        "colab": {
          "base_uri": "https://localhost:8080/"
        },
        "id": "4MbBHA-KIWhT",
        "outputId": "45efa113-544a-4b32-ff78-44dd4e19128f"
      },
      "outputs": [
        {
          "name": "stdout",
          "output_type": "stream",
          "text": [
            "E: Package 'python-software-properties' has no installation candidate\n",
            "Selecting previously unselected package google-drive-ocamlfuse.\n",
            "(Reading database ... 155229 files and directories currently installed.)\n",
            "Preparing to unpack .../google-drive-ocamlfuse_0.7.27-0ubuntu1~ubuntu18.04.1_amd64.deb ...\n",
            "Unpacking google-drive-ocamlfuse (0.7.27-0ubuntu1~ubuntu18.04.1) ...\n",
            "Setting up google-drive-ocamlfuse (0.7.27-0ubuntu1~ubuntu18.04.1) ...\n",
            "Processing triggers for man-db (2.8.3-2ubuntu0.1) ...\n",
            "Please, open the following URL in a web browser: https://accounts.google.com/o/oauth2/auth?client_id=32555940559.apps.googleusercontent.com&redirect_uri=urn%3Aietf%3Awg%3Aoauth%3A2.0%3Aoob&scope=https%3A%2F%2Fwww.googleapis.com%2Fauth%2Fdrive&response_type=code&access_type=offline&approval_prompt=force\n",
            "··········\n",
            "Please, open the following URL in a web browser: https://accounts.google.com/o/oauth2/auth?client_id=32555940559.apps.googleusercontent.com&redirect_uri=urn%3Aietf%3Awg%3Aoauth%3A2.0%3Aoob&scope=https%3A%2F%2Fwww.googleapis.com%2Fauth%2Fdrive&response_type=code&access_type=offline&approval_prompt=force\n",
            "Please enter the verification code: Access token retrieved correctly.\n"
          ]
        }
      ],
      "source": [
        "!apt-get install -y -qq software-properties-common python-software-properties module-init-tools\n",
        "!add-apt-repository -y ppa:alessandro-strada/ppa 2>&1 > /dev/null\n",
        "!apt-get update -qq 2>&1 > /dev/null\n",
        "!apt-get -y install -qq google-drive-ocamlfuse fuse\n",
        "from google.colab import auth\n",
        "auth.authenticate_user()\n",
        "from oauth2client.client import GoogleCredentials\n",
        "creds = GoogleCredentials.get_application_default()\n",
        "import getpass\n",
        "!google-drive-ocamlfuse -headless -id={creds.client_id} -secret={creds.client_secret} < /dev/null 2>&1 | grep URL\n",
        "vcode = getpass.getpass()\n",
        "!echo {vcode} | google-drive-ocamlfuse -headless -id={creds.client_id} -secret={creds.client_secret}\n",
        "!mkdir -p /drive2\n",
        "!google-drive-ocamlfuse /drive2"
      ]
    },
    {
      "cell_type": "code",
      "execution_count": null,
      "metadata": {
        "colab": {
          "base_uri": "https://localhost:8080/"
        },
        "id": "oz34l8CYJbw7",
        "outputId": "ad725c83-aa61-4315-f275-b43a21b51d37"
      },
      "outputs": [
        {
          "name": "stdout",
          "output_type": "stream",
          "text": [
            "/drive2\n"
          ]
        }
      ],
      "source": [
        "%cd /drive2/"
      ]
    },
    {
      "cell_type": "code",
      "execution_count": null,
      "metadata": {
        "colab": {
          "base_uri": "https://localhost:8080/"
        },
        "id": "dDNFiqc9JqyB",
        "outputId": "9f6eb503-c32c-41df-f316-06cc882c915d"
      },
      "outputs": [
        {
          "name": "stdout",
          "output_type": "stream",
          "text": [
            "/content\n"
          ]
        }
      ],
      "source": [
        "%cd /content/"
      ]
    },
    {
      "cell_type": "markdown",
      "metadata": {
        "id": "Yc_ODzQ1-1t-"
      },
      "source": [
        "# **Raw**"
      ]
    },
    {
      "cell_type": "code",
      "execution_count": null,
      "metadata": {
        "id": "N_HOWGoqidmp"
      },
      "outputs": [],
      "source": [
        ""
      ]
    },
    {
      "cell_type": "code",
      "execution_count": null,
      "metadata": {
        "id": "QZu_r5uKidr7"
      },
      "outputs": [],
      "source": [
        ""
      ]
    },
    {
      "cell_type": "code",
      "execution_count": null,
      "metadata": {
        "id": "GPwtYOmvQeTs"
      },
      "outputs": [],
      "source": [
        "! apt-get install rar\n",
        "!rar a \"/content/drive/MyDrive/Baseline_Code\" \"/content/Code\""
      ]
    },
    {
      "cell_type": "code",
      "execution_count": null,
      "metadata": {
        "id": "XmRbIyreXkvJ"
      },
      "outputs": [],
      "source": [
        "from nilearn import plotting\n",
        "import pylab as plt\n",
        "%matplotlib inline\n",
        "import matplotlib.pyplot as plt\n",
        "import numpy as np\n",
        "import nibabel as nb"
      ]
    },
    {
      "cell_type": "code",
      "execution_count": null,
      "metadata": {
        "id": "2Nfayb8ghlZq"
      },
      "outputs": [],
      "source": [
        "import requests\n",
        "image_url = \"https://download.pytorch.org/models/vgg16-397923af.pth\"\n",
        "  \n",
        "# URL of the image to be downloaded is defined as image_url\n",
        "r = requests.get(image_url) # create HTTP response object\n",
        "  \n",
        "# send a HTTP request to the server and save\n",
        "# the HTTP response in a response object called r\n",
        "with open(\"vgg16-397923af.pth\",'wb') as f:\n",
        "  \n",
        "    # Saving received content as a png file in\n",
        "    # binary format\n",
        "  \n",
        "    # write the contents of the response (r.content)\n",
        "    # to a new file in binary mode.\n",
        "    f.write(r.content)"
      ]
    },
    {
      "cell_type": "code",
      "execution_count": null,
      "metadata": {
        "id": "pa_eo0d6LoFJ"
      },
      "outputs": [],
      "source": [
        "! pip install --target=$nb_path nilearn "
      ]
    },
    {
      "cell_type": "code",
      "execution_count": null,
      "metadata": {
        "id": "ieeb6I0zQkYf"
      },
      "outputs": [],
      "source": [
        "!pip install --target=$nb_path tensorboardX"
      ]
    },
    {
      "cell_type": "code",
      "execution_count": null,
      "metadata": {
        "id": "Lh4hMSjjQ0nP"
      },
      "outputs": [],
      "source": [
        "!pip install --target=$nb_path sacred"
      ]
    },
    {
      "cell_type": "code",
      "execution_count": null,
      "metadata": {
        "id": "4KSFQVmGOs5p"
      },
      "outputs": [],
      "source": [
        "!pip install --target=$nb_path simpleitk "
      ]
    },
    {
      "cell_type": "code",
      "execution_count": null,
      "metadata": {
        "colab": {
          "base_uri": "https://localhost:8080/"
        },
        "id": "zi_lWA0bs-JM",
        "outputId": "6cffbfd3-d659-4edc-9d5f-e79b5b7bdb29"
      },
      "outputs": [
        {
          "name": "stdout",
          "output_type": "stream",
          "text": [
            "Collecting simpleitk\n",
            "  Using cached SimpleITK-2.1.1-cp37-cp37m-manylinux_2_12_x86_64.manylinux2010_x86_64.whl (48.4 MB)\n",
            "Installing collected packages: simpleitk\n",
            "Successfully installed simpleitk-2.1.1\n"
          ]
        }
      ],
      "source": [
        "!pip install simpleitk "
      ]
    },
    {
      "cell_type": "code",
      "execution_count": null,
      "metadata": {
        "id": "7uSBoG-rWBoa"
      },
      "outputs": [],
      "source": [
        "!unzip \"/content/drive/MyDrive/volumes 100-139.zip\" -d \"/content/CTOrg/\"\n",
        "!unzip \"/content/drive/MyDrive/labels and README.zip\" -d \"/content/CTOrg/\""
      ]
    },
    {
      "cell_type": "code",
      "execution_count": null,
      "metadata": {
        "id": "4EyLxBxGi_-L"
      },
      "outputs": [],
      "source": [
        "!pwd"
      ]
    },
    {
      "cell_type": "code",
      "execution_count": null,
      "metadata": {
        "id": "mEP6d3Rstupw"
      },
      "outputs": [],
      "source": [
        "/content/Code/Data"
      ]
    },
    {
      "cell_type": "code",
      "execution_count": null,
      "metadata": {
        "id": "ItMI10BxmBDZ"
      },
      "outputs": [],
      "source": [
        "! rm -rf /content/Code/Data_y"
      ]
    },
    {
      "cell_type": "code",
      "execution_count": null,
      "metadata": {
        "id": "GRbBZ8YRSxA9"
      },
      "outputs": [],
      "source": [
        "! python /content/Code/3D_medical_image_FSS-main/process/abdomen_2d_3way.py"
      ]
    },
    {
      "cell_type": "code",
      "execution_count": null,
      "metadata": {
        "id": "I41xuIjp-RMr"
      },
      "outputs": [],
      "source": [
        "! zip -r Code.zip Code"
      ]
    },
    {
      "cell_type": "code",
      "execution_count": null,
      "metadata": {
        "id": "UfaEkyoAVGJn"
      },
      "outputs": [],
      "source": [
        "! unzip \"/content/Code.zip\" -d \"/content/\""
      ]
    }
  ],
  "metadata": {
    "colab": {
      "collapsed_sections": [
        "YCQpMpneAbJ7",
        "oABZy9Bl_n7a",
        "MDNadwUP_xKv",
        "31qUgfOV92_2",
        "SmohsI2n-hJy",
        "FQ7-CtHCpzW5",
        "XX_V2A0k-6Xo",
        "LMAYLkoiakKy",
        "sxQkgc1ZZy5j",
        "masLUq1ZTZFj",
        "Ag8yVPn_Pinr",
        "CqTGLF0yPw4J",
        "F8iV59yPQMtm",
        "yLs5wKzCQFVq",
        "R_Tj8zwt_9vd",
        "sKaTfwBd9Sku",
        "fsK8Cc7W5L_y",
        "8HtEwXm75QJe",
        "q_cftia7IXou",
        "Yc_ODzQ1-1t-"
      ],
      "name": "Supervised_Baselines (1).ipynb",
      "provenance": []
    },
    "kernelspec": {
      "display_name": "Python 3",
      "name": "python3"
    },
    "language_info": {
      "name": "python"
    }
  },
  "nbformat": 4,
  "nbformat_minor": 0
}